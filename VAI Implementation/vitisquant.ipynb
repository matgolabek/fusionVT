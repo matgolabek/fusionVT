{
 "cells": [
  {
   "cell_type": "code",
   "execution_count": 1,
   "metadata": {
    "scrolled": true
   },
   "outputs": [],
   "source": [
    "# !pip install -r requirements.txt\n",
    "# !pip list\n",
    "\n",
    "import numpy as np\n",
    "# import pytorch_nndct\n",
    "import local_utils\n",
    "from torchvision import datasets\n",
    "from torch.utils.data import DataLoader, Sampler\n",
    "from torchvision.transforms import ToTensor\n",
    "from local_utils import ResidualBlock\n",
    "from torch import nn\n",
    "\n",
    "from distutils.util import strtobool\n",
    "from utils.utils import *\n",
    "from utils.datasets import *\n",
    "from utils.parse_config import *\n",
    "\n",
    "from copy import deepcopy\n",
    "import os\n",
    "from re import compile as compile_re\n",
    "from glob import glob as glob_glob\n",
    "import sys\n",
    "import time\n",
    "import datetime\n",
    "import argparse\n",
    "\n",
    "from collections import namedtuple\n",
    "import tqdm\n",
    "from typing import Dict\n",
    "\n",
    "from models import *\n",
    "from test_fun import test"
   ]
  },
  {
   "cell_type": "markdown",
   "metadata": {},
   "source": [
    "### 1.Dane ewaluacyjne\n",
    "Definicja danych i dataloaderów."
   ]
  },
  {
   "cell_type": "code",
   "execution_count": 2,
   "metadata": {
    "scrolled": true
   },
   "outputs": [
    {
     "name": "stderr",
     "output_type": "stream",
     "text": [
      "100%|██████████| 288/288 [00:54<00:00,  5.32it/s]\n",
      "100%|██████████| 288/288 [00:00<00:00, 356.14it/s]\n"
     ]
    }
   ],
   "source": [
    "train_path = \"data/PST900_RGBT_Dataset/train\"\n",
    "test_path = \"data/PST900_RGBT_Dataset/test\"\n",
    "\n",
    "#train_loader = torch.utils.data.DataLoader(RGBTFolderP(train_path, train=True), batch_size=1, shuffle=True)\n",
    "test_loader = torch.utils.data.DataLoader(RGBTFolderP(test_path), batch_size=1, shuffle=False)"
   ]
  },
  {
   "cell_type": "markdown",
   "metadata": {},
   "source": [
    "Zapisanie danych testowych w formacie .npz do późniejszej ewaluacji."
   ]
  },
  {
   "cell_type": "code",
   "execution_count": 3,
   "metadata": {},
   "outputs": [
    {
     "name": "stdout",
     "output_type": "stream",
     "text": [
      "(1, 4, 416, 416)\n",
      "Done\n"
     ]
    }
   ],
   "source": [
    "quantization_data = []\n",
    "quantization_labels = []\n",
    "\n",
    "for _, img, target in test_loader:\n",
    "    quantization_data.append(img)\n",
    "    quantization_labels.append(target)\n",
    "\n",
    "batch_shape = np.shape(quantization_data[0].numpy())\n",
    "print(batch_shape)\n",
    "\n",
    "test_X = torch.cat(quantization_data).numpy()\n",
    "test_Y = torch.cat(quantization_labels).numpy()\n",
    "\n",
    "np.savez('eval_PST900.npz', data=test_X, targets=test_Y)\n",
    "\n",
    "print('Done')"
   ]
  },
  {
   "cell_type": "markdown",
   "metadata": {},
   "source": [
    "### 2.Inicjalizacja modelu zmiennoprzecinkowego\n",
    "Tworzymy model i wczytujemy wagi."
   ]
  },
  {
   "cell_type": "code",
   "execution_count": 4,
   "metadata": {},
   "outputs": [
    {
     "name": "stdout",
     "output_type": "stream",
     "text": [
      "yolo num: 82\n",
      "Mask: 6,7,8\n",
      "Anchors: 10,13,  16,30,  33,23,  30,61,  62,45,  59,119,  116,90,  156,198,  373,326\n",
      "Anchors: [(116, 90), (156, 198), (373, 326)]\n",
      "Classes: 4\n",
      "Height: 416\n",
      "82 [(116, 90), (156, 198), (373, 326)] 4 416\n",
      "Init done\n",
      "yolo num: 94\n",
      "Mask: 3,4,5\n",
      "Anchors: 10,13,  16,30,  33,23,  30,61,  62,45,  59,119,  116,90,  156,198,  373,326\n",
      "Anchors: [(30, 61), (62, 45), (59, 119)]\n",
      "Classes: 4\n",
      "Height: 416\n",
      "94 [(30, 61), (62, 45), (59, 119)] 4 416\n",
      "Init done\n",
      "yolo num: 106\n",
      "Mask: 0,1,2\n",
      "Anchors: 10,13,  16,30,  33,23,  30,61,  62,45,  59,119,  116,90,  156,198,  373,326\n",
      "Anchors: [(10, 13), (16, 30), (33, 23)]\n",
      "Classes: 4\n",
      "Height: 416\n",
      "106 [(10, 13), (16, 30), (33, 23)] 4 416\n",
      "Init done\n",
      "new init 10\n"
     ]
    },
    {
     "name": "stderr",
     "output_type": "stream",
     "text": [
      "/opt/vitis_ai/conda/envs/vitis-ai-pytorch/lib/python3.6/site-packages/torch/nn/_reduction.py:44: UserWarning: size_average and reduce args will be deprecated, please use reduction='mean' instead.\n",
      "  warnings.warn(warning.format(ret))\n",
      "/opt/vitis_ai/conda/envs/vitis-ai-pytorch/lib/python3.6/site-packages/torch/cuda/__init__.py:52: UserWarning: CUDA initialization: Found no NVIDIA driver on your system. Please check that you have an NVIDIA GPU and installed a driver from http://www.nvidia.com/Download/index.aspx (Triggered internally at  /opt/conda/conda-bld/pytorch_1607370120218/work/c10/cuda/CUDAFunctions.cpp:100.)\n",
      "  return torch._C._cuda_getDeviceCount() > 0\n"
     ]
    },
    {
     "name": "stdout",
     "output_type": "stream",
     "text": [
      "cpu\n"
     ]
    }
   ],
   "source": [
    "device = torch.device(\"cpu\")\n",
    "model_config_path = \"config/yolov3.cfg\"\n",
    "weights_path = \"weights/float_133.weightd\"\n",
    "\n",
    "net = Darknet(model_config_path)\n",
    "net.load_weights_dict(weights_path)\n",
    "net.to(device)\n",
    "\n",
    "net.eval()\n",
    "\n",
    "print(device)\n",
    "with open(\"log_net.txt\", \"w\") as f:\n",
    "    f.write(str(net))\n"
   ]
  },
  {
   "cell_type": "code",
   "execution_count": 5,
   "metadata": {},
   "outputs": [],
   "source": [
    "class EvalLoader:\n",
    "    def __init__(self, \n",
    "                 batch_size: int = 1, \n",
    "                 npz_path: str = 'eval_PST900.npz') -> None:\n",
    "        data = np.load(npz_path)\n",
    "        self.data = data['data'].astype(np.float32)\n",
    "        self.targets = data['targets']\n",
    "        self.batch_size = batch_size\n",
    "    \n",
    "    def __getitem__(self, i):\n",
    "        if i >= len(self):\n",
    "            raise StopIteration\n",
    "\n",
    "        beg = min(i * self.batch_size, self.data.shape[0])\n",
    "        end = min(beg + self.batch_size, self.data.shape[0])\n",
    "\n",
    "        return self.data[beg:end, ...], self.targets[beg:end]\n",
    "    \n",
    "    def __len__(self):\n",
    "        return self.data.shape[0] // self.batch_size"
   ]
  },
  {
   "cell_type": "code",
   "execution_count": 6,
   "metadata": {},
   "outputs": [
    {
     "name": "stdout",
     "output_type": "stream",
     "text": [
      "Batch: 0\n",
      "Img: (1, 4, 416, 416)\n",
      "Target: (1, 10, 5)\n"
     ]
    }
   ],
   "source": [
    "loader = EvalLoader()\n",
    "for batch_i, (imgs, targets) in enumerate(loader):\n",
    "    print(\"Batch:\", batch_i)\n",
    "    print(\"Img:\",imgs.shape)\n",
    "    print(\"Target:\",targets.shape)\n",
    "    img = imgs\n",
    "    target = targets\n",
    "    break"
   ]
  },
  {
   "cell_type": "markdown",
   "metadata": {},
   "source": []
  },
  {
   "cell_type": "markdown",
   "metadata": {},
   "source": [
    "### 3. Ewaluacja modelu zmiennoprzecinkowego\n",
    "Upewnienie się, że model został wczytany poprawnie."
   ]
  },
  {
   "cell_type": "code",
   "execution_count": 13,
   "metadata": {},
   "outputs": [
    {
     "name": "stdout",
     "output_type": "stream",
     "text": [
      "{'batch_size': 1, 'model_config_path': 'config/yolov3.cfg', 'data_config_path': 'config/pst900.data', 'class_path': 'data/pst900.names', 'n_cpu': 0, 'img_size': 416, 'use_cuda': False, 'weights_path': 'weights/float_133.weightd', 'iou_thres': 0.5, 'conf_thres': 0.8, 'nms_thres': 0.5}\n",
      "Argz(batch_size=1, model_config_path='config/yolov3.cfg', data_config_path='config/pst900.data', weights_path='weights/float_133.weightd', class_path='data/pst900.names', iou_thres=0.5, conf_thres=0.8, nms_thres=0.5, n_cpu=0, img_size=416, use_cuda=False)\n",
      "Compute mAP...\n"
     ]
    },
    {
     "name": "stderr",
     "output_type": "stream",
     "text": [
      "Detecting objects:   0%|          | 0/258 [00:00<?, ?it/s]\n"
     ]
    },
    {
     "ename": "AttributeError",
     "evalue": "'list' object has no attribute 'new'",
     "output_type": "error",
     "traceback": [
      "\u001b[0;31m---------------------------------------------------------------------------\u001b[0m",
      "\u001b[0;31mAttributeError\u001b[0m                            Traceback (most recent call last)",
      "\u001b[0;32m<ipython-input-13-f386ac408f2e>\u001b[0m in \u001b[0;36m<module>\u001b[0;34m\u001b[0m\n\u001b[1;32m     11\u001b[0m                   'nms_thres' : 0.5}\n\u001b[1;32m     12\u001b[0m \u001b[0;34m\u001b[0m\u001b[0m\n\u001b[0;32m---> 13\u001b[0;31m \u001b[0mtest\u001b[0m\u001b[0;34m(\u001b[0m\u001b[0muse_train_model\u001b[0m\u001b[0;34m=\u001b[0m\u001b[0mdeepcopy\u001b[0m\u001b[0;34m(\u001b[0m\u001b[0mnet\u001b[0m\u001b[0;34m)\u001b[0m\u001b[0;34m,\u001b[0m \u001b[0muse_loader\u001b[0m\u001b[0;34m=\u001b[0m\u001b[0mtest_loader\u001b[0m\u001b[0;34m,\u001b[0m \u001b[0muse_parser\u001b[0m\u001b[0;34m=\u001b[0m\u001b[0;32mFalse\u001b[0m\u001b[0;34m,\u001b[0m \u001b[0msuppress_return\u001b[0m\u001b[0;34m=\u001b[0m\u001b[0;32mFalse\u001b[0m\u001b[0;34m,\u001b[0m \u001b[0;34m**\u001b[0m\u001b[0mkwarg_for_test\u001b[0m\u001b[0;34m)\u001b[0m\u001b[0;34m\u001b[0m\u001b[0;34m\u001b[0m\u001b[0m\n\u001b[0m",
      "\u001b[0;32m/workspace/test_fun.py\u001b[0m in \u001b[0;36mtest\u001b[0;34m(use_train_model, use_loader, use_parser, suppress_return, **kwargs)\u001b[0m\n\u001b[1;32m    157\u001b[0m         \u001b[0;32mwith\u001b[0m \u001b[0mtorch\u001b[0m\u001b[0;34m.\u001b[0m\u001b[0mno_grad\u001b[0m\u001b[0;34m(\u001b[0m\u001b[0;34m)\u001b[0m\u001b[0;34m:\u001b[0m\u001b[0;34m\u001b[0m\u001b[0;34m\u001b[0m\u001b[0m\n\u001b[1;32m    158\u001b[0m             \u001b[0moutputs\u001b[0m \u001b[0;34m=\u001b[0m \u001b[0mmodel\u001b[0m\u001b[0;34m(\u001b[0m\u001b[0mimgs\u001b[0m\u001b[0;34m)\u001b[0m\u001b[0;34m\u001b[0m\u001b[0;34m\u001b[0m\u001b[0m\n\u001b[0;32m--> 159\u001b[0;31m             \u001b[0moutputs\u001b[0m \u001b[0;34m=\u001b[0m \u001b[0mnon_max_suppression\u001b[0m\u001b[0;34m(\u001b[0m\u001b[0moutputs\u001b[0m\u001b[0;34m,\u001b[0m \u001b[0;36m4\u001b[0m\u001b[0;34m,\u001b[0m \u001b[0mconf_thres\u001b[0m\u001b[0;34m=\u001b[0m\u001b[0mopt\u001b[0m\u001b[0;34m.\u001b[0m\u001b[0mconf_thres\u001b[0m\u001b[0;34m,\u001b[0m \u001b[0mnms_thres\u001b[0m\u001b[0;34m=\u001b[0m\u001b[0mopt\u001b[0m\u001b[0;34m.\u001b[0m\u001b[0mnms_thres\u001b[0m\u001b[0;34m)\u001b[0m\u001b[0;34m\u001b[0m\u001b[0;34m\u001b[0m\u001b[0m\n\u001b[0m\u001b[1;32m    160\u001b[0m             \u001b[0;32mpass\u001b[0m\u001b[0;34m\u001b[0m\u001b[0;34m\u001b[0m\u001b[0m\n\u001b[1;32m    161\u001b[0m \u001b[0;34m\u001b[0m\u001b[0m\n",
      "\u001b[0;32m/workspace/utils/utils.py\u001b[0m in \u001b[0;36mnon_max_suppression\u001b[0;34m(prediction, num_classes, conf_thres, nms_thres)\u001b[0m\n\u001b[1;32m    134\u001b[0m \u001b[0;34m\u001b[0m\u001b[0m\n\u001b[1;32m    135\u001b[0m     \u001b[0;31m# From (center x, center y, width, height) to (x1, y1, x2, y2)\u001b[0m\u001b[0;34m\u001b[0m\u001b[0;34m\u001b[0m\u001b[0;34m\u001b[0m\u001b[0m\n\u001b[0;32m--> 136\u001b[0;31m     \u001b[0mbox_corner\u001b[0m \u001b[0;34m=\u001b[0m \u001b[0mprediction\u001b[0m\u001b[0;34m.\u001b[0m\u001b[0mnew\u001b[0m\u001b[0;34m(\u001b[0m\u001b[0mprediction\u001b[0m\u001b[0;34m.\u001b[0m\u001b[0mshape\u001b[0m\u001b[0;34m)\u001b[0m\u001b[0;34m\u001b[0m\u001b[0;34m\u001b[0m\u001b[0m\n\u001b[0m\u001b[1;32m    137\u001b[0m     \u001b[0mbox_corner\u001b[0m\u001b[0;34m[\u001b[0m\u001b[0;34m:\u001b[0m\u001b[0;34m,\u001b[0m \u001b[0;34m:\u001b[0m\u001b[0;34m,\u001b[0m \u001b[0;36m0\u001b[0m\u001b[0;34m]\u001b[0m \u001b[0;34m=\u001b[0m \u001b[0mprediction\u001b[0m\u001b[0;34m[\u001b[0m\u001b[0;34m:\u001b[0m\u001b[0;34m,\u001b[0m \u001b[0;34m:\u001b[0m\u001b[0;34m,\u001b[0m \u001b[0;36m0\u001b[0m\u001b[0;34m]\u001b[0m \u001b[0;34m-\u001b[0m \u001b[0mprediction\u001b[0m\u001b[0;34m[\u001b[0m\u001b[0;34m:\u001b[0m\u001b[0;34m,\u001b[0m \u001b[0;34m:\u001b[0m\u001b[0;34m,\u001b[0m \u001b[0;36m2\u001b[0m\u001b[0;34m]\u001b[0m \u001b[0;34m/\u001b[0m \u001b[0;36m2\u001b[0m\u001b[0;34m\u001b[0m\u001b[0;34m\u001b[0m\u001b[0m\n\u001b[1;32m    138\u001b[0m     \u001b[0mbox_corner\u001b[0m\u001b[0;34m[\u001b[0m\u001b[0;34m:\u001b[0m\u001b[0;34m,\u001b[0m \u001b[0;34m:\u001b[0m\u001b[0;34m,\u001b[0m \u001b[0;36m1\u001b[0m\u001b[0;34m]\u001b[0m \u001b[0;34m=\u001b[0m \u001b[0mprediction\u001b[0m\u001b[0;34m[\u001b[0m\u001b[0;34m:\u001b[0m\u001b[0;34m,\u001b[0m \u001b[0;34m:\u001b[0m\u001b[0;34m,\u001b[0m \u001b[0;36m1\u001b[0m\u001b[0;34m]\u001b[0m \u001b[0;34m-\u001b[0m \u001b[0mprediction\u001b[0m\u001b[0;34m[\u001b[0m\u001b[0;34m:\u001b[0m\u001b[0;34m,\u001b[0m \u001b[0;34m:\u001b[0m\u001b[0;34m,\u001b[0m \u001b[0;36m3\u001b[0m\u001b[0;34m]\u001b[0m \u001b[0;34m/\u001b[0m \u001b[0;36m2\u001b[0m\u001b[0;34m\u001b[0m\u001b[0;34m\u001b[0m\u001b[0m\n",
      "\u001b[0;31mAttributeError\u001b[0m: 'list' object has no attribute 'new'"
     ]
    }
   ],
   "source": [
    "kwarg_for_test = {'batch_size': 1,\n",
    "                  'model_config_path': model_config_path,\n",
    "                  'data_config_path': \"config/pst900.data\",\n",
    "                  'class_path': \"data/pst900.names\",\n",
    "                  'n_cpu': 0,\n",
    "                  'img_size': 416,\n",
    "                  'use_cuda': False,\n",
    "                  'weights_path' : weights_path,\n",
    "                  'iou_thres' : 0.5,\n",
    "                  'conf_thres' : 0.8,\n",
    "                  'nms_thres' : 0.5}\n",
    "\n",
    "test(use_train_model=deepcopy(net), use_loader=test_loader, use_parser=False, suppress_return=False, **kwarg_for_test)"
   ]
  },
  {
   "cell_type": "code",
   "execution_count": 13,
   "metadata": {},
   "outputs": [],
   "source": [
    "@torch.no_grad()\n",
    "def evaluation(model: nn.Module,\n",
    "               data_loader: torch.utils.data.DataLoader,\n",
    "               conf_thres: int = 0.5,\n",
    "               nms_thres: int = 0.4\n",
    "               ):\n",
    "    \n",
    "    # for i, (X, y_ref) in tqdm.tqdm(enumerate(data_loader),):\n",
    "    #     y_pred = model(X)\n",
    "        \n",
    "    #     # calculate loss\n",
    "    #     loss = criterion(y_pred, y_ref)\n",
    "        \n",
    "    #     # calculate accuracy\n",
    "    #     accuracy = metric(y_pred, y_ref)\n",
    "\n",
    "    #     total_loss += loss * y_pred.shape[0]\n",
    "    #     total_accuracy += accuracy * y_pred.shape[0]\n",
    "    #     samples_num += y_pred.shape[0]\n",
    "\n",
    "    num_classes = 4\n",
    "    img_size = 416\n",
    "    iou_thres = 0.5\n",
    "\n",
    "    # all_detections = []\n",
    "    # all_annotations = []\n",
    "    \n",
    "    yoloL = YOLOLayer([(116, 90), (156, 198), (373, 326)], num_classes, img_size)\n",
    "    yoloM = YOLOLayer([(30, 61), (62, 45), (59, 119)], num_classes, img_size)\n",
    "    yoloS = YOLOLayer([(10, 13), (16, 30), (33, 23)], num_classes, img_size)    \n",
    "\n",
    "    print(\"Compute mAP...\")\n",
    "\n",
    "    all_detections = []\n",
    "    all_annotations = []\n",
    "\n",
    "    for batch_i, (imgs, targets) in enumerate(tqdm.tqdm(data_loader, desc=\"Detecting objects\")):\n",
    "\n",
    "        # imgs = Variable(imgs.type(Tensor))\n",
    "        # targets = Variable(targets.type(Tensor), requires_grad=False)\n",
    "\n",
    "        \n",
    "        # print(imgs[0][2][234][12:18])\n",
    "        # print(np.mean(imgs[0][2][100]))\n",
    "\n",
    "        imgs = torch.from_numpy(imgs)\n",
    "        targets = torch.from_numpy(targets)\n",
    "\n",
    "\n",
    "        # img = imgs[0].cpu().numpy()\n",
    "        # img = img[:3] * 255\n",
    "        # img = np.transpose(img, (1, 2, 0)).astype(np.uint8)\n",
    "\n",
    "        # target = targets[0].cpu().numpy()\n",
    "\n",
    "        # print(type(img), img.shape, img.dtype)\n",
    "        # for t in target:\n",
    "        #     cls, x, y, w, h = t\n",
    "\n",
    "        #     if x != 0 and y != 0 and w != 0 and h != 0:\n",
    "        #         cx = int(x * 416)\n",
    "        #         cy = int(y * 416)\n",
    "        #         w = int(w * 416)\n",
    "        #         h = int(h * 416)\n",
    "\n",
    "        #         x = cx - w // 2\n",
    "        #         y = cy - h // 2\n",
    "\n",
    "        #         img = np.ascontiguousarray(img)\n",
    "\n",
    "        #         img = cv.rectangle(img, (x, y), (x + w, y + h), (0, 255, 0), 1)\n",
    "        #         cv.imshow(\"img\", img)\n",
    "        #         cv.waitKey(0)\n",
    "\n",
    "        \n",
    "#         o1, o2, o3 = model(imgs)\n",
    "# #         print(type(o2), o1.shape, o2.shape, o3.shape)\n",
    "# #         o1 = o1.permute(0, 3, 1, 2) #shape 1, 27, 13, 13\n",
    "# #         o2 = o2.permute(0, 3, 1, 2) #shape 1, 27, 26, 26\n",
    "# #         o3 = o3.permute(0, 3, 1, 2) #shape 1, 27, 52, 52\n",
    "#         output = []\n",
    "#         y3 = yoloL(o3)  #shape 1, 8112, 9\n",
    "# #         print(type(y1), y1.shape, y1[0, 0, :])\n",
    "#         y2 = yoloM(o2)  #shape 1, 2028, 9\n",
    "# #         print(type(y2), y2.shape, y2[0, 0, :])\n",
    "#         y1 = yoloS(o1) #shape 1, 507, 9\n",
    "# #         print(type(y3), y3.shape, y3[0, 0, :])\n",
    "#         output.append(y1)\n",
    "#         output.append(y2)\n",
    "#         output.append(y3)\n",
    "#         outputs = torch.cat(output, 1)\n",
    "\n",
    "        with torch.no_grad():\n",
    "            # print(imgs.shape)\n",
    "            output = model(imgs)\n",
    "            outputs = []\n",
    "#             print(output[0].shape)\n",
    "#             print(output[1].shape)\n",
    "#             print(output[2].shape)\n",
    "            y1 = yoloL(output[0])\n",
    "            y2 = yoloM(output[1])\n",
    "            y3 = yoloS(output[2])\n",
    "            outputs.append(y1)\n",
    "            outputs.append(y2)\n",
    "            outputs.append(y3)\n",
    "            outputs = torch.cat(outputs, 1)\n",
    "#             print([type(x) for x in outputs[0]])\n",
    "#             print([type(x) for x in outputs[1]])\n",
    "#             print([type(x) for x in outputs[2]])\n",
    "#             yolo1 = outputs[0][1][0]\n",
    "#             x1 = outputs[0][0]\n",
    "#             # print(\"yolo1\", yolo1.anchors, yolo1.num_classes, yolo1.image_dim, x1.shape)\n",
    "#             yolo1 = outputs[1][1][0]\n",
    "#             x1 = outputs[1][0]\n",
    "#             # print(\"yolo2\", yolo1.anchors, yolo1.num_classes, yolo1.image_dim, x1.shape)\n",
    "#             yolo1 = outputs[2][1][0]\n",
    "#             x1 = outputs[2][0]\n",
    "            # print(\"yolo3\", yolo1.anchors, yolo1.num_classes, yolo1.image_dim, x1.shape)\n",
    "#             outputs = model.process_yolo_layers(outputs)\n",
    "            # print(outputs.shape)\n",
    "            # y1 = outputs[0]\n",
    "            # print(type(y1), y1.shape, y1[0, :])\n",
    "            # y1 = outputs[1]\n",
    "            # print(type(y1), y1.shape, y1[0, :])\n",
    "            # y1 = outputs[2]\n",
    "            # print(type(y1), y1.shape, y1[0, :])\n",
    "            outputs = non_max_suppression(outputs, 4, conf_thres=conf_thres, nms_thres=nms_thres)\n",
    "            # print([x.shape for x in outputs])\n",
    "\n",
    "        for output, annotations in zip(outputs, targets):\n",
    "            all_detections.append([np.array([]) for _ in range(num_classes)])\n",
    "            if output is not None:\n",
    "                # Get predicted boxes, confidence scores and labels\n",
    "                pred_boxes = output[:, :5].cpu().numpy()\n",
    "                scores = output[:, 4].cpu().numpy()\n",
    "                pred_labels = output[:, -1].cpu().numpy()\n",
    "#                 pred_boxes = output[:, :5]\n",
    "#                 scores = output[:, 4]\n",
    "#                 pred_labels = output[:, -1]\n",
    "\n",
    "                # Order by confidence\n",
    "                sort_i = np.argsort(scores)\n",
    "                pred_labels = pred_labels[sort_i]\n",
    "                pred_boxes = pred_boxes[sort_i]\n",
    "                \n",
    "                # print(\"Batch:\", batch_i)\n",
    "                # print(\"pred_boxes:\", pred_boxes)\n",
    "                # print(\"scores:\", scores)\n",
    "                # print(\"pred_labels:\", pred_labels)\n",
    "\n",
    "                for label in range(num_classes):\n",
    "                    all_detections[-1][label] = pred_boxes[pred_labels == label]\n",
    "\n",
    "            all_annotations.append([np.array([]) for _ in range(num_classes)])\n",
    "#             print(\"Anno\", annotations.shape, annotations)\n",
    "            if any(annotations[:, -1] > 0):\n",
    "\n",
    "                annotation_labels = annotations[annotations[:, -1] > 0, 0].cpu().numpy()\n",
    "                _annotation_boxes = annotations[annotations[:, -1] > 0, 1:].cpu()\n",
    "\n",
    "                # Reformat to x1, y1, x2, y2 and rescale to image dimensions\n",
    "                annotation_boxes = np.empty_like(_annotation_boxes)\n",
    "                annotation_boxes[:, 0] = _annotation_boxes[:, 0] - _annotation_boxes[:, 2] / 2\n",
    "                annotation_boxes[:, 1] = _annotation_boxes[:, 1] - _annotation_boxes[:, 3] / 2\n",
    "                annotation_boxes[:, 2] = _annotation_boxes[:, 0] + _annotation_boxes[:, 2] / 2\n",
    "                annotation_boxes[:, 3] = _annotation_boxes[:, 1] + _annotation_boxes[:, 3] / 2\n",
    "                annotation_boxes *= img_size\n",
    "\n",
    "                for label in range(num_classes):\n",
    "                    all_annotations[-1][label] = annotation_boxes[annotation_labels == label, :]\n",
    "\n",
    "    average_precisions = {}\n",
    "    for label in range(num_classes):\n",
    "        true_positives = []\n",
    "        scores = []\n",
    "        num_annotations = 0\n",
    "\n",
    "        for i in tqdm.tqdm(range(len(all_annotations)), desc=f\"Computing AP for class '{label}'\"):\n",
    "            detections = all_detections[i][label]\n",
    "            annotations = all_annotations[i][label]\n",
    "\n",
    "            num_annotations += annotations.shape[0]\n",
    "            detected_annotations = []\n",
    "\n",
    "            for *bbox, score in detections:\n",
    "                scores.append(score)\n",
    "\n",
    "                if annotations.shape[0] == 0:\n",
    "                    true_positives.append(0)\n",
    "                    continue\n",
    "\n",
    "                overlaps = bbox_iou_numpy(np.expand_dims(bbox, axis=0), annotations)\n",
    "                assigned_annotation = np.argmax(overlaps, axis=1)\n",
    "                max_overlap = overlaps[0, assigned_annotation]\n",
    "\n",
    "                if max_overlap >= iou_thres and assigned_annotation not in detected_annotations:\n",
    "                    true_positives.append(1)\n",
    "                    detected_annotations.append(assigned_annotation)\n",
    "                else:\n",
    "                    true_positives.append(0)\n",
    "\n",
    "        # no annotations -> AP for this class is 0\n",
    "        if num_annotations == 0:\n",
    "            average_precisions[label] = 0\n",
    "            continue\n",
    "\n",
    "        true_positives = np.array(true_positives)\n",
    "        false_positives = np.ones_like(true_positives) - true_positives\n",
    "        # sort by score\n",
    "        indices = np.argsort(-np.array(scores))\n",
    "        false_positives = false_positives[indices]\n",
    "        true_positives = true_positives[indices]\n",
    "\n",
    "        # compute false positives and true positives\n",
    "        false_positives = np.cumsum(false_positives)\n",
    "        true_positives = np.cumsum(true_positives)\n",
    "\n",
    "        # compute recall and precision\n",
    "        recall = true_positives / num_annotations\n",
    "        precision = true_positives / np.maximum(true_positives + false_positives, np.finfo(np.float64).eps)\n",
    "\n",
    "        # compute average precision\n",
    "        average_precision = compute_ap(recall, precision)\n",
    "        average_precisions[label] = average_precision\n",
    "\n",
    "    logger = {}\n",
    "    print(\"Average Precisions:\")\n",
    "    for c, ap in average_precisions.items():\n",
    "        print(f\"+ Class '{c}' - AP: {ap}\")\n",
    "        logger[c] = ap\n",
    "\n",
    "    mAP = np.mean(list(average_precisions.values()))\n",
    "    logger[\"mAP\"] = mAP\n",
    "    print(f\"mAP: {mAP}\")\n",
    "\n",
    "    return logger, mAP"
   ]
  },
  {
   "cell_type": "code",
   "execution_count": 14,
   "metadata": {},
   "outputs": [
    {
     "name": "stdout",
     "output_type": "stream",
     "text": [
      "Init done\n",
      "Init done\n",
      "Init done\n",
      "Compute mAP...\n"
     ]
    },
    {
     "name": "stderr",
     "output_type": "stream",
     "text": [
      "Detecting objects:   5%|▍         | 12/258 [00:04<01:31,  2.70it/s]\n"
     ]
    },
    {
     "ename": "KeyboardInterrupt",
     "evalue": "",
     "output_type": "error",
     "traceback": [
      "\u001b[0;31m---------------------------------------------------------------------------\u001b[0m",
      "\u001b[0;31mKeyboardInterrupt\u001b[0m                         Traceback (most recent call last)",
      "\u001b[0;32m<ipython-input-14-70e7e8b57a9e>\u001b[0m in \u001b[0;36m<module>\u001b[0;34m\u001b[0m\n\u001b[0;32m----> 1\u001b[0;31m \u001b[0mevaluation\u001b[0m\u001b[0;34m(\u001b[0m\u001b[0mnet\u001b[0m\u001b[0;34m,\u001b[0m \u001b[0mloader\u001b[0m\u001b[0;34m,\u001b[0m \u001b[0;36m0.8\u001b[0m\u001b[0;34m,\u001b[0m \u001b[0;36m0.5\u001b[0m\u001b[0;34m)\u001b[0m\u001b[0;34m\u001b[0m\u001b[0;34m\u001b[0m\u001b[0m\n\u001b[0m",
      "\u001b[0;32m/opt/vitis_ai/conda/envs/vitis-ai-pytorch/lib/python3.6/site-packages/torch/autograd/grad_mode.py\u001b[0m in \u001b[0;36mdecorate_context\u001b[0;34m(*args, **kwargs)\u001b[0m\n\u001b[1;32m     24\u001b[0m         \u001b[0;32mdef\u001b[0m \u001b[0mdecorate_context\u001b[0m\u001b[0;34m(\u001b[0m\u001b[0;34m*\u001b[0m\u001b[0margs\u001b[0m\u001b[0;34m,\u001b[0m \u001b[0;34m**\u001b[0m\u001b[0mkwargs\u001b[0m\u001b[0;34m)\u001b[0m\u001b[0;34m:\u001b[0m\u001b[0;34m\u001b[0m\u001b[0;34m\u001b[0m\u001b[0m\n\u001b[1;32m     25\u001b[0m             \u001b[0;32mwith\u001b[0m \u001b[0mself\u001b[0m\u001b[0;34m.\u001b[0m\u001b[0m__class__\u001b[0m\u001b[0;34m(\u001b[0m\u001b[0;34m)\u001b[0m\u001b[0;34m:\u001b[0m\u001b[0;34m\u001b[0m\u001b[0;34m\u001b[0m\u001b[0m\n\u001b[0;32m---> 26\u001b[0;31m                 \u001b[0;32mreturn\u001b[0m \u001b[0mfunc\u001b[0m\u001b[0;34m(\u001b[0m\u001b[0;34m*\u001b[0m\u001b[0margs\u001b[0m\u001b[0;34m,\u001b[0m \u001b[0;34m**\u001b[0m\u001b[0mkwargs\u001b[0m\u001b[0;34m)\u001b[0m\u001b[0;34m\u001b[0m\u001b[0;34m\u001b[0m\u001b[0m\n\u001b[0m\u001b[1;32m     27\u001b[0m         \u001b[0;32mreturn\u001b[0m \u001b[0mcast\u001b[0m\u001b[0;34m(\u001b[0m\u001b[0mF\u001b[0m\u001b[0;34m,\u001b[0m \u001b[0mdecorate_context\u001b[0m\u001b[0;34m)\u001b[0m\u001b[0;34m\u001b[0m\u001b[0;34m\u001b[0m\u001b[0m\n\u001b[1;32m     28\u001b[0m \u001b[0;34m\u001b[0m\u001b[0m\n",
      "\u001b[0;32m<ipython-input-13-322ad0817ec2>\u001b[0m in \u001b[0;36mevaluation\u001b[0;34m(model, data_loader, conf_thres, nms_thres)\u001b[0m\n\u001b[1;32m     93\u001b[0m         \u001b[0;32mwith\u001b[0m \u001b[0mtorch\u001b[0m\u001b[0;34m.\u001b[0m\u001b[0mno_grad\u001b[0m\u001b[0;34m(\u001b[0m\u001b[0;34m)\u001b[0m\u001b[0;34m:\u001b[0m\u001b[0;34m\u001b[0m\u001b[0;34m\u001b[0m\u001b[0m\n\u001b[1;32m     94\u001b[0m             \u001b[0;31m# print(imgs.shape)\u001b[0m\u001b[0;34m\u001b[0m\u001b[0;34m\u001b[0m\u001b[0;34m\u001b[0m\u001b[0m\n\u001b[0;32m---> 95\u001b[0;31m             \u001b[0moutput\u001b[0m \u001b[0;34m=\u001b[0m \u001b[0mmodel\u001b[0m\u001b[0;34m(\u001b[0m\u001b[0mimgs\u001b[0m\u001b[0;34m)\u001b[0m\u001b[0;34m\u001b[0m\u001b[0;34m\u001b[0m\u001b[0m\n\u001b[0m\u001b[1;32m     96\u001b[0m             \u001b[0moutputs\u001b[0m \u001b[0;34m=\u001b[0m \u001b[0;34m[\u001b[0m\u001b[0;34m]\u001b[0m\u001b[0;34m\u001b[0m\u001b[0;34m\u001b[0m\u001b[0m\n\u001b[1;32m     97\u001b[0m \u001b[0;31m#             print(output[0].shape)\u001b[0m\u001b[0;34m\u001b[0m\u001b[0;34m\u001b[0m\u001b[0;34m\u001b[0m\u001b[0m\n",
      "\u001b[0;32m/opt/vitis_ai/conda/envs/vitis-ai-pytorch/lib/python3.6/site-packages/torch/nn/modules/module.py\u001b[0m in \u001b[0;36m_call_impl\u001b[0;34m(self, *input, **kwargs)\u001b[0m\n\u001b[1;32m    725\u001b[0m             \u001b[0mresult\u001b[0m \u001b[0;34m=\u001b[0m \u001b[0mself\u001b[0m\u001b[0;34m.\u001b[0m\u001b[0m_slow_forward\u001b[0m\u001b[0;34m(\u001b[0m\u001b[0;34m*\u001b[0m\u001b[0minput\u001b[0m\u001b[0;34m,\u001b[0m \u001b[0;34m**\u001b[0m\u001b[0mkwargs\u001b[0m\u001b[0;34m)\u001b[0m\u001b[0;34m\u001b[0m\u001b[0;34m\u001b[0m\u001b[0m\n\u001b[1;32m    726\u001b[0m         \u001b[0;32melse\u001b[0m\u001b[0;34m:\u001b[0m\u001b[0;34m\u001b[0m\u001b[0;34m\u001b[0m\u001b[0m\n\u001b[0;32m--> 727\u001b[0;31m             \u001b[0mresult\u001b[0m \u001b[0;34m=\u001b[0m \u001b[0mself\u001b[0m\u001b[0;34m.\u001b[0m\u001b[0mforward\u001b[0m\u001b[0;34m(\u001b[0m\u001b[0;34m*\u001b[0m\u001b[0minput\u001b[0m\u001b[0;34m,\u001b[0m \u001b[0;34m**\u001b[0m\u001b[0mkwargs\u001b[0m\u001b[0;34m)\u001b[0m\u001b[0;34m\u001b[0m\u001b[0;34m\u001b[0m\u001b[0m\n\u001b[0m\u001b[1;32m    728\u001b[0m         for hook in itertools.chain(\n\u001b[1;32m    729\u001b[0m                 \u001b[0m_global_forward_hooks\u001b[0m\u001b[0;34m.\u001b[0m\u001b[0mvalues\u001b[0m\u001b[0;34m(\u001b[0m\u001b[0;34m)\u001b[0m\u001b[0;34m,\u001b[0m\u001b[0;34m\u001b[0m\u001b[0;34m\u001b[0m\u001b[0m\n",
      "\u001b[0;32m/workspace/models.py\u001b[0m in \u001b[0;36mforward\u001b[0;34m(self, x, targets)\u001b[0m\n\u001b[1;32m    368\u001b[0m         \u001b[0;32mfor\u001b[0m \u001b[0mi\u001b[0m\u001b[0;34m,\u001b[0m \u001b[0;34m(\u001b[0m\u001b[0mmodule_def\u001b[0m\u001b[0;34m,\u001b[0m \u001b[0mmodule\u001b[0m\u001b[0;34m)\u001b[0m \u001b[0;32min\u001b[0m \u001b[0menumerate\u001b[0m\u001b[0;34m(\u001b[0m\u001b[0mzip\u001b[0m\u001b[0;34m(\u001b[0m\u001b[0mself\u001b[0m\u001b[0;34m.\u001b[0m\u001b[0mmodule_defs\u001b[0m\u001b[0;34m,\u001b[0m \u001b[0mself\u001b[0m\u001b[0;34m.\u001b[0m\u001b[0mmodule_list\u001b[0m\u001b[0;34m)\u001b[0m\u001b[0;34m)\u001b[0m\u001b[0;34m:\u001b[0m\u001b[0;34m\u001b[0m\u001b[0;34m\u001b[0m\u001b[0m\n\u001b[1;32m    369\u001b[0m             \u001b[0;32mif\u001b[0m \u001b[0mmodule_def\u001b[0m\u001b[0;34m[\u001b[0m\u001b[0;34m\"type\"\u001b[0m\u001b[0;34m]\u001b[0m \u001b[0;32min\u001b[0m \u001b[0;34m[\u001b[0m\u001b[0;34m\"convolutional\"\u001b[0m\u001b[0;34m,\u001b[0m \u001b[0;34m\"upsample\"\u001b[0m\u001b[0;34m,\u001b[0m\u001b[0;34m\"quant_upsample\"\u001b[0m\u001b[0;34m,\u001b[0m \u001b[0;34m\"maxpool\"\u001b[0m\u001b[0;34m,\u001b[0m\u001b[0;34m\"quant_convolutional\"\u001b[0m\u001b[0;34m]\u001b[0m\u001b[0;34m:\u001b[0m\u001b[0;34m\u001b[0m\u001b[0;34m\u001b[0m\u001b[0m\n\u001b[0;32m--> 370\u001b[0;31m                 \u001b[0mx\u001b[0m \u001b[0;34m=\u001b[0m \u001b[0mmodule\u001b[0m\u001b[0;34m(\u001b[0m\u001b[0mx\u001b[0m\u001b[0;34m)\u001b[0m\u001b[0;34m\u001b[0m\u001b[0;34m\u001b[0m\u001b[0m\n\u001b[0m\u001b[1;32m    371\u001b[0m             \u001b[0;32melif\u001b[0m \u001b[0mmodule_def\u001b[0m\u001b[0;34m[\u001b[0m\u001b[0;34m\"type\"\u001b[0m\u001b[0;34m]\u001b[0m \u001b[0;34m==\u001b[0m \u001b[0;34m\"route\"\u001b[0m\u001b[0;34m:\u001b[0m\u001b[0;34m\u001b[0m\u001b[0;34m\u001b[0m\u001b[0m\n\u001b[1;32m    372\u001b[0m                 \u001b[0mlayer_i\u001b[0m \u001b[0;34m=\u001b[0m \u001b[0;34m[\u001b[0m\u001b[0mint\u001b[0m\u001b[0;34m(\u001b[0m\u001b[0mx\u001b[0m\u001b[0;34m)\u001b[0m \u001b[0;32mfor\u001b[0m \u001b[0mx\u001b[0m \u001b[0;32min\u001b[0m \u001b[0mmodule_def\u001b[0m\u001b[0;34m[\u001b[0m\u001b[0;34m\"layers\"\u001b[0m\u001b[0;34m]\u001b[0m\u001b[0;34m.\u001b[0m\u001b[0msplit\u001b[0m\u001b[0;34m(\u001b[0m\u001b[0;34m\",\"\u001b[0m\u001b[0;34m)\u001b[0m\u001b[0;34m]\u001b[0m\u001b[0;34m\u001b[0m\u001b[0;34m\u001b[0m\u001b[0m\n",
      "\u001b[0;32m/opt/vitis_ai/conda/envs/vitis-ai-pytorch/lib/python3.6/site-packages/torch/nn/modules/module.py\u001b[0m in \u001b[0;36m_call_impl\u001b[0;34m(self, *input, **kwargs)\u001b[0m\n\u001b[1;32m    725\u001b[0m             \u001b[0mresult\u001b[0m \u001b[0;34m=\u001b[0m \u001b[0mself\u001b[0m\u001b[0;34m.\u001b[0m\u001b[0m_slow_forward\u001b[0m\u001b[0;34m(\u001b[0m\u001b[0;34m*\u001b[0m\u001b[0minput\u001b[0m\u001b[0;34m,\u001b[0m \u001b[0;34m**\u001b[0m\u001b[0mkwargs\u001b[0m\u001b[0;34m)\u001b[0m\u001b[0;34m\u001b[0m\u001b[0;34m\u001b[0m\u001b[0m\n\u001b[1;32m    726\u001b[0m         \u001b[0;32melse\u001b[0m\u001b[0;34m:\u001b[0m\u001b[0;34m\u001b[0m\u001b[0;34m\u001b[0m\u001b[0m\n\u001b[0;32m--> 727\u001b[0;31m             \u001b[0mresult\u001b[0m \u001b[0;34m=\u001b[0m \u001b[0mself\u001b[0m\u001b[0;34m.\u001b[0m\u001b[0mforward\u001b[0m\u001b[0;34m(\u001b[0m\u001b[0;34m*\u001b[0m\u001b[0minput\u001b[0m\u001b[0;34m,\u001b[0m \u001b[0;34m**\u001b[0m\u001b[0mkwargs\u001b[0m\u001b[0;34m)\u001b[0m\u001b[0;34m\u001b[0m\u001b[0;34m\u001b[0m\u001b[0m\n\u001b[0m\u001b[1;32m    728\u001b[0m         for hook in itertools.chain(\n\u001b[1;32m    729\u001b[0m                 \u001b[0m_global_forward_hooks\u001b[0m\u001b[0;34m.\u001b[0m\u001b[0mvalues\u001b[0m\u001b[0;34m(\u001b[0m\u001b[0;34m)\u001b[0m\u001b[0;34m,\u001b[0m\u001b[0;34m\u001b[0m\u001b[0;34m\u001b[0m\u001b[0m\n",
      "\u001b[0;32m/opt/vitis_ai/conda/envs/vitis-ai-pytorch/lib/python3.6/site-packages/torch/nn/modules/container.py\u001b[0m in \u001b[0;36mforward\u001b[0;34m(self, input)\u001b[0m\n\u001b[1;32m    115\u001b[0m     \u001b[0;32mdef\u001b[0m \u001b[0mforward\u001b[0m\u001b[0;34m(\u001b[0m\u001b[0mself\u001b[0m\u001b[0;34m,\u001b[0m \u001b[0minput\u001b[0m\u001b[0;34m)\u001b[0m\u001b[0;34m:\u001b[0m\u001b[0;34m\u001b[0m\u001b[0;34m\u001b[0m\u001b[0m\n\u001b[1;32m    116\u001b[0m         \u001b[0;32mfor\u001b[0m \u001b[0mmodule\u001b[0m \u001b[0;32min\u001b[0m \u001b[0mself\u001b[0m\u001b[0;34m:\u001b[0m\u001b[0;34m\u001b[0m\u001b[0;34m\u001b[0m\u001b[0m\n\u001b[0;32m--> 117\u001b[0;31m             \u001b[0minput\u001b[0m \u001b[0;34m=\u001b[0m \u001b[0mmodule\u001b[0m\u001b[0;34m(\u001b[0m\u001b[0minput\u001b[0m\u001b[0;34m)\u001b[0m\u001b[0;34m\u001b[0m\u001b[0;34m\u001b[0m\u001b[0m\n\u001b[0m\u001b[1;32m    118\u001b[0m         \u001b[0;32mreturn\u001b[0m \u001b[0minput\u001b[0m\u001b[0;34m\u001b[0m\u001b[0;34m\u001b[0m\u001b[0m\n\u001b[1;32m    119\u001b[0m \u001b[0;34m\u001b[0m\u001b[0m\n",
      "\u001b[0;32m/opt/vitis_ai/conda/envs/vitis-ai-pytorch/lib/python3.6/site-packages/torch/nn/modules/module.py\u001b[0m in \u001b[0;36m_call_impl\u001b[0;34m(self, *input, **kwargs)\u001b[0m\n\u001b[1;32m    725\u001b[0m             \u001b[0mresult\u001b[0m \u001b[0;34m=\u001b[0m \u001b[0mself\u001b[0m\u001b[0;34m.\u001b[0m\u001b[0m_slow_forward\u001b[0m\u001b[0;34m(\u001b[0m\u001b[0;34m*\u001b[0m\u001b[0minput\u001b[0m\u001b[0;34m,\u001b[0m \u001b[0;34m**\u001b[0m\u001b[0mkwargs\u001b[0m\u001b[0;34m)\u001b[0m\u001b[0;34m\u001b[0m\u001b[0;34m\u001b[0m\u001b[0m\n\u001b[1;32m    726\u001b[0m         \u001b[0;32melse\u001b[0m\u001b[0;34m:\u001b[0m\u001b[0;34m\u001b[0m\u001b[0;34m\u001b[0m\u001b[0m\n\u001b[0;32m--> 727\u001b[0;31m             \u001b[0mresult\u001b[0m \u001b[0;34m=\u001b[0m \u001b[0mself\u001b[0m\u001b[0;34m.\u001b[0m\u001b[0mforward\u001b[0m\u001b[0;34m(\u001b[0m\u001b[0;34m*\u001b[0m\u001b[0minput\u001b[0m\u001b[0;34m,\u001b[0m \u001b[0;34m**\u001b[0m\u001b[0mkwargs\u001b[0m\u001b[0;34m)\u001b[0m\u001b[0;34m\u001b[0m\u001b[0;34m\u001b[0m\u001b[0m\n\u001b[0m\u001b[1;32m    728\u001b[0m         for hook in itertools.chain(\n\u001b[1;32m    729\u001b[0m                 \u001b[0m_global_forward_hooks\u001b[0m\u001b[0;34m.\u001b[0m\u001b[0mvalues\u001b[0m\u001b[0;34m(\u001b[0m\u001b[0;34m)\u001b[0m\u001b[0;34m,\u001b[0m\u001b[0;34m\u001b[0m\u001b[0;34m\u001b[0m\u001b[0m\n",
      "\u001b[0;32m/opt/vitis_ai/conda/envs/vitis-ai-pytorch/lib/python3.6/site-packages/torch/nn/modules/batchnorm.py\u001b[0m in \u001b[0;36mforward\u001b[0;34m(self, input)\u001b[0m\n\u001b[1;32m    134\u001b[0m             \u001b[0mself\u001b[0m\u001b[0;34m.\u001b[0m\u001b[0mrunning_mean\u001b[0m \u001b[0;32mif\u001b[0m \u001b[0;32mnot\u001b[0m \u001b[0mself\u001b[0m\u001b[0;34m.\u001b[0m\u001b[0mtraining\u001b[0m \u001b[0;32mor\u001b[0m \u001b[0mself\u001b[0m\u001b[0;34m.\u001b[0m\u001b[0mtrack_running_stats\u001b[0m \u001b[0;32melse\u001b[0m \u001b[0;32mNone\u001b[0m\u001b[0;34m,\u001b[0m\u001b[0;34m\u001b[0m\u001b[0;34m\u001b[0m\u001b[0m\n\u001b[1;32m    135\u001b[0m             \u001b[0mself\u001b[0m\u001b[0;34m.\u001b[0m\u001b[0mrunning_var\u001b[0m \u001b[0;32mif\u001b[0m \u001b[0;32mnot\u001b[0m \u001b[0mself\u001b[0m\u001b[0;34m.\u001b[0m\u001b[0mtraining\u001b[0m \u001b[0;32mor\u001b[0m \u001b[0mself\u001b[0m\u001b[0;34m.\u001b[0m\u001b[0mtrack_running_stats\u001b[0m \u001b[0;32melse\u001b[0m \u001b[0;32mNone\u001b[0m\u001b[0;34m,\u001b[0m\u001b[0;34m\u001b[0m\u001b[0;34m\u001b[0m\u001b[0m\n\u001b[0;32m--> 136\u001b[0;31m             self.weight, self.bias, bn_training, exponential_average_factor, self.eps)\n\u001b[0m\u001b[1;32m    137\u001b[0m \u001b[0;34m\u001b[0m\u001b[0m\n\u001b[1;32m    138\u001b[0m \u001b[0;34m\u001b[0m\u001b[0m\n",
      "\u001b[0;32m/opt/vitis_ai/conda/envs/vitis-ai-pytorch/lib/python3.6/site-packages/torch/nn/functional.py\u001b[0m in \u001b[0;36mbatch_norm\u001b[0;34m(input, running_mean, running_var, weight, bias, training, momentum, eps)\u001b[0m\n\u001b[1;32m   2056\u001b[0m     return torch.batch_norm(\n\u001b[1;32m   2057\u001b[0m         \u001b[0minput\u001b[0m\u001b[0;34m,\u001b[0m \u001b[0mweight\u001b[0m\u001b[0;34m,\u001b[0m \u001b[0mbias\u001b[0m\u001b[0;34m,\u001b[0m \u001b[0mrunning_mean\u001b[0m\u001b[0;34m,\u001b[0m \u001b[0mrunning_var\u001b[0m\u001b[0;34m,\u001b[0m\u001b[0;34m\u001b[0m\u001b[0;34m\u001b[0m\u001b[0m\n\u001b[0;32m-> 2058\u001b[0;31m         \u001b[0mtraining\u001b[0m\u001b[0;34m,\u001b[0m \u001b[0mmomentum\u001b[0m\u001b[0;34m,\u001b[0m \u001b[0meps\u001b[0m\u001b[0;34m,\u001b[0m \u001b[0mtorch\u001b[0m\u001b[0;34m.\u001b[0m\u001b[0mbackends\u001b[0m\u001b[0;34m.\u001b[0m\u001b[0mcudnn\u001b[0m\u001b[0;34m.\u001b[0m\u001b[0menabled\u001b[0m\u001b[0;34m\u001b[0m\u001b[0;34m\u001b[0m\u001b[0m\n\u001b[0m\u001b[1;32m   2059\u001b[0m     )\n\u001b[1;32m   2060\u001b[0m \u001b[0;34m\u001b[0m\u001b[0m\n",
      "\u001b[0;31mKeyboardInterrupt\u001b[0m: "
     ]
    }
   ],
   "source": [
    "evaluation(net, loader, 0.8, 0.5)"
   ]
  },
  {
   "cell_type": "code",
   "execution_count": 6,
   "metadata": {},
   "outputs": [],
   "source": [
    "class EvalLoader:\n",
    "    def __init__(self, \n",
    "                 batch_size: int = 1, \n",
    "                 npz_path: str = 'eval_PST900.npz') -> None:\n",
    "        data = np.load(npz_path)\n",
    "        self.data = data['data'].astype(np.float32)\n",
    "        self.targets = data['targets']\n",
    "        self.batch_size = batch_size\n",
    "    \n",
    "    def __getitem__(self, i):\n",
    "        if i >= len(self):\n",
    "            raise StopIteration\n",
    "\n",
    "        beg = min(i * self.batch_size, self.data.shape[0])\n",
    "        end = min(beg + self.batch_size, self.data.shape[0])\n",
    "\n",
    "        return self.data[beg:end, ...], self.targets[beg:end]\n",
    "    \n",
    "    def __len__(self):\n",
    "        return self.data.shape[0] // self.batch_size"
   ]
  },
  {
   "cell_type": "code",
   "execution_count": 11,
   "metadata": {},
   "outputs": [
    {
     "name": "stdout",
     "output_type": "stream",
     "text": [
      "Conf: 0.1 NMS: 0.1\n",
      "Compute mAP...\n"
     ]
    },
    {
     "name": "stderr",
     "output_type": "stream",
     "text": [
      "Detecting objects: 100%|██████████| 258/258 [01:48<00:00,  2.38it/s]\n",
      "Computing AP for class '0': 100%|██████████| 258/258 [00:00<00:00, 16906.17it/s]\n",
      "Computing AP for class '1': 100%|██████████| 258/258 [00:00<00:00, 20680.15it/s]\n",
      "Computing AP for class '2': 100%|██████████| 258/258 [00:00<00:00, 18474.27it/s]\n",
      "Computing AP for class '3': 100%|██████████| 258/258 [00:00<00:00, 19196.92it/s]\n"
     ]
    },
    {
     "name": "stdout",
     "output_type": "stream",
     "text": [
      "Average Precisions:\n",
      "+ Class '0' - AP: 0.29913661295744526\n",
      "+ Class '1' - AP: 0.5760288930342203\n",
      "+ Class '2' - AP: 0.34402238764197035\n",
      "+ Class '3' - AP: 0.003970370370370371\n",
      "mAP: 0.3057895660010016\n",
      "Conf: 0.2 NMS: 0.1\n",
      "Compute mAP...\n"
     ]
    },
    {
     "name": "stderr",
     "output_type": "stream",
     "text": [
      "Detecting objects: 100%|██████████| 258/258 [02:17<00:00,  1.88it/s]\n",
      "Computing AP for class '0': 100%|██████████| 258/258 [00:00<00:00, 16722.51it/s]\n",
      "Computing AP for class '1': 100%|██████████| 258/258 [00:00<00:00, 138984.13it/s]\n",
      "Computing AP for class '2': 100%|██████████| 258/258 [00:00<00:00, 41468.88it/s]\n",
      "Computing AP for class '3': 100%|██████████| 258/258 [00:00<00:00, 41806.92it/s]\n"
     ]
    },
    {
     "name": "stdout",
     "output_type": "stream",
     "text": [
      "Average Precisions:\n",
      "+ Class '0' - AP: 0.290911944336737\n",
      "+ Class '1' - AP: 0.5760288930342203\n",
      "+ Class '2' - AP: 0.3279955024681657\n",
      "+ Class '3' - AP: 0.0031272727272727272\n",
      "mAP: 0.2995159031415989\n",
      "Conf: 0.30000000000000004 NMS: 0.1\n",
      "Compute mAP...\n"
     ]
    },
    {
     "name": "stderr",
     "output_type": "stream",
     "text": [
      "Detecting objects: 100%|██████████| 258/258 [02:28<00:00,  1.74it/s]\n",
      "Computing AP for class '0': 100%|██████████| 258/258 [00:00<00:00, 18952.16it/s]\n",
      "Computing AP for class '1': 100%|██████████| 258/258 [00:00<00:00, 14016.87it/s]\n",
      "Computing AP for class '2': 100%|██████████| 258/258 [00:00<00:00, 17068.84it/s]\n",
      "Computing AP for class '3': 100%|██████████| 258/258 [00:00<00:00, 20255.51it/s]\n"
     ]
    },
    {
     "name": "stdout",
     "output_type": "stream",
     "text": [
      "Average Precisions:\n",
      "+ Class '0' - AP: 0.28796164930723406\n",
      "+ Class '1' - AP: 0.565137331086533\n",
      "+ Class '2' - AP: 0.32216585101995754\n",
      "+ Class '3' - AP: 0.002186994174145804\n",
      "mAP: 0.2943629563969675\n",
      "Conf: 0.4 NMS: 0.1\n",
      "Compute mAP...\n"
     ]
    },
    {
     "name": "stderr",
     "output_type": "stream",
     "text": [
      "Detecting objects: 100%|██████████| 258/258 [02:31<00:00,  1.71it/s]\n",
      "Computing AP for class '0': 100%|██████████| 258/258 [00:00<00:00, 11940.88it/s]\n",
      "Computing AP for class '1': 100%|██████████| 258/258 [00:00<00:00, 13715.74it/s]\n",
      "Computing AP for class '2': 100%|██████████| 258/258 [00:00<00:00, 13259.45it/s]\n",
      "Computing AP for class '3': 100%|██████████| 258/258 [00:00<00:00, 19531.28it/s]\n"
     ]
    },
    {
     "name": "stdout",
     "output_type": "stream",
     "text": [
      "Average Precisions:\n",
      "+ Class '0' - AP: 0.28796164930723406\n",
      "+ Class '1' - AP: 0.5461272278005004\n",
      "+ Class '2' - AP: 0.32216585101995754\n",
      "+ Class '3' - AP: 0.0019982825598037213\n",
      "mAP: 0.28956325267187394\n",
      "Conf: 0.5 NMS: 0.1\n",
      "Compute mAP...\n"
     ]
    },
    {
     "name": "stderr",
     "output_type": "stream",
     "text": [
      "Detecting objects: 100%|██████████| 258/258 [02:59<00:00,  1.44it/s]\n",
      "Computing AP for class '0': 100%|██████████| 258/258 [00:00<00:00, 22197.55it/s]\n",
      "Computing AP for class '1': 100%|██████████| 258/258 [00:00<00:00, 18696.75it/s]\n",
      "Computing AP for class '2': 100%|██████████| 258/258 [00:00<00:00, 11963.72it/s]\n",
      "Computing AP for class '3': 100%|██████████| 258/258 [00:00<00:00, 25487.68it/s]\n"
     ]
    },
    {
     "name": "stdout",
     "output_type": "stream",
     "text": [
      "Average Precisions:\n",
      "+ Class '0' - AP: 0.28796164930723406\n",
      "+ Class '1' - AP: 0.5349432832242209\n",
      "+ Class '2' - AP: 0.31576412980582486\n",
      "+ Class '3' - AP: 0.0019982825598037213\n",
      "mAP: 0.2851668362242709\n",
      "Conf: 0.6 NMS: 0.1\n",
      "Compute mAP...\n"
     ]
    },
    {
     "name": "stderr",
     "output_type": "stream",
     "text": [
      "Detecting objects: 100%|██████████| 258/258 [02:50<00:00,  1.52it/s]\n",
      "Computing AP for class '0': 100%|██████████| 258/258 [00:00<00:00, 12204.71it/s]\n",
      "Computing AP for class '1': 100%|██████████| 258/258 [00:00<00:00, 10451.23it/s]\n",
      "Computing AP for class '2': 100%|██████████| 258/258 [00:00<00:00, 16298.13it/s]\n",
      "Computing AP for class '3': 100%|██████████| 258/258 [00:00<00:00, 18631.40it/s]\n"
     ]
    },
    {
     "name": "stdout",
     "output_type": "stream",
     "text": [
      "Average Precisions:\n",
      "+ Class '0' - AP: 0.28796164930723406\n",
      "+ Class '1' - AP: 0.5236369729275054\n",
      "+ Class '2' - AP: 0.31203853885001803\n",
      "+ Class '3' - AP: 0.0018191780821917808\n",
      "mAP: 0.2813640847917373\n",
      "Conf: 0.7000000000000001 NMS: 0.1\n",
      "Compute mAP...\n"
     ]
    },
    {
     "name": "stderr",
     "output_type": "stream",
     "text": [
      "Detecting objects: 100%|██████████| 258/258 [02:46<00:00,  1.55it/s]\n",
      "Computing AP for class '0': 100%|██████████| 258/258 [00:00<00:00, 15364.84it/s]\n",
      "Computing AP for class '1': 100%|██████████| 258/258 [00:00<00:00, 17648.13it/s]\n",
      "Computing AP for class '2': 100%|██████████| 258/258 [00:00<00:00, 23272.62it/s]\n",
      "Computing AP for class '3': 100%|██████████| 258/258 [00:00<00:00, 51943.09it/s]\n"
     ]
    },
    {
     "name": "stdout",
     "output_type": "stream",
     "text": [
      "Average Precisions:\n",
      "+ Class '0' - AP: 0.28796164930723406\n",
      "+ Class '1' - AP: 0.5236369729275054\n",
      "+ Class '2' - AP: 0.30817365373513295\n",
      "+ Class '3' - AP: 0.0018191780821917808\n",
      "mAP: 0.28039786351301604\n",
      "Conf: 0.8 NMS: 0.1\n",
      "Compute mAP...\n"
     ]
    },
    {
     "name": "stderr",
     "output_type": "stream",
     "text": [
      "Detecting objects: 100%|██████████| 258/258 [02:38<00:00,  1.63it/s]\n",
      "Computing AP for class '0': 100%|██████████| 258/258 [00:00<00:00, 15887.98it/s]\n",
      "Computing AP for class '1': 100%|██████████| 258/258 [00:00<00:00, 16464.77it/s]\n",
      "Computing AP for class '2': 100%|██████████| 258/258 [00:00<00:00, 13801.98it/s]\n",
      "Computing AP for class '3': 100%|██████████| 258/258 [00:00<00:00, 33829.26it/s]\n"
     ]
    },
    {
     "name": "stdout",
     "output_type": "stream",
     "text": [
      "Average Precisions:\n",
      "+ Class '0' - AP: 0.2841586199976806\n",
      "+ Class '1' - AP: 0.5115497364497907\n",
      "+ Class '2' - AP: 0.3004301075987298\n",
      "+ Class '3' - AP: 0.0018191780821917808\n",
      "mAP: 0.27448941053209824\n",
      "Conf: 0.9 NMS: 0.1\n",
      "Compute mAP...\n"
     ]
    },
    {
     "name": "stderr",
     "output_type": "stream",
     "text": [
      "Detecting objects: 100%|██████████| 258/258 [02:36<00:00,  1.65it/s]\n",
      "Computing AP for class '0': 100%|██████████| 258/258 [00:00<00:00, 19184.33it/s]\n",
      "Computing AP for class '1': 100%|██████████| 258/258 [00:00<00:00, 22020.48it/s]\n",
      "Computing AP for class '2': 100%|██████████| 258/258 [00:00<00:00, 24201.70it/s]\n",
      "Computing AP for class '3': 100%|██████████| 258/258 [00:00<00:00, 59842.42it/s]\n"
     ]
    },
    {
     "name": "stdout",
     "output_type": "stream",
     "text": [
      "Average Precisions:\n",
      "+ Class '0' - AP: 0.27218794829282905\n",
      "+ Class '1' - AP: 0.4989142046361767\n",
      "+ Class '2' - AP: 0.275785879904454\n",
      "+ Class '3' - AP: 0.0016\n",
      "mAP: 0.26212200820836495\n",
      "Conf: 0.1 NMS: 0.2\n",
      "Compute mAP...\n"
     ]
    },
    {
     "name": "stderr",
     "output_type": "stream",
     "text": [
      "Detecting objects: 100%|██████████| 258/258 [02:39<00:00,  1.62it/s]\n",
      "Computing AP for class '0': 100%|██████████| 258/258 [00:00<00:00, 14470.27it/s]\n",
      "Computing AP for class '1': 100%|██████████| 258/258 [00:00<00:00, 5976.01it/s]\n",
      "Computing AP for class '2': 100%|██████████| 258/258 [00:00<00:00, 9798.53it/s]\n",
      "Computing AP for class '3': 100%|██████████| 258/258 [00:00<00:00, 6418.48it/s]\n"
     ]
    },
    {
     "name": "stdout",
     "output_type": "stream",
     "text": [
      "Average Precisions:\n",
      "+ Class '0' - AP: 0.29881218989161523\n",
      "+ Class '1' - AP: 0.5811856203717449\n",
      "+ Class '2' - AP: 0.3433424730405972\n",
      "+ Class '3' - AP: 0.004468525896414343\n",
      "mAP: 0.3069522023000929\n",
      "Conf: 0.2 NMS: 0.2\n",
      "Compute mAP...\n"
     ]
    },
    {
     "name": "stderr",
     "output_type": "stream",
     "text": [
      "Detecting objects: 100%|██████████| 258/258 [02:45<00:00,  1.56it/s]\n",
      "Computing AP for class '0': 100%|██████████| 258/258 [00:00<00:00, 14041.61it/s]\n",
      "Computing AP for class '1': 100%|██████████| 258/258 [00:00<00:00, 11387.73it/s]\n",
      "Computing AP for class '2': 100%|██████████| 258/258 [00:00<00:00, 15811.84it/s]\n",
      "Computing AP for class '3': 100%|██████████| 258/258 [00:00<00:00, 11740.21it/s]\n"
     ]
    },
    {
     "name": "stdout",
     "output_type": "stream",
     "text": [
      "Average Precisions:\n",
      "+ Class '0' - AP: 0.29075729677303047\n",
      "+ Class '1' - AP: 0.5779676232059443\n",
      "+ Class '2' - AP: 0.3276720941518719\n",
      "+ Class '3' - AP: 0.003593650793650794\n",
      "mAP: 0.29999766623112434\n",
      "Conf: 0.30000000000000004 NMS: 0.2\n",
      "Compute mAP...\n"
     ]
    },
    {
     "name": "stderr",
     "output_type": "stream",
     "text": [
      "Detecting objects: 100%|██████████| 258/258 [02:36<00:00,  1.65it/s]\n",
      "Computing AP for class '0': 100%|██████████| 258/258 [00:00<00:00, 17676.09it/s]\n",
      "Computing AP for class '1': 100%|██████████| 258/258 [00:00<00:00, 13034.58it/s]\n",
      "Computing AP for class '2': 100%|██████████| 258/258 [00:00<00:00, 18060.49it/s]\n",
      "Computing AP for class '3': 100%|██████████| 258/258 [00:00<00:00, 18881.39it/s]\n"
     ]
    },
    {
     "name": "stdout",
     "output_type": "stream",
     "text": [
      "Average Precisions:\n",
      "+ Class '0' - AP: 0.2878510359976992\n",
      "+ Class '1' - AP: 0.5674126667894153\n",
      "+ Class '2' - AP: 0.3219480914520627\n",
      "+ Class '3' - AP: 0.002628468900915176\n",
      "mAP: 0.2949600657850231\n",
      "Conf: 0.4 NMS: 0.2\n",
      "Compute mAP...\n"
     ]
    },
    {
     "name": "stderr",
     "output_type": "stream",
     "text": [
      "Detecting objects: 100%|██████████| 258/258 [02:31<00:00,  1.70it/s]\n",
      "Computing AP for class '0': 100%|██████████| 258/258 [00:00<00:00, 14858.71it/s]\n",
      "Computing AP for class '1': 100%|██████████| 258/258 [00:00<00:00, 10623.18it/s]\n",
      "Computing AP for class '2': 100%|██████████| 258/258 [00:00<00:00, 18826.86it/s]\n",
      "Computing AP for class '3': 100%|██████████| 258/258 [00:00<00:00, 19603.81it/s]\n"
     ]
    },
    {
     "name": "stdout",
     "output_type": "stream",
     "text": [
      "Average Precisions:\n",
      "+ Class '0' - AP: 0.2878510359976992\n",
      "+ Class '1' - AP: 0.5487751326640057\n",
      "+ Class '2' - AP: 0.3219480914520627\n",
      "+ Class '3' - AP: 0.002405005213764338\n",
      "mAP: 0.290244816331883\n",
      "Conf: 0.5 NMS: 0.2\n",
      "Compute mAP...\n"
     ]
    },
    {
     "name": "stderr",
     "output_type": "stream",
     "text": [
      "Detecting objects: 100%|██████████| 258/258 [02:27<00:00,  1.75it/s]\n",
      "Computing AP for class '0': 100%|██████████| 258/258 [00:00<00:00, 17613.37it/s]\n",
      "Computing AP for class '1': 100%|██████████| 258/258 [00:00<00:00, 12370.32it/s]\n",
      "Computing AP for class '2': 100%|██████████| 258/258 [00:00<00:00, 24967.82it/s]\n",
      "Computing AP for class '3': 100%|██████████| 258/258 [00:00<?, ?it/s]\n"
     ]
    },
    {
     "name": "stdout",
     "output_type": "stream",
     "text": [
      "Average Precisions:\n",
      "+ Class '0' - AP: 0.2878510359976992\n",
      "+ Class '1' - AP: 0.5378079101362638\n",
      "+ Class '2' - AP: 0.31562261867922153\n",
      "+ Class '3' - AP: 0.002405005213764338\n",
      "mAP: 0.2859216425067372\n",
      "Conf: 0.6 NMS: 0.2\n",
      "Compute mAP...\n"
     ]
    },
    {
     "name": "stderr",
     "output_type": "stream",
     "text": [
      "Detecting objects: 100%|██████████| 258/258 [02:33<00:00,  1.69it/s]\n",
      "Computing AP for class '0': 100%|██████████| 258/258 [00:00<00:00, 15737.56it/s]\n",
      "Computing AP for class '1': 100%|██████████| 258/258 [00:00<00:00, 19413.55it/s]\n",
      "Computing AP for class '2': 100%|██████████| 258/258 [00:00<00:00, 21466.58it/s]\n",
      "Computing AP for class '3': 100%|██████████| 258/258 [00:00<00:00, 11202.99it/s]\n"
     ]
    },
    {
     "name": "stdout",
     "output_type": "stream",
     "text": [
      "Average Precisions:\n",
      "+ Class '0' - AP: 0.2878510359976992\n",
      "+ Class '1' - AP: 0.5231473348111237\n",
      "+ Class '2' - AP: 0.3119498729851992\n",
      "+ Class '3' - AP: 0.0021714285714285715\n",
      "mAP: 0.28127991809136266\n",
      "Conf: 0.7000000000000001 NMS: 0.2\n",
      "Compute mAP...\n"
     ]
    },
    {
     "name": "stderr",
     "output_type": "stream",
     "text": [
      "Detecting objects: 100%|██████████| 258/258 [02:27<00:00,  1.75it/s]\n",
      "Computing AP for class '0': 100%|██████████| 258/258 [00:00<00:00, 11279.01it/s]\n",
      "Computing AP for class '1': 100%|██████████| 258/258 [00:00<00:00, 17775.69it/s]\n",
      "Computing AP for class '2': 100%|██████████| 258/258 [00:00<00:00, 22933.78it/s]\n",
      "Computing AP for class '3': 100%|██████████| 258/258 [00:00<00:00, 38578.63it/s]\n"
     ]
    },
    {
     "name": "stdout",
     "output_type": "stream",
     "text": [
      "Average Precisions:\n",
      "+ Class '0' - AP: 0.2878510359976992\n",
      "+ Class '1' - AP: 0.5231473348111237\n",
      "+ Class '2' - AP: 0.30811360565383916\n",
      "+ Class '3' - AP: 0.0021714285714285715\n",
      "mAP: 0.28032085125852263\n",
      "Conf: 0.8 NMS: 0.2\n",
      "Compute mAP...\n"
     ]
    },
    {
     "name": "stderr",
     "output_type": "stream",
     "text": [
      "Detecting objects: 100%|██████████| 258/258 [02:29<00:00,  1.72it/s]\n",
      "Computing AP for class '0': 100%|██████████| 258/258 [00:00<00:00, 20124.05it/s]\n",
      "Computing AP for class '1': 100%|██████████| 258/258 [00:00<00:00, 23451.67it/s]\n",
      "Computing AP for class '2': 100%|██████████| 258/258 [00:00<00:00, 67013.28it/s]\n",
      "Computing AP for class '3': 100%|██████████| 258/258 [00:00<00:00, 156174.11it/s]\n"
     ]
    },
    {
     "name": "stdout",
     "output_type": "stream",
     "text": [
      "Average Precisions:\n",
      "+ Class '0' - AP: 0.2840730266178138\n",
      "+ Class '1' - AP: 0.5113537009054215\n",
      "+ Class '2' - AP: 0.3004301075987298\n",
      "+ Class '3' - AP: 0.0018191780821917808\n",
      "mAP: 0.27441900330103924\n",
      "Conf: 0.9 NMS: 0.2\n",
      "Compute mAP...\n"
     ]
    },
    {
     "name": "stderr",
     "output_type": "stream",
     "text": [
      "Detecting objects: 100%|██████████| 258/258 [02:33<00:00,  1.68it/s]\n",
      "Computing AP for class '0': 100%|██████████| 258/258 [00:00<00:00, 21014.28it/s]\n",
      "Computing AP for class '1': 100%|██████████| 258/258 [00:00<00:00, 20842.67it/s]\n",
      "Computing AP for class '2': 100%|██████████| 258/258 [00:00<00:00, 42948.50it/s]\n",
      "Computing AP for class '3': 100%|██████████| 258/258 [00:00<00:00, 73509.30it/s]\n"
     ]
    },
    {
     "name": "stdout",
     "output_type": "stream",
     "text": [
      "Average Precisions:\n",
      "+ Class '0' - AP: 0.27218794829282905\n",
      "+ Class '1' - AP: 0.4989142046361767\n",
      "+ Class '2' - AP: 0.275785879904454\n",
      "+ Class '3' - AP: 0.0016\n",
      "mAP: 0.26212200820836495\n",
      "Conf: 0.1 NMS: 0.30000000000000004\n",
      "Compute mAP...\n"
     ]
    },
    {
     "name": "stderr",
     "output_type": "stream",
     "text": [
      "Detecting objects: 100%|██████████| 258/258 [02:33<00:00,  1.68it/s]\n",
      "Computing AP for class '0': 100%|██████████| 258/258 [00:00<00:00, 6599.08it/s]\n",
      "Computing AP for class '1': 100%|██████████| 258/258 [00:00<00:00, 9984.96it/s]\n",
      "Computing AP for class '2': 100%|██████████| 258/258 [00:00<00:00, 9524.54it/s]\n",
      "Computing AP for class '3': 100%|██████████| 258/258 [00:00<00:00, 7392.11it/s]\n"
     ]
    },
    {
     "name": "stdout",
     "output_type": "stream",
     "text": [
      "Average Precisions:\n",
      "+ Class '0' - AP: 0.29829299999274\n",
      "+ Class '1' - AP: 0.5804282798255584\n",
      "+ Class '2' - AP: 0.34573943706263505\n",
      "+ Class '3' - AP: 0.004933333333333333\n",
      "mAP: 0.30734851255356666\n",
      "Conf: 0.2 NMS: 0.30000000000000004\n",
      "Compute mAP...\n"
     ]
    },
    {
     "name": "stderr",
     "output_type": "stream",
     "text": [
      "Detecting objects: 100%|██████████| 258/258 [02:38<00:00,  1.63it/s]\n",
      "Computing AP for class '0': 100%|██████████| 258/258 [00:00<00:00, 17201.79it/s]\n",
      "Computing AP for class '1': 100%|██████████| 258/258 [00:00<00:00, 21500.70it/s]\n",
      "Computing AP for class '2': 100%|██████████| 258/258 [00:00<00:00, 23434.40it/s]\n",
      "Computing AP for class '3': 100%|██████████| 258/258 [00:00<00:00, 17808.74it/s]\n"
     ]
    },
    {
     "name": "stdout",
     "output_type": "stream",
     "text": [
      "Average Precisions:\n",
      "+ Class '0' - AP: 0.29063274273980194\n",
      "+ Class '1' - AP: 0.5744254797469597\n",
      "+ Class '2' - AP: 0.3302519912398805\n",
      "+ Class '3' - AP: 0.004061538461538461\n",
      "mAP: 0.29984293804704515\n",
      "Conf: 0.30000000000000004 NMS: 0.30000000000000004\n",
      "Compute mAP...\n"
     ]
    },
    {
     "name": "stderr",
     "output_type": "stream",
     "text": [
      "Detecting objects: 100%|██████████| 258/258 [02:43<00:00,  1.58it/s]\n",
      "Computing AP for class '0': 100%|██████████| 258/258 [00:00<00:00, 11231.59it/s]\n",
      "Computing AP for class '1': 100%|██████████| 258/258 [00:00<00:00, 8364.49it/s]\n",
      "Computing AP for class '2': 100%|██████████| 258/258 [00:00<00:00, 12223.73it/s]\n",
      "Computing AP for class '3': 100%|██████████| 258/258 [00:00<00:00, 10601.85it/s]\n"
     ]
    },
    {
     "name": "stdout",
     "output_type": "stream",
     "text": [
      "Average Precisions:\n",
      "+ Class '0' - AP: 0.2878510359976992\n",
      "+ Class '1' - AP: 0.5645344063430876\n",
      "+ Class '2' - AP: 0.3245538039399476\n",
      "+ Class '3' - AP: 0.0029043478260869574\n",
      "mAP: 0.2949608985267054\n",
      "Conf: 0.4 NMS: 0.30000000000000004\n",
      "Compute mAP...\n"
     ]
    },
    {
     "name": "stderr",
     "output_type": "stream",
     "text": [
      "Detecting objects: 100%|██████████| 258/258 [02:42<00:00,  1.59it/s]\n",
      "Computing AP for class '0': 100%|██████████| 258/258 [00:00<00:00, 18707.74it/s]\n",
      "Computing AP for class '1': 100%|██████████| 258/258 [00:00<00:00, 15612.00it/s]\n",
      "Computing AP for class '2': 100%|██████████| 258/258 [00:00<00:00, 17866.67it/s]\n",
      "Computing AP for class '3': 100%|██████████| 258/258 [00:00<00:00, 19421.91it/s]\n"
     ]
    },
    {
     "name": "stdout",
     "output_type": "stream",
     "text": [
      "Average Precisions:\n",
      "+ Class '0' - AP: 0.2878510359976992\n",
      "+ Class '1' - AP: 0.5471064175169714\n",
      "+ Class '2' - AP: 0.3245538039399476\n",
      "+ Class '3' - AP: 0.0019872463768115943\n",
      "mAP: 0.29037462595785746\n",
      "Conf: 0.5 NMS: 0.30000000000000004\n",
      "Compute mAP...\n"
     ]
    },
    {
     "name": "stderr",
     "output_type": "stream",
     "text": [
      "Detecting objects: 100%|██████████| 258/258 [02:14<00:00,  1.93it/s]\n",
      "Computing AP for class '0': 100%|██████████| 258/258 [00:00<00:00, 15199.53it/s]\n",
      "Computing AP for class '1': 100%|██████████| 258/258 [00:00<00:00, 18701.60it/s]\n",
      "Computing AP for class '2': 100%|██████████| 258/258 [00:00<00:00, 18725.87it/s]\n",
      "Computing AP for class '3': 100%|██████████| 258/258 [00:00<00:00, 18495.43it/s]\n"
     ]
    },
    {
     "name": "stdout",
     "output_type": "stream",
     "text": [
      "Average Precisions:\n",
      "+ Class '0' - AP: 0.2878510359976992\n",
      "+ Class '1' - AP: 0.5366384899030567\n",
      "+ Class '2' - AP: 0.31517490866926445\n",
      "+ Class '3' - AP: 0.0019872463768115943\n",
      "mAP: 0.28541292023670795\n",
      "Conf: 0.6 NMS: 0.30000000000000004\n",
      "Compute mAP...\n"
     ]
    },
    {
     "name": "stderr",
     "output_type": "stream",
     "text": [
      "Detecting objects: 100%|██████████| 258/258 [02:34<00:00,  1.67it/s]\n",
      "Computing AP for class '0': 100%|██████████| 258/258 [00:00<00:00, 14882.62it/s]\n",
      "Computing AP for class '1': 100%|██████████| 258/258 [00:00<00:00, 10765.43it/s]\n",
      "Computing AP for class '2': 100%|██████████| 258/258 [00:00<00:00, 17166.86it/s]\n",
      "Computing AP for class '3': 100%|██████████| 258/258 [00:00<00:00, 21421.11it/s]\n"
     ]
    },
    {
     "name": "stdout",
     "output_type": "stream",
     "text": [
      "Average Precisions:\n",
      "+ Class '0' - AP: 0.2878510359976992\n",
      "+ Class '1' - AP: 0.5222994271504728\n",
      "+ Class '2' - AP: 0.3115535300478858\n",
      "+ Class '3' - AP: 0.0018133333333333335\n",
      "mAP: 0.2808793316323478\n",
      "Conf: 0.7000000000000001 NMS: 0.30000000000000004\n",
      "Compute mAP...\n"
     ]
    },
    {
     "name": "stderr",
     "output_type": "stream",
     "text": [
      "Detecting objects: 100%|██████████| 258/258 [02:28<00:00,  1.74it/s]\n",
      "Computing AP for class '0': 100%|██████████| 258/258 [00:00<00:00, 18054.77it/s]\n",
      "Computing AP for class '1': 100%|██████████| 258/258 [00:00<00:00, 15896.15it/s]\n",
      "Computing AP for class '2': 100%|██████████| 258/258 [00:00<00:00, 6235.66it/s]\n",
      "Computing AP for class '3': 100%|██████████| 258/258 [00:00<00:00, 30377.30it/s]\n"
     ]
    },
    {
     "name": "stdout",
     "output_type": "stream",
     "text": [
      "Average Precisions:\n",
      "+ Class '0' - AP: 0.2878510359976992\n",
      "+ Class '1' - AP: 0.5222994271504728\n",
      "+ Class '2' - AP: 0.30774546000847247\n",
      "+ Class '3' - AP: 0.0018133333333333335\n",
      "mAP: 0.2799273141224944\n",
      "Conf: 0.8 NMS: 0.30000000000000004\n",
      "Compute mAP...\n"
     ]
    },
    {
     "name": "stderr",
     "output_type": "stream",
     "text": [
      "Detecting objects: 100%|██████████| 258/258 [02:27<00:00,  1.75it/s]\n",
      "Computing AP for class '0': 100%|██████████| 258/258 [00:00<00:00, 16571.93it/s]\n",
      "Computing AP for class '1': 100%|██████████| 258/258 [00:00<00:00, 14760.42it/s]\n",
      "Computing AP for class '2': 100%|██████████| 258/258 [00:00<00:00, 17784.45it/s]\n",
      "Computing AP for class '3': 100%|██████████| 258/258 [00:00<00:00, 28596.77it/s]\n"
     ]
    },
    {
     "name": "stdout",
     "output_type": "stream",
     "text": [
      "Average Precisions:\n",
      "+ Class '0' - AP: 0.2840730266178138\n",
      "+ Class '1' - AP: 0.5107508084715415\n",
      "+ Class '2' - AP: 0.3001210856848795\n",
      "+ Class '3' - AP: 0.0018133333333333335\n",
      "mAP: 0.27418956352689206\n",
      "Conf: 0.9 NMS: 0.30000000000000004\n",
      "Compute mAP...\n"
     ]
    },
    {
     "name": "stderr",
     "output_type": "stream",
     "text": [
      "Detecting objects: 100%|██████████| 258/258 [02:26<00:00,  1.76it/s]\n",
      "Computing AP for class '0': 100%|██████████| 258/258 [00:00<00:00, 32275.42it/s]\n",
      "Computing AP for class '1': 100%|██████████| 258/258 [00:00<00:00, 58291.88it/s]\n",
      "Computing AP for class '2': 100%|██████████| 258/258 [00:00<00:00, 21295.49it/s]\n",
      "Computing AP for class '3': 100%|██████████| 258/258 [00:00<00:00, 40787.40it/s]\n"
     ]
    },
    {
     "name": "stdout",
     "output_type": "stream",
     "text": [
      "Average Precisions:\n",
      "+ Class '0' - AP: 0.27218794829282905\n",
      "+ Class '1' - AP: 0.498530152415269\n",
      "+ Class '2' - AP: 0.2756725212123614\n",
      "+ Class '3' - AP: 0.0016\n",
      "mAP: 0.2619976554801149\n",
      "Conf: 0.1 NMS: 0.4\n",
      "Compute mAP...\n"
     ]
    },
    {
     "name": "stderr",
     "output_type": "stream",
     "text": [
      "Detecting objects: 100%|██████████| 258/258 [02:26<00:00,  1.76it/s]\n",
      "Computing AP for class '0': 100%|██████████| 258/258 [00:00<00:00, 16367.40it/s]\n",
      "Computing AP for class '1': 100%|██████████| 258/258 [00:00<00:00, 8813.21it/s]\n",
      "Computing AP for class '2': 100%|██████████| 258/258 [00:00<00:00, 10875.25it/s]\n",
      "Computing AP for class '3': 100%|██████████| 258/258 [00:00<00:00, 8940.35it/s]\n"
     ]
    },
    {
     "name": "stdout",
     "output_type": "stream",
     "text": [
      "Average Precisions:\n",
      "+ Class '0' - AP: 0.28355451909439333\n",
      "+ Class '1' - AP: 0.5757041995869412\n",
      "+ Class '2' - AP: 0.3478143887096054\n",
      "+ Class '3' - AP: 0.00414416961130742\n",
      "mAP: 0.30280431925056184\n",
      "Conf: 0.2 NMS: 0.4\n",
      "Compute mAP...\n"
     ]
    },
    {
     "name": "stderr",
     "output_type": "stream",
     "text": [
      "Detecting objects: 100%|██████████| 258/258 [02:25<00:00,  1.77it/s]\n",
      "Computing AP for class '0': 100%|██████████| 258/258 [00:00<00:00, 14423.41it/s]\n",
      "Computing AP for class '1': 100%|██████████| 258/258 [00:00<00:00, 13578.91it/s]\n",
      "Computing AP for class '2': 100%|██████████| 258/258 [00:00<00:00, 11254.02it/s]\n",
      "Computing AP for class '3': 100%|██████████| 258/258 [00:00<00:00, 13784.05it/s]\n"
     ]
    },
    {
     "name": "stdout",
     "output_type": "stream",
     "text": [
      "Average Precisions:\n",
      "+ Class '0' - AP: 0.28110199674302133\n",
      "+ Class '1' - AP: 0.5780463326569907\n",
      "+ Class '2' - AP: 0.3332048501797291\n",
      "+ Class '3' - AP: 0.003392\n",
      "mAP: 0.2989362948949353\n",
      "Conf: 0.30000000000000004 NMS: 0.4\n",
      "Compute mAP...\n"
     ]
    },
    {
     "name": "stderr",
     "output_type": "stream",
     "text": [
      "Detecting objects: 100%|██████████| 258/258 [02:26<00:00,  1.76it/s]\n",
      "Computing AP for class '0': 100%|██████████| 258/258 [00:00<00:00, 16122.56it/s]\n",
      "Computing AP for class '1': 100%|██████████| 258/258 [00:00<00:00, 12884.50it/s]\n",
      "Computing AP for class '2': 100%|██████████| 258/258 [00:00<00:00, 12496.02it/s]\n",
      "Computing AP for class '3': 100%|██████████| 258/258 [00:00<00:00, 16068.46it/s]\n"
     ]
    },
    {
     "name": "stdout",
     "output_type": "stream",
     "text": [
      "Average Precisions:\n",
      "+ Class '0' - AP: 0.2759000007948301\n",
      "+ Class '1' - AP: 0.5655838183560069\n",
      "+ Class '2' - AP: 0.3277347412889041\n",
      "+ Class '3' - AP: 0.0024421052631578943\n",
      "mAP: 0.29291516642572474\n",
      "Conf: 0.4 NMS: 0.4\n",
      "Compute mAP...\n"
     ]
    },
    {
     "name": "stderr",
     "output_type": "stream",
     "text": [
      "Detecting objects: 100%|██████████| 258/258 [02:25<00:00,  1.77it/s]\n",
      "Computing AP for class '0': 100%|██████████| 258/258 [00:00<00:00, 15499.97it/s]\n",
      "Computing AP for class '1': 100%|██████████| 258/258 [00:00<00:00, 13251.82it/s]\n",
      "Computing AP for class '2': 100%|██████████| 258/258 [00:00<00:00, 18263.19it/s]\n",
      "Computing AP for class '3': 100%|██████████| 258/258 [00:00<00:00, 18742.08it/s]\n"
     ]
    },
    {
     "name": "stdout",
     "output_type": "stream",
     "text": [
      "Average Precisions:\n",
      "+ Class '0' - AP: 0.2759000007948301\n",
      "+ Class '1' - AP: 0.5556877118050033\n",
      "+ Class '2' - AP: 0.3277347412889041\n",
      "+ Class '3' - AP: 0.001979540400296516\n",
      "mAP: 0.29032549857225853\n",
      "Conf: 0.5 NMS: 0.4\n",
      "Compute mAP...\n"
     ]
    },
    {
     "name": "stderr",
     "output_type": "stream",
     "text": [
      "Detecting objects: 100%|██████████| 258/258 [02:26<00:00,  1.76it/s]\n",
      "Computing AP for class '0': 100%|██████████| 258/258 [00:00<00:00, 17202.34it/s]\n",
      "Computing AP for class '1': 100%|██████████| 258/258 [00:00<00:00, 11363.45it/s]\n",
      "Computing AP for class '2': 100%|██████████| 258/258 [00:00<00:00, 17049.21it/s]\n",
      "Computing AP for class '3': 100%|██████████| 258/258 [00:00<00:00, 31592.28it/s]\n"
     ]
    },
    {
     "name": "stdout",
     "output_type": "stream",
     "text": [
      "Average Precisions:\n",
      "+ Class '0' - AP: 0.2759000007948301\n",
      "+ Class '1' - AP: 0.5456577046814635\n",
      "+ Class '2' - AP: 0.3096849552215258\n",
      "+ Class '3' - AP: 0.001979540400296516\n",
      "mAP: 0.28330555027452897\n",
      "Conf: 0.6 NMS: 0.4\n",
      "Compute mAP...\n"
     ]
    },
    {
     "name": "stderr",
     "output_type": "stream",
     "text": [
      "Detecting objects: 100%|██████████| 258/258 [02:26<00:00,  1.76it/s]\n",
      "Computing AP for class '0': 100%|██████████| 258/258 [00:00<00:00, 15702.62it/s]\n",
      "Computing AP for class '1': 100%|██████████| 258/258 [00:00<00:00, 13454.82it/s]\n",
      "Computing AP for class '2': 100%|██████████| 258/258 [00:00<00:00, 18902.83it/s]\n",
      "Computing AP for class '3': 100%|██████████| 258/258 [00:00<00:00, 312123.00it/s]\n"
     ]
    },
    {
     "name": "stdout",
     "output_type": "stream",
     "text": [
      "Average Precisions:\n",
      "+ Class '0' - AP: 0.2759000007948301\n",
      "+ Class '1' - AP: 0.531852051093335\n",
      "+ Class '2' - AP: 0.307159566440927\n",
      "+ Class '3' - AP: 0.0018105263157894738\n",
      "mAP: 0.2791805361612204\n",
      "Conf: 0.7000000000000001 NMS: 0.4\n",
      "Compute mAP...\n"
     ]
    },
    {
     "name": "stderr",
     "output_type": "stream",
     "text": [
      "Detecting objects: 100%|██████████| 258/258 [02:26<00:00,  1.76it/s]\n",
      "Computing AP for class '0': 100%|██████████| 258/258 [00:00<00:00, 15178.64it/s]\n",
      "Computing AP for class '1': 100%|██████████| 258/258 [00:00<00:00, 14243.43it/s]\n",
      "Computing AP for class '2': 100%|██████████| 258/258 [00:00<00:00, 58613.93it/s]\n",
      "Computing AP for class '3': 100%|██████████| 258/258 [00:00<00:00, 36874.89it/s]\n"
     ]
    },
    {
     "name": "stdout",
     "output_type": "stream",
     "text": [
      "Average Precisions:\n",
      "+ Class '0' - AP: 0.2874516974708473\n",
      "+ Class '1' - AP: 0.531852051093335\n",
      "+ Class '2' - AP: 0.30360062538198596\n",
      "+ Class '3' - AP: 0.0018105263157894738\n",
      "mAP: 0.28117872506548947\n",
      "Conf: 0.8 NMS: 0.4\n",
      "Compute mAP...\n"
     ]
    },
    {
     "name": "stderr",
     "output_type": "stream",
     "text": [
      "Detecting objects: 100%|██████████| 258/258 [02:28<00:00,  1.74it/s]\n",
      "Computing AP for class '0': 100%|██████████| 258/258 [00:00<00:00, 17467.52it/s]\n",
      "Computing AP for class '1': 100%|██████████| 258/258 [00:00<00:00, 19828.32it/s]\n",
      "Computing AP for class '2': 100%|██████████| 258/258 [00:00<00:00, 22609.39it/s]\n",
      "Computing AP for class '3': 100%|██████████| 258/258 [00:00<00:00, 37645.87it/s]\n"
     ]
    },
    {
     "name": "stdout",
     "output_type": "stream",
     "text": [
      "Average Precisions:\n",
      "+ Class '0' - AP: 0.283794006861022\n",
      "+ Class '1' - AP: 0.5168616766093075\n",
      "+ Class '2' - AP: 0.29636448465703924\n",
      "+ Class '3' - AP: 0.0018105263157894738\n",
      "mAP: 0.27470767361078957\n",
      "Conf: 0.9 NMS: 0.4\n",
      "Compute mAP...\n"
     ]
    },
    {
     "name": "stderr",
     "output_type": "stream",
     "text": [
      "Detecting objects: 100%|██████████| 258/258 [02:25<00:00,  1.77it/s]\n",
      "Computing AP for class '0': 100%|██████████| 258/258 [00:00<00:00, 15415.62it/s]\n",
      "Computing AP for class '1': 100%|██████████| 258/258 [00:00<00:00, 20415.24it/s]\n",
      "Computing AP for class '2': 100%|██████████| 258/258 [00:00<00:00, 27121.06it/s]\n",
      "Computing AP for class '3': 100%|██████████| 258/258 [00:00<00:00, 52120.72it/s]\n"
     ]
    },
    {
     "name": "stdout",
     "output_type": "stream",
     "text": [
      "Average Precisions:\n",
      "+ Class '0' - AP: 0.27207362953709024\n",
      "+ Class '1' - AP: 0.500905275450277\n",
      "+ Class '2' - AP: 0.2728498368624375\n",
      "+ Class '3' - AP: 0.0016\n",
      "mAP: 0.2618571854624512\n",
      "Conf: 0.1 NMS: 0.5\n",
      "Compute mAP...\n"
     ]
    },
    {
     "name": "stderr",
     "output_type": "stream",
     "text": [
      "Detecting objects: 100%|██████████| 258/258 [02:46<00:00,  1.55it/s]\n",
      "Computing AP for class '0': 100%|██████████| 258/258 [00:00<00:00, 7969.50it/s]\n",
      "Computing AP for class '1': 100%|██████████| 258/258 [00:00<00:00, 6485.10it/s]\n",
      "Computing AP for class '2': 100%|██████████| 258/258 [00:00<00:00, 11722.41it/s]\n",
      "Computing AP for class '3': 100%|██████████| 258/258 [00:00<00:00, 7342.25it/s]\n"
     ]
    },
    {
     "name": "stdout",
     "output_type": "stream",
     "text": [
      "Average Precisions:\n",
      "+ Class '0' - AP: 0.22172096946399183\n",
      "+ Class '1' - AP: 0.5024879196741115\n",
      "+ Class '2' - AP: 0.281298270692261\n",
      "+ Class '3' - AP: 0.004494736842105263\n",
      "mAP: 0.2525004741681174\n",
      "Conf: 0.2 NMS: 0.5\n",
      "Compute mAP...\n"
     ]
    },
    {
     "name": "stderr",
     "output_type": "stream",
     "text": [
      "Detecting objects: 100%|██████████| 258/258 [02:55<00:00,  1.47it/s]\n",
      "Computing AP for class '0': 100%|██████████| 258/258 [00:00<00:00, 8815.37it/s]\n",
      "Computing AP for class '1': 100%|██████████| 258/258 [00:00<00:00, 7460.96it/s]\n",
      "Computing AP for class '2': 100%|██████████| 258/258 [00:00<00:00, 7622.30it/s]\n",
      "Computing AP for class '3': 100%|██████████| 258/258 [00:00<00:00, 8009.20it/s]\n"
     ]
    },
    {
     "name": "stdout",
     "output_type": "stream",
     "text": [
      "Average Precisions:\n",
      "+ Class '0' - AP: 0.2164043870123257\n",
      "+ Class '1' - AP: 0.5511196833481581\n",
      "+ Class '2' - AP: 0.26563015770876636\n",
      "+ Class '3' - AP: 0.0037573033707865165\n",
      "mAP: 0.25922788286000914\n",
      "Conf: 0.30000000000000004 NMS: 0.5\n",
      "Compute mAP...\n"
     ]
    },
    {
     "name": "stderr",
     "output_type": "stream",
     "text": [
      "Detecting objects: 100%|██████████| 258/258 [02:59<00:00,  1.44it/s]\n",
      "Computing AP for class '0': 100%|██████████| 258/258 [00:00<00:00, 8888.13it/s]\n",
      "Computing AP for class '1': 100%|██████████| 258/258 [00:00<00:00, 8782.81it/s]\n",
      "Computing AP for class '2': 100%|██████████| 258/258 [00:00<00:00, 9939.20it/s]\n",
      "Computing AP for class '3': 100%|██████████| 258/258 [00:00<00:00, 13588.63it/s]\n"
     ]
    },
    {
     "name": "stdout",
     "output_type": "stream",
     "text": [
      "Average Precisions:\n",
      "+ Class '0' - AP: 0.21911804292349993\n",
      "+ Class '1' - AP: 0.5463950255879748\n",
      "+ Class '2' - AP: 0.2694829871911413\n",
      "+ Class '3' - AP: 0.002849751243781095\n",
      "mAP: 0.25946145173659924\n",
      "Conf: 0.4 NMS: 0.5\n",
      "Compute mAP...\n"
     ]
    },
    {
     "name": "stderr",
     "output_type": "stream",
     "text": [
      "Detecting objects: 100%|██████████| 258/258 [02:55<00:00,  1.47it/s]\n",
      "Computing AP for class '0': 100%|██████████| 258/258 [00:00<00:00, 9644.14it/s]\n",
      "Computing AP for class '1': 100%|██████████| 258/258 [00:00<00:00, 10106.66it/s]\n",
      "Computing AP for class '2': 100%|██████████| 258/258 [00:00<00:00, 10109.87it/s]\n",
      "Computing AP for class '3': 100%|██████████| 258/258 [00:00<00:00, 13840.99it/s]\n"
     ]
    },
    {
     "name": "stdout",
     "output_type": "stream",
     "text": [
      "Average Precisions:\n",
      "+ Class '0' - AP: 0.228043263457888\n",
      "+ Class '1' - AP: 0.5382760798788636\n",
      "+ Class '2' - AP: 0.2908310554759937\n",
      "+ Class '3' - AP: 0.0023466666666666666\n",
      "mAP: 0.264874266369853\n",
      "Conf: 0.5 NMS: 0.5\n",
      "Compute mAP...\n"
     ]
    },
    {
     "name": "stderr",
     "output_type": "stream",
     "text": [
      "Detecting objects: 100%|██████████| 258/258 [02:55<00:00,  1.47it/s]\n",
      "Computing AP for class '0': 100%|██████████| 258/258 [00:00<00:00, 7978.14it/s]\n",
      "Computing AP for class '1': 100%|██████████| 258/258 [00:00<00:00, 8127.15it/s]\n",
      "Computing AP for class '2': 100%|██████████| 258/258 [00:00<00:00, 10071.11it/s]\n",
      "Computing AP for class '3': 100%|██████████| 258/258 [00:00<00:00, 14521.54it/s]\n"
     ]
    },
    {
     "name": "stdout",
     "output_type": "stream",
     "text": [
      "Average Precisions:\n",
      "+ Class '0' - AP: 0.23598677673298607\n",
      "+ Class '1' - AP: 0.529110134016279\n",
      "+ Class '2' - AP: 0.27662052916020424\n",
      "+ Class '3' - AP: 0.0023466666666666666\n",
      "mAP: 0.261016026644034\n",
      "Conf: 0.6 NMS: 0.5\n",
      "Compute mAP...\n"
     ]
    },
    {
     "name": "stderr",
     "output_type": "stream",
     "text": [
      "Detecting objects: 100%|██████████| 258/258 [02:56<00:00,  1.46it/s]\n",
      "Computing AP for class '0': 100%|██████████| 258/258 [00:00<00:00, 11725.84it/s]\n",
      "Computing AP for class '1': 100%|██████████| 258/258 [00:00<00:00, 9976.31it/s]\n",
      "Computing AP for class '2': 100%|██████████| 258/258 [00:00<00:00, 11993.02it/s]\n",
      "Computing AP for class '3': 100%|██████████| 258/258 [00:00<00:00, 19766.02it/s]\n"
     ]
    },
    {
     "name": "stdout",
     "output_type": "stream",
     "text": [
      "Average Precisions:\n",
      "+ Class '0' - AP: 0.24039983494130127\n",
      "+ Class '1' - AP: 0.5164998672487825\n",
      "+ Class '2' - AP: 0.27189833429394117\n",
      "+ Class '3' - AP: 0.0021333333333333334\n",
      "mAP: 0.25773284245433953\n",
      "Conf: 0.7000000000000001 NMS: 0.5\n",
      "Compute mAP...\n"
     ]
    },
    {
     "name": "stderr",
     "output_type": "stream",
     "text": [
      "Detecting objects: 100%|██████████| 258/258 [02:56<00:00,  1.46it/s]\n",
      "Computing AP for class '0': 100%|██████████| 258/258 [00:00<00:00, 10309.83it/s]\n",
      "Computing AP for class '1': 100%|██████████| 258/258 [00:00<00:00, 10608.08it/s]\n",
      "Computing AP for class '2': 100%|██████████| 258/258 [00:00<00:00, 17432.91it/s]\n",
      "Computing AP for class '3': 100%|██████████| 258/258 [00:00<00:00, 23451.16it/s]\n"
     ]
    },
    {
     "name": "stdout",
     "output_type": "stream",
     "text": [
      "Average Precisions:\n",
      "+ Class '0' - AP: 0.24818395631984208\n",
      "+ Class '1' - AP: 0.5203945301532139\n",
      "+ Class '2' - AP: 0.27515484148540953\n",
      "+ Class '3' - AP: 0.0021333333333333334\n",
      "mAP: 0.2614666653229497\n",
      "Conf: 0.8 NMS: 0.5\n",
      "Compute mAP...\n"
     ]
    },
    {
     "name": "stderr",
     "output_type": "stream",
     "text": [
      "Detecting objects: 100%|██████████| 258/258 [02:54<00:00,  1.47it/s]\n",
      "Computing AP for class '0': 100%|██████████| 258/258 [00:00<00:00, 15734.59it/s]\n",
      "Computing AP for class '1': 100%|██████████| 258/258 [00:00<00:00, 12052.06it/s]\n",
      "Computing AP for class '2': 100%|██████████| 258/258 [00:00<00:00, 14754.78it/s]\n",
      "Computing AP for class '3': 100%|██████████| 258/258 [00:00<00:00, 29978.40it/s]\n"
     ]
    },
    {
     "name": "stdout",
     "output_type": "stream",
     "text": [
      "Average Precisions:\n",
      "+ Class '0' - AP: 0.2553509135517019\n",
      "+ Class '1' - AP: 0.5063392682064822\n",
      "+ Class '2' - AP: 0.2683534262018514\n",
      "+ Class '3' - AP: 0.0018077922077922078\n",
      "mAP: 0.2579628500419569\n",
      "Conf: 0.9 NMS: 0.5\n",
      "Compute mAP...\n"
     ]
    },
    {
     "name": "stderr",
     "output_type": "stream",
     "text": [
      "Detecting objects: 100%|██████████| 258/258 [02:18<00:00,  1.86it/s]\n",
      "Computing AP for class '0': 100%|██████████| 258/258 [00:00<00:00, 21398.66it/s]\n",
      "Computing AP for class '1': 100%|██████████| 258/258 [00:00<00:00, 25766.85it/s]\n",
      "Computing AP for class '2': 100%|██████████| 258/258 [00:00<00:00, 25801.87it/s]\n",
      "Computing AP for class '3': 100%|██████████| 258/258 [00:00<?, ?it/s]\n"
     ]
    },
    {
     "name": "stdout",
     "output_type": "stream",
     "text": [
      "Average Precisions:\n",
      "+ Class '0' - AP: 0.24442197042378672\n",
      "+ Class '1' - AP: 0.4912767735134473\n",
      "+ Class '2' - AP: 0.24722496136140792\n",
      "+ Class '3' - AP: 0.0016\n",
      "mAP: 0.2461309263246605\n",
      "Conf: 0.1 NMS: 0.6\n",
      "Compute mAP...\n"
     ]
    },
    {
     "name": "stderr",
     "output_type": "stream",
     "text": [
      "Detecting objects: 100%|██████████| 258/258 [02:12<00:00,  1.94it/s]\n",
      "Computing AP for class '0': 100%|██████████| 258/258 [00:00<00:00, 8525.75it/s]\n",
      "Computing AP for class '1': 100%|██████████| 258/258 [00:00<00:00, 6088.31it/s]\n",
      "Computing AP for class '2': 100%|██████████| 258/258 [00:00<00:00, 8049.89it/s]\n",
      "Computing AP for class '3': 100%|██████████| 258/258 [00:00<00:00, 8149.49it/s]\n"
     ]
    },
    {
     "name": "stdout",
     "output_type": "stream",
     "text": [
      "Average Precisions:\n",
      "+ Class '0' - AP: 0.17953344804001564\n",
      "+ Class '1' - AP: 0.31929733788105785\n",
      "+ Class '2' - AP: 0.18860464038700248\n",
      "+ Class '3' - AP: 0.0040574946720340985\n",
      "mAP: 0.17287323024502751\n",
      "Conf: 0.2 NMS: 0.6\n",
      "Compute mAP...\n"
     ]
    },
    {
     "name": "stderr",
     "output_type": "stream",
     "text": [
      "Detecting objects: 100%|██████████| 258/258 [02:11<00:00,  1.96it/s]\n",
      "Computing AP for class '0': 100%|██████████| 258/258 [00:00<00:00, 9127.67it/s]\n",
      "Computing AP for class '1': 100%|██████████| 258/258 [00:00<00:00, 8371.86it/s]\n",
      "Computing AP for class '2': 100%|██████████| 258/258 [00:00<00:00, 10233.78it/s]\n",
      "Computing AP for class '3': 100%|██████████| 258/258 [00:00<00:00, 11480.03it/s]\n"
     ]
    },
    {
     "name": "stdout",
     "output_type": "stream",
     "text": [
      "Average Precisions:\n",
      "+ Class '0' - AP: 0.17665399263117382\n",
      "+ Class '1' - AP: 0.3836940587499867\n",
      "+ Class '2' - AP: 0.19025906934177592\n",
      "+ Class '3' - AP: 0.0036\n",
      "mAP: 0.18855178018073412\n",
      "Conf: 0.30000000000000004 NMS: 0.6\n",
      "Compute mAP...\n"
     ]
    },
    {
     "name": "stderr",
     "output_type": "stream",
     "text": [
      "Detecting objects: 100%|██████████| 258/258 [02:11<00:00,  1.96it/s]\n",
      "Computing AP for class '0': 100%|██████████| 258/258 [00:00<00:00, 7957.37it/s]\n",
      "Computing AP for class '1': 100%|██████████| 258/258 [00:00<00:00, 8473.94it/s]\n",
      "Computing AP for class '2': 100%|██████████| 258/258 [00:00<00:00, 17141.03it/s]\n",
      "Computing AP for class '3': 100%|██████████| 258/258 [00:00<00:00, 15838.22it/s]\n"
     ]
    },
    {
     "name": "stdout",
     "output_type": "stream",
     "text": [
      "Average Precisions:\n",
      "+ Class '0' - AP: 0.17987850032152816\n",
      "+ Class '1' - AP: 0.4031529305787562\n",
      "+ Class '2' - AP: 0.19655870391883057\n",
      "+ Class '3' - AP: 0.002711111111111111\n",
      "mAP: 0.1955753114825565\n",
      "Conf: 0.4 NMS: 0.6\n",
      "Compute mAP...\n"
     ]
    },
    {
     "name": "stderr",
     "output_type": "stream",
     "text": [
      "Detecting objects: 100%|██████████| 258/258 [02:10<00:00,  1.98it/s]\n",
      "Computing AP for class '0': 100%|██████████| 258/258 [00:00<00:00, 16336.26it/s]\n",
      "Computing AP for class '1': 100%|██████████| 258/258 [00:00<00:00, 11721.14it/s]\n",
      "Computing AP for class '2': 100%|██████████| 258/258 [00:00<00:00, 9655.07it/s]\n",
      "Computing AP for class '3': 100%|██████████| 258/258 [00:00<00:00, 13732.10it/s]\n"
     ]
    },
    {
     "name": "stdout",
     "output_type": "stream",
     "text": [
      "Average Precisions:\n",
      "+ Class '0' - AP: 0.18788156868326328\n",
      "+ Class '1' - AP: 0.39515006409902836\n",
      "+ Class '2' - AP: 0.21159284051793617\n",
      "+ Class '3' - AP: 0.0021783132530120487\n",
      "mAP: 0.19920069663830997\n",
      "Conf: 0.5 NMS: 0.6\n",
      "Compute mAP...\n"
     ]
    },
    {
     "name": "stderr",
     "output_type": "stream",
     "text": [
      "Detecting objects: 100%|██████████| 258/258 [02:11<00:00,  1.96it/s]\n",
      "Computing AP for class '0': 100%|██████████| 258/258 [00:00<00:00, 11693.40it/s]\n",
      "Computing AP for class '1': 100%|██████████| 258/258 [00:00<00:00, 8477.79it/s]\n",
      "Computing AP for class '2': 100%|██████████| 258/258 [00:00<00:00, 15273.76it/s]\n",
      "Computing AP for class '3': 100%|██████████| 258/258 [00:00<00:00, 17637.78it/s]\n"
     ]
    },
    {
     "name": "stdout",
     "output_type": "stream",
     "text": [
      "Average Precisions:\n",
      "+ Class '0' - AP: 0.19396711351989998\n",
      "+ Class '1' - AP: 0.4012425855540377\n",
      "+ Class '2' - AP: 0.2154507891443395\n",
      "+ Class '3' - AP: 0.0021783132530120487\n",
      "mAP: 0.20320970036782232\n",
      "Conf: 0.6 NMS: 0.6\n",
      "Compute mAP...\n"
     ]
    },
    {
     "name": "stderr",
     "output_type": "stream",
     "text": [
      "Detecting objects: 100%|██████████| 258/258 [02:11<00:00,  1.96it/s]\n",
      "Computing AP for class '0': 100%|██████████| 258/258 [00:00<00:00, 12885.27it/s]\n",
      "Computing AP for class '1': 100%|██████████| 258/258 [00:00<00:00, 7532.84it/s]\n",
      "Computing AP for class '2': 100%|██████████| 258/258 [00:00<00:00, 11194.07it/s]\n",
      "Computing AP for class '3': 100%|██████████| 258/258 [00:00<00:00, 18729.11it/s]\n"
     ]
    },
    {
     "name": "stdout",
     "output_type": "stream",
     "text": [
      "Average Precisions:\n",
      "+ Class '0' - AP: 0.1979507823053979\n",
      "+ Class '1' - AP: 0.390909307985173\n",
      "+ Class '2' - AP: 0.221421901611832\n",
      "+ Class '3' - AP: 0.002094845360824742\n",
      "mAP: 0.2030942093158069\n",
      "Conf: 0.7000000000000001 NMS: 0.6\n",
      "Compute mAP...\n"
     ]
    },
    {
     "name": "stderr",
     "output_type": "stream",
     "text": [
      "Detecting objects: 100%|██████████| 258/258 [02:11<00:00,  1.97it/s]\n",
      "Computing AP for class '0': 100%|██████████| 258/258 [00:00<00:00, 13217.34it/s]\n",
      "Computing AP for class '1': 100%|██████████| 258/258 [00:00<00:00, 13095.30it/s]\n",
      "Computing AP for class '2': 100%|██████████| 258/258 [00:00<00:00, 16621.57it/s]\n",
      "Computing AP for class '3': 100%|██████████| 258/258 [00:00<00:00, 27784.69it/s]\n"
     ]
    },
    {
     "name": "stdout",
     "output_type": "stream",
     "text": [
      "Average Precisions:\n",
      "+ Class '0' - AP: 0.21441141972957575\n",
      "+ Class '1' - AP: 0.3916532859359204\n",
      "+ Class '2' - AP: 0.21991619219027975\n",
      "+ Class '3' - AP: 0.002094845360824742\n",
      "mAP: 0.20701893580415015\n",
      "Conf: 0.8 NMS: 0.6\n",
      "Compute mAP...\n"
     ]
    },
    {
     "name": "stderr",
     "output_type": "stream",
     "text": [
      "Detecting objects: 100%|██████████| 258/258 [02:10<00:00,  1.97it/s]\n",
      "Computing AP for class '0': 100%|██████████| 258/258 [00:00<00:00, 14955.23it/s]\n",
      "Computing AP for class '1': 100%|██████████| 258/258 [00:00<00:00, 12096.25it/s]\n",
      "Computing AP for class '2': 100%|██████████| 258/258 [00:00<00:00, 15515.30it/s]\n",
      "Computing AP for class '3': 100%|██████████| 258/258 [00:00<00:00, 32733.31it/s]\n"
     ]
    },
    {
     "name": "stdout",
     "output_type": "stream",
     "text": [
      "Average Precisions:\n",
      "+ Class '0' - AP: 0.2228617993346641\n",
      "+ Class '1' - AP: 0.38816218058629315\n",
      "+ Class '2' - AP: 0.2168875265386345\n",
      "+ Class '3' - AP: 0.0017951219512195122\n",
      "mAP: 0.20742665710270283\n",
      "Conf: 0.9 NMS: 0.6\n",
      "Compute mAP...\n"
     ]
    },
    {
     "name": "stderr",
     "output_type": "stream",
     "text": [
      "Detecting objects: 100%|██████████| 258/258 [02:10<00:00,  1.98it/s]\n",
      "Computing AP for class '0': 100%|██████████| 258/258 [00:00<00:00, 16567.11it/s]\n",
      "Computing AP for class '1': 100%|██████████| 258/258 [00:00<00:00, 14992.52it/s]\n",
      "Computing AP for class '2': 100%|██████████| 258/258 [00:00<00:00, 15950.74it/s]\n",
      "Computing AP for class '3': 100%|██████████| 258/258 [00:00<00:00, 24259.21it/s]\n"
     ]
    },
    {
     "name": "stdout",
     "output_type": "stream",
     "text": [
      "Average Precisions:\n",
      "+ Class '0' - AP: 0.23040039779018093\n",
      "+ Class '1' - AP: 0.38302282890486106\n",
      "+ Class '2' - AP: 0.21059947185725997\n",
      "+ Class '3' - AP: 0.0016\n",
      "mAP: 0.20640567463807552\n",
      "Conf: 0.1 NMS: 0.7000000000000001\n",
      "Compute mAP...\n"
     ]
    },
    {
     "name": "stderr",
     "output_type": "stream",
     "text": [
      "Detecting objects: 100%|██████████| 258/258 [02:11<00:00,  1.96it/s]\n",
      "Computing AP for class '0': 100%|██████████| 258/258 [00:00<00:00, 7142.59it/s]\n",
      "Computing AP for class '1': 100%|██████████| 258/258 [00:00<00:00, 5428.92it/s]\n",
      "Computing AP for class '2': 100%|██████████| 258/258 [00:00<00:00, 11133.83it/s]\n",
      "Computing AP for class '3': 100%|██████████| 258/258 [00:00<00:00, 8233.70it/s]\n"
     ]
    },
    {
     "name": "stdout",
     "output_type": "stream",
     "text": [
      "Average Precisions:\n",
      "+ Class '0' - AP: 0.11290334029227277\n",
      "+ Class '1' - AP: 0.21535793914222448\n",
      "+ Class '2' - AP: 0.13411035435551893\n",
      "+ Class '3' - AP: 0.0028147574222587633\n",
      "mAP: 0.11629659780306874\n",
      "Conf: 0.2 NMS: 0.7000000000000001\n",
      "Compute mAP...\n"
     ]
    },
    {
     "name": "stderr",
     "output_type": "stream",
     "text": [
      "Detecting objects: 100%|██████████| 258/258 [02:11<00:00,  1.96it/s]\n",
      "Computing AP for class '0': 100%|██████████| 258/258 [00:00<00:00, 6870.41it/s]\n",
      "Computing AP for class '1': 100%|██████████| 258/258 [00:00<00:00, 4741.59it/s]\n",
      "Computing AP for class '2': 100%|██████████| 258/258 [00:00<00:00, 7437.02it/s]\n",
      "Computing AP for class '3': 100%|██████████| 258/258 [00:00<00:00, 7108.24it/s]\n"
     ]
    },
    {
     "name": "stdout",
     "output_type": "stream",
     "text": [
      "Average Precisions:\n",
      "+ Class '0' - AP: 0.1163654796165817\n",
      "+ Class '1' - AP: 0.24571675925606626\n",
      "+ Class '2' - AP: 0.14310300569399473\n",
      "+ Class '3' - AP: 0.0025889967637540453\n",
      "mAP: 0.12694356033259918\n",
      "Conf: 0.30000000000000004 NMS: 0.7000000000000001\n",
      "Compute mAP...\n"
     ]
    },
    {
     "name": "stderr",
     "output_type": "stream",
     "text": [
      "Detecting objects: 100%|██████████| 258/258 [02:12<00:00,  1.95it/s]\n",
      "Computing AP for class '0': 100%|██████████| 258/258 [00:00<00:00, 9545.63it/s]\n",
      "Computing AP for class '1': 100%|██████████| 258/258 [00:00<00:00, 6747.29it/s]\n",
      "Computing AP for class '2': 100%|██████████| 258/258 [00:00<00:00, 8377.83it/s]\n",
      "Computing AP for class '3': 100%|██████████| 258/258 [00:00<00:00, 12521.76it/s]\n"
     ]
    },
    {
     "name": "stdout",
     "output_type": "stream",
     "text": [
      "Average Precisions:\n",
      "+ Class '0' - AP: 0.11946777145999114\n",
      "+ Class '1' - AP: 0.25807513777621494\n",
      "+ Class '2' - AP: 0.1497350505517522\n",
      "+ Class '3' - AP: 0.0030672489082969436\n",
      "mAP: 0.1325863021740638\n",
      "Conf: 0.4 NMS: 0.7000000000000001\n",
      "Compute mAP...\n"
     ]
    },
    {
     "name": "stderr",
     "output_type": "stream",
     "text": [
      "Detecting objects: 100%|██████████| 258/258 [02:10<00:00,  1.97it/s]\n",
      "Computing AP for class '0': 100%|██████████| 258/258 [00:00<00:00, 7261.89it/s]\n",
      "Computing AP for class '1': 100%|██████████| 258/258 [00:00<00:00, 5987.92it/s]\n",
      "Computing AP for class '2': 100%|██████████| 258/258 [00:00<00:00, 8182.71it/s]\n",
      "Computing AP for class '3': 100%|██████████| 258/258 [00:00<00:00, 13206.21it/s]\n"
     ]
    },
    {
     "name": "stdout",
     "output_type": "stream",
     "text": [
      "Average Precisions:\n",
      "+ Class '0' - AP: 0.13723473158754096\n",
      "+ Class '1' - AP: 0.2600170483146312\n",
      "+ Class '2' - AP: 0.16643984767820172\n",
      "+ Class '3' - AP: 0.002151724137931035\n",
      "mAP: 0.14146083792957623\n",
      "Conf: 0.5 NMS: 0.7000000000000001\n",
      "Compute mAP...\n"
     ]
    },
    {
     "name": "stderr",
     "output_type": "stream",
     "text": [
      "Detecting objects: 100%|██████████| 258/258 [02:35<00:00,  1.65it/s]\n",
      "Computing AP for class '0': 100%|██████████| 258/258 [00:00<00:00, 9305.77it/s]\n",
      "Computing AP for class '1': 100%|██████████| 258/258 [00:00<00:00, 4258.73it/s]\n",
      "Computing AP for class '2': 100%|██████████| 258/258 [00:00<00:00, 8056.48it/s]\n",
      "Computing AP for class '3': 100%|██████████| 258/258 [00:00<00:00, 14974.06it/s]\n"
     ]
    },
    {
     "name": "stdout",
     "output_type": "stream",
     "text": [
      "Average Precisions:\n",
      "+ Class '0' - AP: 0.1454456348277804\n",
      "+ Class '1' - AP: 0.25927829326057095\n",
      "+ Class '2' - AP: 0.16252324780315955\n",
      "+ Class '3' - AP: 0.002151724137931035\n",
      "mAP: 0.14234972500736048\n",
      "Conf: 0.6 NMS: 0.7000000000000001\n",
      "Compute mAP...\n"
     ]
    },
    {
     "name": "stderr",
     "output_type": "stream",
     "text": [
      "Detecting objects: 100%|██████████| 258/258 [02:34<00:00,  1.67it/s]\n",
      "Computing AP for class '0': 100%|██████████| 258/258 [00:00<00:00, 8045.70it/s]\n",
      "Computing AP for class '1': 100%|██████████| 258/258 [00:00<00:00, 6102.80it/s]\n",
      "Computing AP for class '2': 100%|██████████| 258/258 [00:00<00:00, 9028.06it/s]\n",
      "Computing AP for class '3': 100%|██████████| 258/258 [00:00<00:00, 15177.36it/s]\n"
     ]
    },
    {
     "name": "stdout",
     "output_type": "stream",
     "text": [
      "Average Precisions:\n",
      "+ Class '0' - AP: 0.15016787038555837\n",
      "+ Class '1' - AP: 0.2536227922555327\n",
      "+ Class '2' - AP: 0.16674655316702625\n",
      "+ Class '3' - AP: 0.0020752475247524755\n",
      "mAP: 0.14315311583321746\n",
      "Conf: 0.7000000000000001 NMS: 0.7000000000000001\n",
      "Compute mAP...\n"
     ]
    },
    {
     "name": "stderr",
     "output_type": "stream",
     "text": [
      "Detecting objects: 100%|██████████| 258/258 [02:38<00:00,  1.63it/s]\n",
      "Computing AP for class '0': 100%|██████████| 258/258 [00:00<00:00, 8988.32it/s]\n",
      "Computing AP for class '1': 100%|██████████| 258/258 [00:00<00:00, 9111.07it/s]\n",
      "Computing AP for class '2': 100%|██████████| 258/258 [00:00<00:00, 11188.16it/s]\n",
      "Computing AP for class '3': 100%|██████████| 258/258 [00:00<00:00, 23448.62it/s]\n"
     ]
    },
    {
     "name": "stdout",
     "output_type": "stream",
     "text": [
      "Average Precisions:\n",
      "+ Class '0' - AP: 0.16894593209475103\n",
      "+ Class '1' - AP: 0.26440715047613605\n",
      "+ Class '2' - AP: 0.17549969564342383\n",
      "+ Class '3' - AP: 0.0020752475247524755\n",
      "mAP: 0.15273200643476587\n",
      "Conf: 0.8 NMS: 0.7000000000000001\n",
      "Compute mAP...\n"
     ]
    },
    {
     "name": "stderr",
     "output_type": "stream",
     "text": [
      "Detecting objects: 100%|██████████| 258/258 [02:35<00:00,  1.66it/s]\n",
      "Computing AP for class '0': 100%|██████████| 258/258 [00:00<00:00, 10959.50it/s]\n",
      "Computing AP for class '1': 100%|██████████| 258/258 [00:00<00:00, 9012.80it/s]\n",
      "Computing AP for class '2': 100%|██████████| 258/258 [00:00<00:00, 11138.41it/s]\n",
      "Computing AP for class '3': 100%|██████████| 258/258 [00:00<00:00, 21305.14it/s]\n"
     ]
    },
    {
     "name": "stdout",
     "output_type": "stream",
     "text": [
      "Average Precisions:\n",
      "+ Class '0' - AP: 0.18293533892363975\n",
      "+ Class '1' - AP: 0.2900270633310974\n",
      "+ Class '2' - AP: 0.1730301846373275\n",
      "+ Class '3' - AP: 0.0017904761904761906\n",
      "mAP: 0.1619457657706352\n",
      "Conf: 0.9 NMS: 0.7000000000000001\n",
      "Compute mAP...\n"
     ]
    },
    {
     "name": "stderr",
     "output_type": "stream",
     "text": [
      "Detecting objects: 100%|██████████| 258/258 [02:35<00:00,  1.66it/s]\n",
      "Computing AP for class '0': 100%|██████████| 258/258 [00:00<00:00, 13507.38it/s]\n",
      "Computing AP for class '1': 100%|██████████| 258/258 [00:00<00:00, 9432.30it/s]\n",
      "Computing AP for class '2': 100%|██████████| 258/258 [00:00<00:00, 13922.37it/s]\n",
      "Computing AP for class '3': 100%|██████████| 258/258 [00:00<00:00, 43018.50it/s]\n"
     ]
    },
    {
     "name": "stdout",
     "output_type": "stream",
     "text": [
      "Average Precisions:\n",
      "+ Class '0' - AP: 0.18543624171555387\n",
      "+ Class '1' - AP: 0.30231538786279083\n",
      "+ Class '2' - AP: 0.1624174278860357\n",
      "+ Class '3' - AP: 0.0016\n",
      "mAP: 0.1629422643660951\n",
      "Conf: 0.1 NMS: 0.8\n",
      "Compute mAP...\n"
     ]
    },
    {
     "name": "stderr",
     "output_type": "stream",
     "text": [
      "Detecting objects: 100%|██████████| 258/258 [02:39<00:00,  1.61it/s]\n",
      "Computing AP for class '0': 100%|██████████| 258/258 [00:00<00:00, 5590.38it/s]\n",
      "Computing AP for class '1': 100%|██████████| 258/258 [00:00<00:00, 3789.40it/s]\n",
      "Computing AP for class '2': 100%|██████████| 258/258 [00:00<00:00, 6576.70it/s]\n",
      "Computing AP for class '3': 100%|██████████| 258/258 [00:00<00:00, 7963.28it/s]\n"
     ]
    },
    {
     "name": "stdout",
     "output_type": "stream",
     "text": [
      "Average Precisions:\n",
      "+ Class '0' - AP: 0.08853694134353673\n",
      "+ Class '1' - AP: 0.15356940569342759\n",
      "+ Class '2' - AP: 0.12087198515769947\n",
      "+ Class '3' - AP: 0.002652479817725771\n",
      "mAP: 0.09140770300309739\n",
      "Conf: 0.2 NMS: 0.8\n",
      "Compute mAP...\n"
     ]
    },
    {
     "name": "stderr",
     "output_type": "stream",
     "text": [
      "Detecting objects: 100%|██████████| 258/258 [02:35<00:00,  1.66it/s]\n",
      "Computing AP for class '0': 100%|██████████| 258/258 [00:00<00:00, 5309.17it/s]\n",
      "Computing AP for class '1': 100%|██████████| 258/258 [00:00<00:00, 4305.79it/s]\n",
      "Computing AP for class '2': 100%|██████████| 258/258 [00:00<00:00, 6902.18it/s]\n",
      "Computing AP for class '3': 100%|██████████| 258/258 [00:00<00:00, 9214.72it/s]\n"
     ]
    },
    {
     "name": "stdout",
     "output_type": "stream",
     "text": [
      "Average Precisions:\n",
      "+ Class '0' - AP: 0.09760398646597782\n",
      "+ Class '1' - AP: 0.17829623287671234\n",
      "+ Class '2' - AP: 0.12463537771129396\n",
      "+ Class '3' - AP: 0.00245398773006135\n",
      "mAP: 0.10074739619601136\n",
      "Conf: 0.30000000000000004 NMS: 0.8\n",
      "Compute mAP...\n"
     ]
    },
    {
     "name": "stderr",
     "output_type": "stream",
     "text": [
      "Detecting objects: 100%|██████████| 258/258 [02:35<00:00,  1.65it/s]\n",
      "Computing AP for class '0': 100%|██████████| 258/258 [00:00<00:00, 7567.82it/s]\n",
      "Computing AP for class '1': 100%|██████████| 258/258 [00:00<00:00, 4361.99it/s]\n",
      "Computing AP for class '2': 100%|██████████| 258/258 [00:00<00:00, 5933.90it/s]\n",
      "Computing AP for class '3': 100%|██████████| 258/258 [00:00<00:00, 10560.56it/s]\n"
     ]
    },
    {
     "name": "stdout",
     "output_type": "stream",
     "text": [
      "Average Precisions:\n",
      "+ Class '0' - AP: 0.10032697125049332\n",
      "+ Class '1' - AP: 0.18561924545250394\n",
      "+ Class '2' - AP: 0.1290700371057514\n",
      "+ Class '3' - AP: 0.002988429752066116\n",
      "mAP: 0.10450117089020368\n",
      "Conf: 0.4 NMS: 0.8\n",
      "Compute mAP...\n"
     ]
    },
    {
     "name": "stderr",
     "output_type": "stream",
     "text": [
      "Detecting objects: 100%|██████████| 258/258 [02:34<00:00,  1.67it/s]\n",
      "Computing AP for class '0': 100%|██████████| 258/258 [00:00<00:00, 8891.57it/s]\n",
      "Computing AP for class '1': 100%|██████████| 258/258 [00:00<00:00, 5333.66it/s]\n",
      "Computing AP for class '2': 100%|██████████| 258/258 [00:00<00:00, 9915.88it/s]\n",
      "Computing AP for class '3': 100%|██████████| 258/258 [00:00<00:00, 17198.24it/s]\n"
     ]
    },
    {
     "name": "stdout",
     "output_type": "stream",
     "text": [
      "Average Precisions:\n",
      "+ Class '0' - AP: 0.11211530489175427\n",
      "+ Class '1' - AP: 0.18452769235548105\n",
      "+ Class '2' - AP: 0.13983200187969924\n",
      "+ Class '3' - AP: 0.002130386740331492\n",
      "mAP: 0.10965134646681651\n",
      "Conf: 0.5 NMS: 0.8\n",
      "Compute mAP...\n"
     ]
    },
    {
     "name": "stderr",
     "output_type": "stream",
     "text": [
      "Detecting objects: 100%|██████████| 258/258 [02:34<00:00,  1.67it/s]\n",
      "Computing AP for class '0': 100%|██████████| 258/258 [00:00<00:00, 6075.32it/s]\n",
      "Computing AP for class '1': 100%|██████████| 258/258 [00:00<00:00, 3313.55it/s]\n",
      "Computing AP for class '2': 100%|██████████| 258/258 [00:00<00:00, 4690.19it/s]\n",
      "Computing AP for class '3': 100%|██████████| 258/258 [00:00<00:00, 9157.02it/s]\n"
     ]
    },
    {
     "name": "stdout",
     "output_type": "stream",
     "text": [
      "Average Precisions:\n",
      "+ Class '0' - AP: 0.11930848257239514\n",
      "+ Class '1' - AP: 0.18553734307158967\n",
      "+ Class '2' - AP: 0.1377022588306635\n",
      "+ Class '3' - AP: 0.002130386740331492\n",
      "mAP: 0.11116961780374496\n",
      "Conf: 0.6 NMS: 0.8\n",
      "Compute mAP...\n"
     ]
    },
    {
     "name": "stderr",
     "output_type": "stream",
     "text": [
      "Detecting objects: 100%|██████████| 258/258 [02:36<00:00,  1.64it/s]\n",
      "Computing AP for class '0': 100%|██████████| 258/258 [00:00<00:00, 9047.54it/s]\n",
      "Computing AP for class '1': 100%|██████████| 258/258 [00:00<00:00, 6376.61it/s]\n",
      "Computing AP for class '2': 100%|██████████| 258/258 [00:00<00:00, 10719.89it/s]\n",
      "Computing AP for class '3': 100%|██████████| 258/258 [00:00<00:00, 23369.62it/s]\n"
     ]
    },
    {
     "name": "stdout",
     "output_type": "stream",
     "text": [
      "Average Precisions:\n",
      "+ Class '0' - AP: 0.126626424462022\n",
      "+ Class '1' - AP: 0.18713975596975826\n",
      "+ Class '2' - AP: 0.14175\n",
      "+ Class '3' - AP: 0.0020528301886792453\n",
      "mAP: 0.11439225265511488\n",
      "Conf: 0.7000000000000001 NMS: 0.8\n",
      "Compute mAP...\n"
     ]
    },
    {
     "name": "stderr",
     "output_type": "stream",
     "text": [
      "Detecting objects: 100%|██████████| 258/258 [02:34<00:00,  1.67it/s]\n",
      "Computing AP for class '0': 100%|██████████| 258/258 [00:00<00:00, 6141.45it/s]\n",
      "Computing AP for class '1': 100%|██████████| 258/258 [00:00<00:00, 5214.31it/s]\n",
      "Computing AP for class '2': 100%|██████████| 258/258 [00:00<00:00, 8331.19it/s]\n",
      "Computing AP for class '3': 100%|██████████| 258/258 [00:00<00:00, 17051.90it/s]\n"
     ]
    },
    {
     "name": "stdout",
     "output_type": "stream",
     "text": [
      "Average Precisions:\n",
      "+ Class '0' - AP: 0.1381881697709965\n",
      "+ Class '1' - AP: 0.19401773695462818\n",
      "+ Class '2' - AP: 0.14922360248447203\n",
      "+ Class '3' - AP: 0.0020528301886792453\n",
      "mAP: 0.12087058484969398\n",
      "Conf: 0.8 NMS: 0.8\n",
      "Compute mAP...\n"
     ]
    },
    {
     "name": "stderr",
     "output_type": "stream",
     "text": [
      "Detecting objects: 100%|██████████| 258/258 [02:34<00:00,  1.67it/s]\n",
      "Computing AP for class '0': 100%|██████████| 258/258 [00:00<00:00, 7958.25it/s]\n",
      "Computing AP for class '1': 100%|██████████| 258/258 [00:00<00:00, 6375.82it/s]\n",
      "Computing AP for class '2': 100%|██████████| 258/258 [00:00<00:00, 11024.26it/s]\n",
      "Computing AP for class '3': 100%|██████████| 258/258 [00:00<00:00, 25166.41it/s]\n"
     ]
    },
    {
     "name": "stdout",
     "output_type": "stream",
     "text": [
      "Average Precisions:\n",
      "+ Class '0' - AP: 0.15099009900990099\n",
      "+ Class '1' - AP: 0.20971191917353116\n",
      "+ Class '2' - AP: 0.15527950310559008\n",
      "+ Class '3' - AP: 0.0017797752808988766\n",
      "mAP: 0.12944032414248027\n",
      "Conf: 0.9 NMS: 0.8\n",
      "Compute mAP...\n"
     ]
    },
    {
     "name": "stderr",
     "output_type": "stream",
     "text": [
      "Detecting objects: 100%|██████████| 258/258 [02:33<00:00,  1.68it/s]\n",
      "Computing AP for class '0': 100%|██████████| 258/258 [00:00<00:00, 14511.02it/s]\n",
      "Computing AP for class '1': 100%|██████████| 258/258 [00:00<00:00, 7937.70it/s]\n",
      "Computing AP for class '2': 100%|██████████| 258/258 [00:00<00:00, 15534.24it/s]\n",
      "Computing AP for class '3': 100%|██████████| 258/258 [00:00<00:00, 112639.79it/s]\n"
     ]
    },
    {
     "name": "stdout",
     "output_type": "stream",
     "text": [
      "Average Precisions:\n",
      "+ Class '0' - AP: 0.1543238830004459\n",
      "+ Class '1' - AP: 0.22257239945994328\n",
      "+ Class '2' - AP: 0.1522556390977444\n",
      "+ Class '3' - AP: 0.0016\n",
      "mAP: 0.13268798038953342\n",
      "Conf: 0.1 NMS: 0.9\n",
      "Compute mAP...\n"
     ]
    },
    {
     "name": "stderr",
     "output_type": "stream",
     "text": [
      "Detecting objects: 100%|██████████| 258/258 [02:11<00:00,  1.97it/s]\n",
      "Computing AP for class '0': 100%|██████████| 258/258 [00:00<00:00, 4596.50it/s]\n",
      "Computing AP for class '1': 100%|██████████| 258/258 [00:00<00:00, 3161.62it/s]\n",
      "Computing AP for class '2': 100%|██████████| 258/258 [00:00<00:00, 6634.56it/s]\n",
      "Computing AP for class '3': 100%|██████████| 258/258 [00:00<00:00, 8857.36it/s]\n"
     ]
    },
    {
     "name": "stdout",
     "output_type": "stream",
     "text": [
      "Average Precisions:\n",
      "+ Class '0' - AP: 0.08481974151613632\n",
      "+ Class '1' - AP: 0.12856515630488238\n",
      "+ Class '2' - AP: 0.11688583383144051\n",
      "+ Class '3' - AP: 0.0029944014093941608\n",
      "mAP: 0.08331628326546335\n",
      "Conf: 0.2 NMS: 0.9\n",
      "Compute mAP...\n"
     ]
    },
    {
     "name": "stderr",
     "output_type": "stream",
     "text": [
      "Detecting objects: 100%|██████████| 258/258 [02:26<00:00,  1.76it/s]\n",
      "Computing AP for class '0': 100%|██████████| 258/258 [00:00<00:00, 7093.24it/s]\n",
      "Computing AP for class '1': 100%|██████████| 258/258 [00:00<00:00, 4487.04it/s]\n",
      "Computing AP for class '2': 100%|██████████| 258/258 [00:00<00:00, 7032.76it/s]\n",
      "Computing AP for class '3': 100%|██████████| 258/258 [00:00<00:00, 9145.41it/s]\n"
     ]
    },
    {
     "name": "stdout",
     "output_type": "stream",
     "text": [
      "Average Precisions:\n",
      "+ Class '0' - AP: 0.09327218735408829\n",
      "+ Class '1' - AP: 0.14899101487700694\n",
      "+ Class '2' - AP: 0.11999370277078088\n",
      "+ Class '3' - AP: 0.0024024024024024023\n",
      "mAP: 0.09116482685106964\n",
      "Conf: 0.30000000000000004 NMS: 0.9\n",
      "Compute mAP...\n"
     ]
    },
    {
     "name": "stderr",
     "output_type": "stream",
     "text": [
      "Detecting objects: 100%|██████████| 258/258 [02:26<00:00,  1.76it/s]\n",
      "Computing AP for class '0': 100%|██████████| 258/258 [00:00<00:00, 6879.58it/s]\n",
      "Computing AP for class '1': 100%|██████████| 258/258 [00:00<00:00, 4734.18it/s]\n",
      "Computing AP for class '2': 100%|██████████| 258/258 [00:00<00:00, 10098.27it/s]\n",
      "Computing AP for class '3': 100%|██████████| 258/258 [00:00<00:00, 15576.05it/s]\n"
     ]
    },
    {
     "name": "stdout",
     "output_type": "stream",
     "text": [
      "Average Precisions:\n",
      "+ Class '0' - AP: 0.0951638862778582\n",
      "+ Class '1' - AP: 0.15644592708259397\n",
      "+ Class '2' - AP: 0.12396416381385805\n",
      "+ Class '3' - AP: 0.0029714285714285715\n",
      "mAP: 0.0946363514364347\n",
      "Conf: 0.4 NMS: 0.9\n",
      "Compute mAP...\n"
     ]
    },
    {
     "name": "stderr",
     "output_type": "stream",
     "text": [
      "Detecting objects: 100%|██████████| 258/258 [02:25<00:00,  1.78it/s]\n",
      "Computing AP for class '0': 100%|██████████| 258/258 [00:00<00:00, 8120.08it/s]\n",
      "Computing AP for class '1': 100%|██████████| 258/258 [00:00<00:00, 5577.96it/s]\n",
      "Computing AP for class '2': 100%|██████████| 258/258 [00:00<00:00, 8404.96it/s]\n",
      "Computing AP for class '3': 100%|██████████| 258/258 [00:00<00:00, 19005.75it/s]\n"
     ]
    },
    {
     "name": "stdout",
     "output_type": "stream",
     "text": [
      "Average Precisions:\n",
      "+ Class '0' - AP: 0.10572057205720573\n",
      "+ Class '1' - AP: 0.15354096665805114\n",
      "+ Class '2' - AP: 0.13409756647138354\n",
      "+ Class '3' - AP: 0.0021274725274725275\n",
      "mAP: 0.09887164442852824\n",
      "Conf: 0.5 NMS: 0.9\n",
      "Compute mAP...\n"
     ]
    },
    {
     "name": "stderr",
     "output_type": "stream",
     "text": [
      "Detecting objects: 100%|██████████| 258/258 [02:27<00:00,  1.75it/s]\n",
      "Computing AP for class '0': 100%|██████████| 258/258 [00:00<00:00, 7855.81it/s]\n",
      "Computing AP for class '1': 100%|██████████| 258/258 [00:00<00:00, 7413.27it/s]\n",
      "Computing AP for class '2': 100%|██████████| 258/258 [00:00<00:00, 6798.88it/s]\n",
      "Computing AP for class '3': 100%|██████████| 258/258 [00:00<00:00, 40949.46it/s]\n"
     ]
    },
    {
     "name": "stdout",
     "output_type": "stream",
     "text": [
      "Average Precisions:\n",
      "+ Class '0' - AP: 0.11463676488130745\n",
      "+ Class '1' - AP: 0.15569834769100407\n",
      "+ Class '2' - AP: 0.13206103597894642\n",
      "+ Class '3' - AP: 0.0021274725274725275\n",
      "mAP: 0.10113090526968262\n",
      "Conf: 0.6 NMS: 0.9\n",
      "Compute mAP...\n"
     ]
    },
    {
     "name": "stderr",
     "output_type": "stream",
     "text": [
      "Detecting objects: 100%|██████████| 258/258 [02:25<00:00,  1.77it/s]\n",
      "Computing AP for class '0': 100%|██████████| 258/258 [00:00<00:00, 10559.33it/s]\n",
      "Computing AP for class '1': 100%|██████████| 258/258 [00:00<00:00, 6270.97it/s]\n",
      "Computing AP for class '2': 100%|██████████| 258/258 [00:00<00:00, 11287.59it/s]\n",
      "Computing AP for class '3': 100%|██████████| 258/258 [00:00<00:00, 97454.11it/s]\n"
     ]
    },
    {
     "name": "stdout",
     "output_type": "stream",
     "text": [
      "Average Precisions:\n",
      "+ Class '0' - AP: 0.12159554613608321\n",
      "+ Class '1' - AP: 0.15445520150705616\n",
      "+ Class '2' - AP: 0.13577586206896552\n",
      "+ Class '3' - AP: 0.0020485981308411214\n",
      "mAP: 0.1034688019607365\n",
      "Conf: 0.7000000000000001 NMS: 0.9\n",
      "Compute mAP...\n"
     ]
    },
    {
     "name": "stderr",
     "output_type": "stream",
     "text": [
      "Detecting objects: 100%|██████████| 258/258 [02:26<00:00,  1.77it/s]\n",
      "Computing AP for class '0': 100%|██████████| 258/258 [00:00<00:00, 9171.22it/s]\n",
      "Computing AP for class '1': 100%|██████████| 258/258 [00:00<00:00, 6833.23it/s]\n",
      "Computing AP for class '2': 100%|██████████| 258/258 [00:00<00:00, 7648.05it/s]\n",
      "Computing AP for class '3': 100%|██████████| 258/258 [00:00<00:00, 23107.14it/s]\n"
     ]
    },
    {
     "name": "stdout",
     "output_type": "stream",
     "text": [
      "Average Precisions:\n",
      "+ Class '0' - AP: 0.1334371509670051\n",
      "+ Class '1' - AP: 0.16293722569490623\n",
      "+ Class '2' - AP: 0.14360430364614468\n",
      "+ Class '3' - AP: 0.0020485981308411214\n",
      "mAP: 0.11050681960972429\n",
      "Conf: 0.8 NMS: 0.9\n",
      "Compute mAP...\n"
     ]
    },
    {
     "name": "stderr",
     "output_type": "stream",
     "text": [
      "Detecting objects: 100%|██████████| 258/258 [02:25<00:00,  1.77it/s]\n",
      "Computing AP for class '0': 100%|██████████| 258/258 [00:00<00:00, 7824.40it/s]\n",
      "Computing AP for class '1': 100%|██████████| 258/258 [00:00<00:00, 5862.60it/s]\n",
      "Computing AP for class '2': 100%|██████████| 258/258 [00:00<00:00, 8413.46it/s]\n",
      "Computing AP for class '3': 100%|██████████| 258/258 [00:00<00:00, 24954.58it/s]\n"
     ]
    },
    {
     "name": "stdout",
     "output_type": "stream",
     "text": [
      "Average Precisions:\n",
      "+ Class '0' - AP: 0.14619676253339622\n",
      "+ Class '1' - AP: 0.17294051416776127\n",
      "+ Class '2' - AP: 0.1488095238095238\n",
      "+ Class '3' - AP: 0.0017777777777777779\n",
      "mAP: 0.11743114457211476\n",
      "Conf: 0.9 NMS: 0.9\n",
      "Compute mAP...\n"
     ]
    },
    {
     "name": "stderr",
     "output_type": "stream",
     "text": [
      "Detecting objects: 100%|██████████| 258/258 [02:26<00:00,  1.76it/s]\n",
      "Computing AP for class '0': 100%|██████████| 258/258 [00:00<00:00, 12243.51it/s]\n",
      "Computing AP for class '1': 100%|██████████| 258/258 [00:00<00:00, 8853.16it/s]\n",
      "Computing AP for class '2': 100%|██████████| 258/258 [00:00<00:00, 12772.42it/s]\n",
      "Computing AP for class '3': 100%|██████████| 258/258 [00:00<00:00, 51586.52it/s]"
     ]
    },
    {
     "name": "stdout",
     "output_type": "stream",
     "text": [
      "Average Precisions:\n",
      "+ Class '0' - AP: 0.1491379879767134\n",
      "+ Class '1' - AP: 0.18535679111827377\n",
      "+ Class '2' - AP: 0.1454509177972865\n",
      "+ Class '3' - AP: 0.0016\n",
      "mAP: 0.1203864242230684\n"
     ]
    },
    {
     "name": "stderr",
     "output_type": "stream",
     "text": [
      "\n"
     ]
    }
   ],
   "source": [
    "loader = EvalLoader()\n",
    "\n",
    "x = np.arange(0.1, 1.0, 0.1)\n",
    "y = np.arange(0.1, 1.0, 0.1)\n",
    "\n",
    "X, Y = np.meshgrid(x, y)\n",
    "\n",
    "data = np.zeros((X.shape[0], Y.shape[1]))\n",
    "\n",
    "for conf, nms in zip(X.ravel(), Y.ravel()):\n",
    "    i = int(conf * 10 - 1)\n",
    "    j = int(nms * 10 - 1)\n",
    "    print(\"Conf:\", conf, \"NMS:\", nms)\n",
    "    _, mAP = evaluation(net, loader, conf, nms)\n",
    "    data[i, j] = mAP\n",
    "\n",
    "import json\n",
    "with open('mAP_tests.json', 'w') as f:\n",
    "    json.dump(data.tolist(), f)"
   ]
  },
  {
   "cell_type": "markdown",
   "metadata": {},
   "source": [
    "### 4. Kwantyzacja w trybie PTQ (Post Training Quantization)\n",
    "\n",
    "Etap 1: Kalibracja Vitis AI Quantizer\n",
    "\n",
    "Etap 2: Ewaluacja"
   ]
  },
  {
   "cell_type": "code",
   "execution_count": 16,
   "metadata": {},
   "outputs": [],
   "source": [
    "def quantize(float_model:torch.nn.Module, \n",
    "             input_shape:tuple,\n",
    "             quant_dir:str, \n",
    "             quant_mode:str, \n",
    "             device:torch.device,\n",
    "             dataloader,\n",
    "             conf = 0.1,\n",
    "             nms = 0.1):\n",
    "    \"\"\"\n",
    "    :param float_model: float model with loaded weights\n",
    "    :param input_shape: shape of input(CH,W,H)\n",
    "    :param quant_dir: path to directory with quantized model components\n",
    "    :param quant_mode: quant_mode in ['calib', 'test'] \n",
    "    :param data_loader: data_loader - for 'calib' must be batch_size == 1\n",
    "    \"\"\"\n",
    "    print(\"Before tm\")\n",
    "    tm = local_utils.TimeMeasurement(\"Quantization\", len(dataloader))\n",
    "    with tm:\n",
    "        # available in docker or after packaging \n",
    "        # vitis-AI-tools/..../pytorch../pytorch_nndct\n",
    "        # and installing the package\n",
    "        print(\"before import\")\n",
    "        from pytorch_nndct.apis import torch_quantizer, dump_xmodel\n",
    "        # model to device\n",
    "        print(\"Before device\")\n",
    "        model = float_model.to(device)\n",
    "\n",
    "        # Force to merge BN with CONV for better quantization accuracy\n",
    "        optimize = 1\n",
    "\n",
    "        rand_in = torch.randn(input_shape)\n",
    "        print(\"get qunatizer start\")\n",
    "        try:\n",
    "            quantizer = torch_quantizer(\n",
    "                quant_mode, model, rand_in, output_dir=quant_dir, device=device)\n",
    "        except Exception as e:\n",
    "            print(\"exception:\")\n",
    "            print(e)\n",
    "            return\n",
    "        print(\"get qunatizer end\")\n",
    "\n",
    "        print(\"get quantized model start\")\n",
    "        quantized_model = quantizer.quant_model\n",
    "        print(\"get quantized model end\")\n",
    "\n",
    "        # evaluate\n",
    "#         output = quantized_model(rand_in)\n",
    "        print(\"testing st\")\n",
    "        for conf, nms in zip([0.8, 0.6, 0.5, 0.2, 0.3, 0.2, 0.1], [0.5, 0.3, 0.2, 0.5, 0.3, 0.2, 0.1]):\n",
    "            print(\"conf:\", conf, \"nms:\", nms)\n",
    "            evaluation(quantized_model, dataloader, conf, nms)\n",
    "        print(\"testing end\")\n",
    "\n",
    "        # export config\n",
    "        if quant_mode == 'calib':\n",
    "            print(\"export config\")\n",
    "            quantizer.export_quant_config()\n",
    "            print(\"export config end\")\n",
    "        # export model\n",
    "        if quant_mode == 'test':\n",
    "            print(\"export xmodel\")\n",
    "            quantizer.export_xmodel(deploy_check=False, output_dir=quant_dir)\n",
    "            print(\"export xmodel end\")\n",
    "    print(tm)"
   ]
  },
  {
   "cell_type": "code",
   "execution_count": 10,
   "metadata": {
    "scrolled": false
   },
   "outputs": [
    {
     "name": "stdout",
     "output_type": "stream",
     "text": [
      "Before tm\n",
      "before import\n",
      "No CUDA runtime is found, using CUDA_HOME='/usr/local/cuda'\n",
      "\n",
      "\u001b[0;32m[VAIQ_NOTE]: Loading NNDCT kernels...\u001b[0m\n",
      "Before device\n",
      "get qunatizer start\n",
      "\n",
      "\u001b[0;32m[VAIQ_NOTE]: Quantization calibration process start up...\u001b[0m\n",
      "\n",
      "\u001b[0;32m[VAIQ_NOTE]: =>Quant Module is in 'cpu'.\u001b[0m\n",
      "\n",
      "\u001b[0;32m[VAIQ_NOTE]: =>Parsing Darknet...\u001b[0m\n",
      "\n",
      "\u001b[0;32m[VAIQ_NOTE]: Start to trace model...\u001b[0m\n",
      "\n",
      "\u001b[0;32m[VAIQ_NOTE]: Finish tracing.\u001b[0m\n",
      "\n",
      "\u001b[0;32m[VAIQ_NOTE]: Processing ops...\u001b[0m\n"
     ]
    },
    {
     "name": "stderr",
     "output_type": "stream",
     "text": [
      "██████████████████████████████████████████████████| 249/249 [00:00<00:00, 1245.14it/s, OpInfo: name = Darknet/Sequential[module_list]/ModuleList[105]/Conv2d[conv_105]/9783, type = _convolution]            \n"
     ]
    },
    {
     "name": "stdout",
     "output_type": "stream",
     "text": [
      "\n",
      "\u001b[0;32m[VAIQ_NOTE]: =>Doing weights equalization...\u001b[0m\n",
      "\n",
      "\u001b[0;32m[VAIQ_NOTE]: =>Quantizable module is generated.(quant_dir/Darknet.py)\u001b[0m\n",
      "get qunatizer end\n",
      "get quantized model start\n",
      "\n",
      "\u001b[0;32m[VAIQ_NOTE]: =>Get module with quantization.\u001b[0m\n"
     ]
    },
    {
     "name": "stderr",
     "output_type": "stream",
     "text": [
      "/opt/vitis_ai/conda/envs/vitis-ai-pytorch/lib/python3.6/site-packages/torch/nn/_reduction.py:44: UserWarning: size_average and reduce args will be deprecated, please use reduction='mean' instead.\n",
      "  warnings.warn(warning.format(ret))\n"
     ]
    },
    {
     "name": "stdout",
     "output_type": "stream",
     "text": [
      "get quantized model end\n",
      "testing st\n",
      "Init done\n",
      "Init done\n",
      "Init done\n",
      "Compute mAP...\n"
     ]
    },
    {
     "name": "stderr",
     "output_type": "stream",
     "text": [
      "Detecting objects:   0%|          | 1/258 [00:12<54:24, 12.70s/it]"
     ]
    },
    {
     "name": "stdout",
     "output_type": "stream",
     "text": [
      "torch.Size([1, 27, 13, 13])\n",
      "torch.Size([1, 27, 26, 26])\n",
      "torch.Size([1, 27, 52, 52])\n"
     ]
    },
    {
     "name": "stderr",
     "output_type": "stream",
     "text": [
      "\r\n",
      "Detecting objects:   1%|          | 2/258 [00:20<42:40, 10.00s/it]"
     ]
    },
    {
     "name": "stdout",
     "output_type": "stream",
     "text": [
      "torch.Size([1, 27, 13, 13])\n",
      "torch.Size([1, 27, 26, 26])\n",
      "torch.Size([1, 27, 52, 52])\n"
     ]
    },
    {
     "name": "stderr",
     "output_type": "stream",
     "text": [
      "\r\n",
      "Detecting objects:   1%|          | 3/258 [00:29<38:59,  9.18s/it]"
     ]
    },
    {
     "name": "stdout",
     "output_type": "stream",
     "text": [
      "torch.Size([1, 27, 13, 13])\n",
      "torch.Size([1, 27, 26, 26])\n",
      "torch.Size([1, 27, 52, 52])\n"
     ]
    },
    {
     "name": "stderr",
     "output_type": "stream",
     "text": [
      "\r\n",
      "Detecting objects:   2%|▏         | 4/258 [00:37<37:04,  8.76s/it]"
     ]
    },
    {
     "name": "stdout",
     "output_type": "stream",
     "text": [
      "torch.Size([1, 27, 13, 13])\n",
      "torch.Size([1, 27, 26, 26])\n",
      "torch.Size([1, 27, 52, 52])\n"
     ]
    },
    {
     "name": "stderr",
     "output_type": "stream",
     "text": [
      "\r\n",
      "Detecting objects:   2%|▏         | 5/258 [00:44<34:13,  8.12s/it]"
     ]
    },
    {
     "name": "stdout",
     "output_type": "stream",
     "text": [
      "torch.Size([1, 27, 13, 13])\n",
      "torch.Size([1, 27, 26, 26])\n",
      "torch.Size([1, 27, 52, 52])\n"
     ]
    },
    {
     "name": "stderr",
     "output_type": "stream",
     "text": [
      "\r\n",
      "Detecting objects:   2%|▏         | 6/258 [00:52<34:21,  8.18s/it]"
     ]
    },
    {
     "name": "stdout",
     "output_type": "stream",
     "text": [
      "torch.Size([1, 27, 13, 13])\n",
      "torch.Size([1, 27, 26, 26])\n",
      "torch.Size([1, 27, 52, 52])\n"
     ]
    },
    {
     "name": "stderr",
     "output_type": "stream",
     "text": [
      "\r\n",
      "Detecting objects:   3%|▎         | 7/258 [01:00<34:37,  8.28s/it]"
     ]
    },
    {
     "name": "stdout",
     "output_type": "stream",
     "text": [
      "torch.Size([1, 27, 13, 13])\n",
      "torch.Size([1, 27, 26, 26])\n",
      "torch.Size([1, 27, 52, 52])\n"
     ]
    },
    {
     "name": "stderr",
     "output_type": "stream",
     "text": [
      "\r\n",
      "Detecting objects:   3%|▎         | 8/258 [01:09<34:20,  8.24s/it]"
     ]
    },
    {
     "name": "stdout",
     "output_type": "stream",
     "text": [
      "torch.Size([1, 27, 13, 13])\n",
      "torch.Size([1, 27, 26, 26])\n",
      "torch.Size([1, 27, 52, 52])\n"
     ]
    },
    {
     "name": "stderr",
     "output_type": "stream",
     "text": [
      "\r\n",
      "Detecting objects:   3%|▎         | 9/258 [01:15<32:27,  7.82s/it]"
     ]
    },
    {
     "name": "stdout",
     "output_type": "stream",
     "text": [
      "torch.Size([1, 27, 13, 13])\n",
      "torch.Size([1, 27, 26, 26])\n",
      "torch.Size([1, 27, 52, 52])\n"
     ]
    },
    {
     "name": "stderr",
     "output_type": "stream",
     "text": [
      "\r\n",
      "Detecting objects:   4%|▍         | 10/258 [01:24<33:21,  8.07s/it]"
     ]
    },
    {
     "name": "stdout",
     "output_type": "stream",
     "text": [
      "torch.Size([1, 27, 13, 13])\n",
      "torch.Size([1, 27, 26, 26])\n",
      "torch.Size([1, 27, 52, 52])\n"
     ]
    },
    {
     "name": "stderr",
     "output_type": "stream",
     "text": [
      "\r\n",
      "Detecting objects:   4%|▍         | 11/258 [01:32<33:29,  8.13s/it]"
     ]
    },
    {
     "name": "stdout",
     "output_type": "stream",
     "text": [
      "torch.Size([1, 27, 13, 13])\n",
      "torch.Size([1, 27, 26, 26])\n",
      "torch.Size([1, 27, 52, 52])\n"
     ]
    },
    {
     "name": "stderr",
     "output_type": "stream",
     "text": [
      "\r\n",
      "Detecting objects:   5%|▍         | 12/258 [01:41<33:29,  8.17s/it]"
     ]
    },
    {
     "name": "stdout",
     "output_type": "stream",
     "text": [
      "torch.Size([1, 27, 13, 13])\n",
      "torch.Size([1, 27, 26, 26])\n",
      "torch.Size([1, 27, 52, 52])\n"
     ]
    },
    {
     "name": "stderr",
     "output_type": "stream",
     "text": [
      "\r\n",
      "Detecting objects:   5%|▌         | 13/258 [01:48<31:57,  7.83s/it]"
     ]
    },
    {
     "name": "stdout",
     "output_type": "stream",
     "text": [
      "torch.Size([1, 27, 13, 13])\n",
      "torch.Size([1, 27, 26, 26])\n",
      "torch.Size([1, 27, 52, 52])\n"
     ]
    },
    {
     "name": "stderr",
     "output_type": "stream",
     "text": [
      "\r\n",
      "Detecting objects:   5%|▌         | 14/258 [01:56<32:36,  8.02s/it]"
     ]
    },
    {
     "name": "stdout",
     "output_type": "stream",
     "text": [
      "torch.Size([1, 27, 13, 13])\n",
      "torch.Size([1, 27, 26, 26])\n",
      "torch.Size([1, 27, 52, 52])\n"
     ]
    },
    {
     "name": "stderr",
     "output_type": "stream",
     "text": [
      "\r\n",
      "Detecting objects:   6%|▌         | 15/258 [02:05<33:16,  8.21s/it]"
     ]
    },
    {
     "name": "stdout",
     "output_type": "stream",
     "text": [
      "torch.Size([1, 27, 13, 13])\n",
      "torch.Size([1, 27, 26, 26])\n",
      "torch.Size([1, 27, 52, 52])\n"
     ]
    },
    {
     "name": "stderr",
     "output_type": "stream",
     "text": [
      "\r\n",
      "Detecting objects:   6%|▌         | 16/258 [02:13<33:36,  8.33s/it]"
     ]
    },
    {
     "name": "stdout",
     "output_type": "stream",
     "text": [
      "torch.Size([1, 27, 13, 13])\n",
      "torch.Size([1, 27, 26, 26])\n",
      "torch.Size([1, 27, 52, 52])\n"
     ]
    },
    {
     "name": "stderr",
     "output_type": "stream",
     "text": [
      "\r\n",
      "Detecting objects:   7%|▋         | 17/258 [02:21<32:24,  8.07s/it]"
     ]
    },
    {
     "name": "stdout",
     "output_type": "stream",
     "text": [
      "torch.Size([1, 27, 13, 13])\n",
      "torch.Size([1, 27, 26, 26])\n",
      "torch.Size([1, 27, 52, 52])\n"
     ]
    },
    {
     "name": "stderr",
     "output_type": "stream",
     "text": [
      "\r\n",
      "Detecting objects:   7%|▋         | 18/258 [02:30<33:03,  8.26s/it]"
     ]
    },
    {
     "name": "stdout",
     "output_type": "stream",
     "text": [
      "torch.Size([1, 27, 13, 13])\n",
      "torch.Size([1, 27, 26, 26])\n",
      "torch.Size([1, 27, 52, 52])\n"
     ]
    },
    {
     "name": "stderr",
     "output_type": "stream",
     "text": [
      "\r\n",
      "Detecting objects:   7%|▋         | 19/258 [02:38<33:27,  8.40s/it]"
     ]
    },
    {
     "name": "stdout",
     "output_type": "stream",
     "text": [
      "torch.Size([1, 27, 13, 13])\n",
      "torch.Size([1, 27, 26, 26])\n",
      "torch.Size([1, 27, 52, 52])\n"
     ]
    },
    {
     "name": "stderr",
     "output_type": "stream",
     "text": [
      "\r\n",
      "Detecting objects:   8%|▊         | 20/258 [02:47<33:51,  8.54s/it]"
     ]
    },
    {
     "name": "stdout",
     "output_type": "stream",
     "text": [
      "torch.Size([1, 27, 13, 13])\n",
      "torch.Size([1, 27, 26, 26])\n",
      "torch.Size([1, 27, 52, 52])\n"
     ]
    },
    {
     "name": "stderr",
     "output_type": "stream",
     "text": [
      "\r\n",
      "Detecting objects:   8%|▊         | 21/258 [02:55<32:51,  8.32s/it]"
     ]
    },
    {
     "name": "stdout",
     "output_type": "stream",
     "text": [
      "torch.Size([1, 27, 13, 13])\n",
      "torch.Size([1, 27, 26, 26])\n",
      "torch.Size([1, 27, 52, 52])\n"
     ]
    },
    {
     "name": "stderr",
     "output_type": "stream",
     "text": [
      "\r\n",
      "Detecting objects:   9%|▊         | 22/258 [03:04<33:34,  8.54s/it]"
     ]
    },
    {
     "name": "stdout",
     "output_type": "stream",
     "text": [
      "torch.Size([1, 27, 13, 13])\n",
      "torch.Size([1, 27, 26, 26])\n",
      "torch.Size([1, 27, 52, 52])\n"
     ]
    },
    {
     "name": "stderr",
     "output_type": "stream",
     "text": [
      "\r\n",
      "Detecting objects:   9%|▉         | 23/258 [03:13<33:50,  8.64s/it]"
     ]
    },
    {
     "name": "stdout",
     "output_type": "stream",
     "text": [
      "torch.Size([1, 27, 13, 13])\n",
      "torch.Size([1, 27, 26, 26])\n",
      "torch.Size([1, 27, 52, 52])\n"
     ]
    },
    {
     "name": "stderr",
     "output_type": "stream",
     "text": [
      "\r\n",
      "Detecting objects:   9%|▉         | 24/258 [03:21<32:52,  8.43s/it]"
     ]
    },
    {
     "name": "stdout",
     "output_type": "stream",
     "text": [
      "torch.Size([1, 27, 13, 13])\n",
      "torch.Size([1, 27, 26, 26])\n",
      "torch.Size([1, 27, 52, 52])\n"
     ]
    },
    {
     "name": "stderr",
     "output_type": "stream",
     "text": [
      "\r\n",
      "Detecting objects:  10%|▉         | 25/258 [03:30<33:09,  8.54s/it]"
     ]
    },
    {
     "name": "stdout",
     "output_type": "stream",
     "text": [
      "torch.Size([1, 27, 13, 13])\n",
      "torch.Size([1, 27, 26, 26])\n",
      "torch.Size([1, 27, 52, 52])\n"
     ]
    },
    {
     "name": "stderr",
     "output_type": "stream",
     "text": [
      "\r\n",
      "Detecting objects:  10%|█         | 26/258 [03:38<33:06,  8.56s/it]"
     ]
    },
    {
     "name": "stdout",
     "output_type": "stream",
     "text": [
      "torch.Size([1, 27, 13, 13])\n",
      "torch.Size([1, 27, 26, 26])\n",
      "torch.Size([1, 27, 52, 52])\n"
     ]
    },
    {
     "name": "stderr",
     "output_type": "stream",
     "text": [
      "\r\n",
      "Detecting objects:  10%|█         | 27/258 [03:47<33:00,  8.57s/it]"
     ]
    },
    {
     "name": "stdout",
     "output_type": "stream",
     "text": [
      "torch.Size([1, 27, 13, 13])\n",
      "torch.Size([1, 27, 26, 26])\n",
      "torch.Size([1, 27, 52, 52])\n"
     ]
    },
    {
     "name": "stderr",
     "output_type": "stream",
     "text": [
      "\r\n",
      "Detecting objects:  11%|█         | 28/258 [03:54<31:35,  8.24s/it]"
     ]
    },
    {
     "name": "stdout",
     "output_type": "stream",
     "text": [
      "torch.Size([1, 27, 13, 13])\n",
      "torch.Size([1, 27, 26, 26])\n",
      "torch.Size([1, 27, 52, 52])\n"
     ]
    },
    {
     "name": "stderr",
     "output_type": "stream",
     "text": [
      "\r\n",
      "Detecting objects:  11%|█         | 29/258 [04:03<32:03,  8.40s/it]"
     ]
    },
    {
     "name": "stdout",
     "output_type": "stream",
     "text": [
      "torch.Size([1, 27, 13, 13])\n",
      "torch.Size([1, 27, 26, 26])\n",
      "torch.Size([1, 27, 52, 52])\n"
     ]
    },
    {
     "name": "stderr",
     "output_type": "stream",
     "text": [
      "\r\n",
      "Detecting objects:  12%|█▏        | 30/258 [04:12<32:16,  8.49s/it]"
     ]
    },
    {
     "name": "stdout",
     "output_type": "stream",
     "text": [
      "torch.Size([1, 27, 13, 13])\n",
      "torch.Size([1, 27, 26, 26])\n",
      "torch.Size([1, 27, 52, 52])\n"
     ]
    },
    {
     "name": "stderr",
     "output_type": "stream",
     "text": [
      "\r\n",
      "Detecting objects:  12%|█▏        | 31/258 [04:20<32:17,  8.53s/it]"
     ]
    },
    {
     "name": "stdout",
     "output_type": "stream",
     "text": [
      "torch.Size([1, 27, 13, 13])\n",
      "torch.Size([1, 27, 26, 26])\n",
      "torch.Size([1, 27, 52, 52])\n"
     ]
    },
    {
     "name": "stderr",
     "output_type": "stream",
     "text": [
      "\r\n",
      "Detecting objects:  12%|█▏        | 32/258 [04:28<31:12,  8.29s/it]"
     ]
    },
    {
     "name": "stdout",
     "output_type": "stream",
     "text": [
      "torch.Size([1, 27, 13, 13])\n",
      "torch.Size([1, 27, 26, 26])\n",
      "torch.Size([1, 27, 52, 52])\n"
     ]
    },
    {
     "name": "stderr",
     "output_type": "stream",
     "text": [
      "\r\n",
      "Detecting objects:  13%|█▎        | 33/258 [04:40<34:43,  9.26s/it]"
     ]
    },
    {
     "name": "stdout",
     "output_type": "stream",
     "text": [
      "torch.Size([1, 27, 13, 13])\n",
      "torch.Size([1, 27, 26, 26])\n",
      "torch.Size([1, 27, 52, 52])\n"
     ]
    },
    {
     "name": "stderr",
     "output_type": "stream",
     "text": [
      "\r\n",
      "Detecting objects:  13%|█▎        | 34/258 [04:49<34:27,  9.23s/it]"
     ]
    },
    {
     "name": "stdout",
     "output_type": "stream",
     "text": [
      "torch.Size([1, 27, 13, 13])\n",
      "torch.Size([1, 27, 26, 26])\n",
      "torch.Size([1, 27, 52, 52])\n"
     ]
    },
    {
     "name": "stderr",
     "output_type": "stream",
     "text": [
      "\r\n",
      "Detecting objects:  14%|█▎        | 35/258 [04:56<32:20,  8.70s/it]"
     ]
    },
    {
     "name": "stdout",
     "output_type": "stream",
     "text": [
      "torch.Size([1, 27, 13, 13])\n",
      "torch.Size([1, 27, 26, 26])\n",
      "torch.Size([1, 27, 52, 52])\n"
     ]
    },
    {
     "name": "stderr",
     "output_type": "stream",
     "text": [
      "\r\n",
      "Detecting objects:  14%|█▍        | 36/258 [05:05<32:04,  8.67s/it]"
     ]
    },
    {
     "name": "stdout",
     "output_type": "stream",
     "text": [
      "torch.Size([1, 27, 13, 13])\n",
      "torch.Size([1, 27, 26, 26])\n",
      "torch.Size([1, 27, 52, 52])\n"
     ]
    },
    {
     "name": "stderr",
     "output_type": "stream",
     "text": [
      "\r\n",
      "Detecting objects:  14%|█▍        | 37/258 [05:13<31:45,  8.62s/it]"
     ]
    },
    {
     "name": "stdout",
     "output_type": "stream",
     "text": [
      "torch.Size([1, 27, 13, 13])\n",
      "torch.Size([1, 27, 26, 26])\n",
      "torch.Size([1, 27, 52, 52])\n"
     ]
    },
    {
     "name": "stderr",
     "output_type": "stream",
     "text": [
      "\r\n",
      "Detecting objects:  15%|█▍        | 38/258 [05:22<32:03,  8.74s/it]"
     ]
    },
    {
     "name": "stdout",
     "output_type": "stream",
     "text": [
      "torch.Size([1, 27, 13, 13])\n",
      "torch.Size([1, 27, 26, 26])\n",
      "torch.Size([1, 27, 52, 52])\n"
     ]
    },
    {
     "name": "stderr",
     "output_type": "stream",
     "text": [
      "\r\n",
      "Detecting objects:  15%|█▌        | 39/258 [05:30<31:03,  8.51s/it]"
     ]
    },
    {
     "name": "stdout",
     "output_type": "stream",
     "text": [
      "torch.Size([1, 27, 13, 13])\n",
      "torch.Size([1, 27, 26, 26])\n",
      "torch.Size([1, 27, 52, 52])\n"
     ]
    },
    {
     "name": "stderr",
     "output_type": "stream",
     "text": [
      "\r\n",
      "Detecting objects:  16%|█▌        | 40/258 [05:39<30:58,  8.53s/it]"
     ]
    },
    {
     "name": "stdout",
     "output_type": "stream",
     "text": [
      "torch.Size([1, 27, 13, 13])\n",
      "torch.Size([1, 27, 26, 26])\n",
      "torch.Size([1, 27, 52, 52])\n"
     ]
    },
    {
     "name": "stderr",
     "output_type": "stream",
     "text": [
      "\r\n",
      "Detecting objects:  16%|█▌        | 41/258 [05:47<30:32,  8.45s/it]"
     ]
    },
    {
     "name": "stdout",
     "output_type": "stream",
     "text": [
      "torch.Size([1, 27, 13, 13])\n",
      "torch.Size([1, 27, 26, 26])\n",
      "torch.Size([1, 27, 52, 52])\n"
     ]
    },
    {
     "name": "stderr",
     "output_type": "stream",
     "text": [
      "\r\n",
      "Detecting objects:  16%|█▋        | 42/258 [05:54<28:57,  8.05s/it]"
     ]
    },
    {
     "name": "stdout",
     "output_type": "stream",
     "text": [
      "torch.Size([1, 27, 13, 13])\n",
      "torch.Size([1, 27, 26, 26])\n",
      "torch.Size([1, 27, 52, 52])\n"
     ]
    },
    {
     "name": "stderr",
     "output_type": "stream",
     "text": [
      "\r\n",
      "Detecting objects:  17%|█▋        | 43/258 [06:03<29:09,  8.14s/it]"
     ]
    },
    {
     "name": "stdout",
     "output_type": "stream",
     "text": [
      "torch.Size([1, 27, 13, 13])\n",
      "torch.Size([1, 27, 26, 26])\n",
      "torch.Size([1, 27, 52, 52])\n"
     ]
    },
    {
     "name": "stderr",
     "output_type": "stream",
     "text": [
      "\r\n",
      "Detecting objects:  17%|█▋        | 44/258 [06:11<29:18,  8.22s/it]"
     ]
    },
    {
     "name": "stdout",
     "output_type": "stream",
     "text": [
      "torch.Size([1, 27, 13, 13])\n",
      "torch.Size([1, 27, 26, 26])\n",
      "torch.Size([1, 27, 52, 52])\n"
     ]
    },
    {
     "name": "stderr",
     "output_type": "stream",
     "text": [
      "\r\n",
      "Detecting objects:  17%|█▋        | 45/258 [06:19<29:20,  8.26s/it]"
     ]
    },
    {
     "name": "stdout",
     "output_type": "stream",
     "text": [
      "torch.Size([1, 27, 13, 13])\n",
      "torch.Size([1, 27, 26, 26])\n",
      "torch.Size([1, 27, 52, 52])\n"
     ]
    },
    {
     "name": "stderr",
     "output_type": "stream",
     "text": [
      "\r\n",
      "Detecting objects:  18%|█▊        | 46/258 [06:27<28:27,  8.05s/it]"
     ]
    },
    {
     "name": "stdout",
     "output_type": "stream",
     "text": [
      "torch.Size([1, 27, 13, 13])\n",
      "torch.Size([1, 27, 26, 26])\n",
      "torch.Size([1, 27, 52, 52])\n"
     ]
    },
    {
     "name": "stderr",
     "output_type": "stream",
     "text": [
      "\r\n",
      "Detecting objects:  18%|█▊        | 47/258 [06:36<29:19,  8.34s/it]"
     ]
    },
    {
     "name": "stdout",
     "output_type": "stream",
     "text": [
      "torch.Size([1, 27, 13, 13])\n",
      "torch.Size([1, 27, 26, 26])\n",
      "torch.Size([1, 27, 52, 52])\n"
     ]
    },
    {
     "name": "stderr",
     "output_type": "stream",
     "text": [
      "\r\n",
      "Detecting objects:  19%|█▊        | 48/258 [06:44<29:03,  8.30s/it]"
     ]
    },
    {
     "name": "stdout",
     "output_type": "stream",
     "text": [
      "torch.Size([1, 27, 13, 13])\n",
      "torch.Size([1, 27, 26, 26])\n",
      "torch.Size([1, 27, 52, 52])\n"
     ]
    },
    {
     "name": "stderr",
     "output_type": "stream",
     "text": [
      "\r\n",
      "Detecting objects:  19%|█▉        | 49/258 [06:53<28:58,  8.32s/it]"
     ]
    },
    {
     "name": "stdout",
     "output_type": "stream",
     "text": [
      "torch.Size([1, 27, 13, 13])\n",
      "torch.Size([1, 27, 26, 26])\n",
      "torch.Size([1, 27, 52, 52])\n"
     ]
    },
    {
     "name": "stderr",
     "output_type": "stream",
     "text": [
      "\r\n",
      "Detecting objects:  19%|█▉        | 50/258 [07:00<27:57,  8.06s/it]"
     ]
    },
    {
     "name": "stdout",
     "output_type": "stream",
     "text": [
      "torch.Size([1, 27, 13, 13])\n",
      "torch.Size([1, 27, 26, 26])\n",
      "torch.Size([1, 27, 52, 52])\n"
     ]
    },
    {
     "name": "stderr",
     "output_type": "stream",
     "text": [
      "\r\n",
      "Detecting objects:  20%|█▉        | 51/258 [07:09<28:24,  8.24s/it]"
     ]
    },
    {
     "name": "stdout",
     "output_type": "stream",
     "text": [
      "torch.Size([1, 27, 13, 13])\n",
      "torch.Size([1, 27, 26, 26])\n",
      "torch.Size([1, 27, 52, 52])\n"
     ]
    },
    {
     "name": "stderr",
     "output_type": "stream",
     "text": [
      "\r\n",
      "Detecting objects:  20%|██        | 52/258 [07:17<28:51,  8.41s/it]"
     ]
    },
    {
     "name": "stdout",
     "output_type": "stream",
     "text": [
      "torch.Size([1, 27, 13, 13])\n",
      "torch.Size([1, 27, 26, 26])\n",
      "torch.Size([1, 27, 52, 52])\n"
     ]
    },
    {
     "name": "stderr",
     "output_type": "stream",
     "text": [
      "\r\n",
      "Detecting objects:  21%|██        | 53/258 [07:26<29:17,  8.57s/it]"
     ]
    },
    {
     "name": "stdout",
     "output_type": "stream",
     "text": [
      "torch.Size([1, 27, 13, 13])\n",
      "torch.Size([1, 27, 26, 26])\n",
      "torch.Size([1, 27, 52, 52])\n"
     ]
    },
    {
     "name": "stderr",
     "output_type": "stream",
     "text": [
      "\r\n",
      "Detecting objects:  21%|██        | 54/258 [07:34<28:01,  8.24s/it]"
     ]
    },
    {
     "name": "stdout",
     "output_type": "stream",
     "text": [
      "torch.Size([1, 27, 13, 13])\n",
      "torch.Size([1, 27, 26, 26])\n",
      "torch.Size([1, 27, 52, 52])\n"
     ]
    },
    {
     "name": "stderr",
     "output_type": "stream",
     "text": [
      "\r\n",
      "Detecting objects:  21%|██▏       | 55/258 [07:42<28:15,  8.35s/it]"
     ]
    },
    {
     "name": "stdout",
     "output_type": "stream",
     "text": [
      "torch.Size([1, 27, 13, 13])\n",
      "torch.Size([1, 27, 26, 26])\n",
      "torch.Size([1, 27, 52, 52])\n"
     ]
    },
    {
     "name": "stderr",
     "output_type": "stream",
     "text": [
      "\r\n",
      "Detecting objects:  22%|██▏       | 56/258 [07:51<28:23,  8.44s/it]"
     ]
    },
    {
     "name": "stdout",
     "output_type": "stream",
     "text": [
      "torch.Size([1, 27, 13, 13])\n",
      "torch.Size([1, 27, 26, 26])\n",
      "torch.Size([1, 27, 52, 52])\n"
     ]
    },
    {
     "name": "stderr",
     "output_type": "stream",
     "text": [
      "\r\n",
      "Detecting objects:  22%|██▏       | 57/258 [07:59<27:24,  8.18s/it]"
     ]
    },
    {
     "name": "stdout",
     "output_type": "stream",
     "text": [
      "torch.Size([1, 27, 13, 13])\n",
      "torch.Size([1, 27, 26, 26])\n",
      "torch.Size([1, 27, 52, 52])\n"
     ]
    },
    {
     "name": "stderr",
     "output_type": "stream",
     "text": [
      "\r\n",
      "Detecting objects:  22%|██▏       | 58/258 [08:07<27:43,  8.32s/it]"
     ]
    },
    {
     "name": "stdout",
     "output_type": "stream",
     "text": [
      "torch.Size([1, 27, 13, 13])\n",
      "torch.Size([1, 27, 26, 26])\n",
      "torch.Size([1, 27, 52, 52])\n"
     ]
    },
    {
     "name": "stderr",
     "output_type": "stream",
     "text": [
      "\r\n",
      "Detecting objects:  23%|██▎       | 59/258 [08:16<27:41,  8.35s/it]"
     ]
    },
    {
     "name": "stdout",
     "output_type": "stream",
     "text": [
      "torch.Size([1, 27, 13, 13])\n",
      "torch.Size([1, 27, 26, 26])\n",
      "torch.Size([1, 27, 52, 52])\n"
     ]
    },
    {
     "name": "stderr",
     "output_type": "stream",
     "text": [
      "\r\n",
      "Detecting objects:  23%|██▎       | 60/258 [08:24<27:44,  8.41s/it]"
     ]
    },
    {
     "name": "stdout",
     "output_type": "stream",
     "text": [
      "torch.Size([1, 27, 13, 13])\n",
      "torch.Size([1, 27, 26, 26])\n",
      "torch.Size([1, 27, 52, 52])\n"
     ]
    },
    {
     "name": "stderr",
     "output_type": "stream",
     "text": [
      "\r\n",
      "Detecting objects:  24%|██▎       | 61/258 [08:32<26:42,  8.13s/it]"
     ]
    },
    {
     "name": "stdout",
     "output_type": "stream",
     "text": [
      "torch.Size([1, 27, 13, 13])\n",
      "torch.Size([1, 27, 26, 26])\n",
      "torch.Size([1, 27, 52, 52])\n"
     ]
    },
    {
     "name": "stderr",
     "output_type": "stream",
     "text": [
      "\r\n",
      "Detecting objects:  24%|██▍       | 62/258 [08:40<27:00,  8.27s/it]"
     ]
    },
    {
     "name": "stdout",
     "output_type": "stream",
     "text": [
      "torch.Size([1, 27, 13, 13])\n",
      "torch.Size([1, 27, 26, 26])\n",
      "torch.Size([1, 27, 52, 52])\n"
     ]
    },
    {
     "name": "stderr",
     "output_type": "stream",
     "text": [
      "\r\n",
      "Detecting objects:  24%|██▍       | 63/258 [08:49<27:20,  8.41s/it]"
     ]
    },
    {
     "name": "stdout",
     "output_type": "stream",
     "text": [
      "torch.Size([1, 27, 13, 13])\n",
      "torch.Size([1, 27, 26, 26])\n",
      "torch.Size([1, 27, 52, 52])\n"
     ]
    },
    {
     "name": "stderr",
     "output_type": "stream",
     "text": [
      "\r\n",
      "Detecting objects:  25%|██▍       | 64/258 [08:58<27:28,  8.50s/it]"
     ]
    },
    {
     "name": "stdout",
     "output_type": "stream",
     "text": [
      "torch.Size([1, 27, 13, 13])\n",
      "torch.Size([1, 27, 26, 26])\n",
      "torch.Size([1, 27, 52, 52])\n"
     ]
    },
    {
     "name": "stderr",
     "output_type": "stream",
     "text": [
      "\r\n",
      "Detecting objects:  25%|██▌       | 65/258 [09:05<26:17,  8.18s/it]"
     ]
    },
    {
     "name": "stdout",
     "output_type": "stream",
     "text": [
      "torch.Size([1, 27, 13, 13])\n",
      "torch.Size([1, 27, 26, 26])\n",
      "torch.Size([1, 27, 52, 52])\n"
     ]
    },
    {
     "name": "stderr",
     "output_type": "stream",
     "text": [
      "\r\n",
      "Detecting objects:  26%|██▌       | 66/258 [09:14<26:34,  8.31s/it]"
     ]
    },
    {
     "name": "stdout",
     "output_type": "stream",
     "text": [
      "torch.Size([1, 27, 13, 13])\n",
      "torch.Size([1, 27, 26, 26])\n",
      "torch.Size([1, 27, 52, 52])\n"
     ]
    },
    {
     "name": "stderr",
     "output_type": "stream",
     "text": [
      "\r\n",
      "Detecting objects:  26%|██▌       | 67/258 [09:23<27:18,  8.58s/it]"
     ]
    },
    {
     "name": "stdout",
     "output_type": "stream",
     "text": [
      "torch.Size([1, 27, 13, 13])\n",
      "torch.Size([1, 27, 26, 26])\n",
      "torch.Size([1, 27, 52, 52])\n"
     ]
    },
    {
     "name": "stderr",
     "output_type": "stream",
     "text": [
      "\r\n",
      "Detecting objects:  26%|██▋       | 68/258 [09:32<27:35,  8.71s/it]"
     ]
    },
    {
     "name": "stdout",
     "output_type": "stream",
     "text": [
      "torch.Size([1, 27, 13, 13])\n",
      "torch.Size([1, 27, 26, 26])\n",
      "torch.Size([1, 27, 52, 52])\n"
     ]
    },
    {
     "name": "stderr",
     "output_type": "stream",
     "text": [
      "\r\n",
      "Detecting objects:  27%|██▋       | 69/258 [09:41<27:48,  8.83s/it]"
     ]
    },
    {
     "name": "stdout",
     "output_type": "stream",
     "text": [
      "torch.Size([1, 27, 13, 13])\n",
      "torch.Size([1, 27, 26, 26])\n",
      "torch.Size([1, 27, 52, 52])\n"
     ]
    },
    {
     "name": "stderr",
     "output_type": "stream",
     "text": [
      "\r\n",
      "Detecting objects:  27%|██▋       | 70/258 [09:50<27:25,  8.75s/it]"
     ]
    },
    {
     "name": "stdout",
     "output_type": "stream",
     "text": [
      "torch.Size([1, 27, 13, 13])\n",
      "torch.Size([1, 27, 26, 26])\n",
      "torch.Size([1, 27, 52, 52])\n"
     ]
    },
    {
     "name": "stderr",
     "output_type": "stream",
     "text": [
      "\r\n",
      "Detecting objects:  28%|██▊       | 71/258 [09:58<27:01,  8.67s/it]"
     ]
    },
    {
     "name": "stdout",
     "output_type": "stream",
     "text": [
      "torch.Size([1, 27, 13, 13])\n",
      "torch.Size([1, 27, 26, 26])\n",
      "torch.Size([1, 27, 52, 52])\n"
     ]
    },
    {
     "name": "stderr",
     "output_type": "stream",
     "text": [
      "\r\n",
      "Detecting objects:  28%|██▊       | 72/258 [10:06<25:42,  8.29s/it]"
     ]
    },
    {
     "name": "stdout",
     "output_type": "stream",
     "text": [
      "torch.Size([1, 27, 13, 13])\n",
      "torch.Size([1, 27, 26, 26])\n",
      "torch.Size([1, 27, 52, 52])\n"
     ]
    },
    {
     "name": "stderr",
     "output_type": "stream",
     "text": [
      "\r\n",
      "Detecting objects:  28%|██▊       | 73/258 [10:14<25:41,  8.33s/it]"
     ]
    },
    {
     "name": "stdout",
     "output_type": "stream",
     "text": [
      "torch.Size([1, 27, 13, 13])\n",
      "torch.Size([1, 27, 26, 26])\n",
      "torch.Size([1, 27, 52, 52])\n"
     ]
    },
    {
     "name": "stderr",
     "output_type": "stream",
     "text": [
      "\r\n",
      "Detecting objects:  29%|██▊       | 74/258 [10:23<25:42,  8.38s/it]"
     ]
    },
    {
     "name": "stdout",
     "output_type": "stream",
     "text": [
      "torch.Size([1, 27, 13, 13])\n",
      "torch.Size([1, 27, 26, 26])\n",
      "torch.Size([1, 27, 52, 52])\n"
     ]
    },
    {
     "name": "stderr",
     "output_type": "stream",
     "text": [
      "\r\n",
      "Detecting objects:  29%|██▉       | 75/258 [10:31<25:43,  8.44s/it]"
     ]
    },
    {
     "name": "stdout",
     "output_type": "stream",
     "text": [
      "torch.Size([1, 27, 13, 13])\n",
      "torch.Size([1, 27, 26, 26])\n",
      "torch.Size([1, 27, 52, 52])\n"
     ]
    },
    {
     "name": "stderr",
     "output_type": "stream",
     "text": [
      "\r\n",
      "Detecting objects:  29%|██▉       | 76/258 [10:39<24:41,  8.14s/it]"
     ]
    },
    {
     "name": "stdout",
     "output_type": "stream",
     "text": [
      "torch.Size([1, 27, 13, 13])\n",
      "torch.Size([1, 27, 26, 26])\n",
      "torch.Size([1, 27, 52, 52])\n"
     ]
    },
    {
     "name": "stderr",
     "output_type": "stream",
     "text": [
      "\r\n",
      "Detecting objects:  30%|██▉       | 77/258 [10:47<24:53,  8.25s/it]"
     ]
    },
    {
     "name": "stdout",
     "output_type": "stream",
     "text": [
      "torch.Size([1, 27, 13, 13])\n",
      "torch.Size([1, 27, 26, 26])\n",
      "torch.Size([1, 27, 52, 52])\n"
     ]
    },
    {
     "name": "stderr",
     "output_type": "stream",
     "text": [
      "\r\n",
      "Detecting objects:  30%|███       | 78/258 [10:56<24:59,  8.33s/it]"
     ]
    },
    {
     "name": "stdout",
     "output_type": "stream",
     "text": [
      "torch.Size([1, 27, 13, 13])\n",
      "torch.Size([1, 27, 26, 26])\n",
      "torch.Size([1, 27, 52, 52])\n"
     ]
    },
    {
     "name": "stderr",
     "output_type": "stream",
     "text": [
      "\r\n",
      "Detecting objects:  31%|███       | 79/258 [11:04<25:07,  8.42s/it]"
     ]
    },
    {
     "name": "stdout",
     "output_type": "stream",
     "text": [
      "torch.Size([1, 27, 13, 13])\n",
      "torch.Size([1, 27, 26, 26])\n",
      "torch.Size([1, 27, 52, 52])\n"
     ]
    },
    {
     "name": "stderr",
     "output_type": "stream",
     "text": [
      "\r\n",
      "Detecting objects:  31%|███       | 80/258 [11:12<24:14,  8.17s/it]"
     ]
    },
    {
     "name": "stdout",
     "output_type": "stream",
     "text": [
      "torch.Size([1, 27, 13, 13])\n",
      "torch.Size([1, 27, 26, 26])\n",
      "torch.Size([1, 27, 52, 52])\n"
     ]
    },
    {
     "name": "stderr",
     "output_type": "stream",
     "text": [
      "\r\n",
      "Detecting objects:  31%|███▏      | 81/258 [11:21<24:57,  8.46s/it]"
     ]
    },
    {
     "name": "stdout",
     "output_type": "stream",
     "text": [
      "torch.Size([1, 27, 13, 13])\n",
      "torch.Size([1, 27, 26, 26])\n",
      "torch.Size([1, 27, 52, 52])\n"
     ]
    },
    {
     "name": "stderr",
     "output_type": "stream",
     "text": [
      "\r\n",
      "Detecting objects:  32%|███▏      | 82/258 [11:30<24:53,  8.49s/it]"
     ]
    },
    {
     "name": "stdout",
     "output_type": "stream",
     "text": [
      "torch.Size([1, 27, 13, 13])\n",
      "torch.Size([1, 27, 26, 26])\n",
      "torch.Size([1, 27, 52, 52])\n"
     ]
    },
    {
     "name": "stderr",
     "output_type": "stream",
     "text": [
      "\r\n",
      "Detecting objects:  32%|███▏      | 83/258 [11:37<23:53,  8.19s/it]"
     ]
    },
    {
     "name": "stdout",
     "output_type": "stream",
     "text": [
      "torch.Size([1, 27, 13, 13])\n",
      "torch.Size([1, 27, 26, 26])\n",
      "torch.Size([1, 27, 52, 52])\n"
     ]
    },
    {
     "name": "stderr",
     "output_type": "stream",
     "text": [
      "\r\n",
      "Detecting objects:  33%|███▎      | 84/258 [11:46<24:09,  8.33s/it]"
     ]
    },
    {
     "name": "stdout",
     "output_type": "stream",
     "text": [
      "torch.Size([1, 27, 13, 13])\n",
      "torch.Size([1, 27, 26, 26])\n",
      "torch.Size([1, 27, 52, 52])\n"
     ]
    },
    {
     "name": "stderr",
     "output_type": "stream",
     "text": [
      "\r\n",
      "Detecting objects:  33%|███▎      | 85/258 [11:54<24:13,  8.40s/it]"
     ]
    },
    {
     "name": "stdout",
     "output_type": "stream",
     "text": [
      "torch.Size([1, 27, 13, 13])\n",
      "torch.Size([1, 27, 26, 26])\n",
      "torch.Size([1, 27, 52, 52])\n"
     ]
    },
    {
     "name": "stderr",
     "output_type": "stream",
     "text": [
      "\r\n",
      "Detecting objects:  33%|███▎      | 86/258 [12:03<24:17,  8.47s/it]"
     ]
    },
    {
     "name": "stdout",
     "output_type": "stream",
     "text": [
      "torch.Size([1, 27, 13, 13])\n",
      "torch.Size([1, 27, 26, 26])\n",
      "torch.Size([1, 27, 52, 52])\n"
     ]
    },
    {
     "name": "stderr",
     "output_type": "stream",
     "text": [
      "\r\n",
      "Detecting objects:  34%|███▎      | 87/258 [12:10<23:13,  8.15s/it]"
     ]
    },
    {
     "name": "stdout",
     "output_type": "stream",
     "text": [
      "torch.Size([1, 27, 13, 13])\n",
      "torch.Size([1, 27, 26, 26])\n",
      "torch.Size([1, 27, 52, 52])\n"
     ]
    },
    {
     "name": "stderr",
     "output_type": "stream",
     "text": [
      "\r\n",
      "Detecting objects:  34%|███▍      | 88/258 [12:19<23:21,  8.24s/it]"
     ]
    },
    {
     "name": "stdout",
     "output_type": "stream",
     "text": [
      "torch.Size([1, 27, 13, 13])\n",
      "torch.Size([1, 27, 26, 26])\n",
      "torch.Size([1, 27, 52, 52])\n"
     ]
    },
    {
     "name": "stderr",
     "output_type": "stream",
     "text": [
      "\r\n",
      "Detecting objects:  34%|███▍      | 89/258 [12:27<23:32,  8.36s/it]"
     ]
    },
    {
     "name": "stdout",
     "output_type": "stream",
     "text": [
      "torch.Size([1, 27, 13, 13])\n",
      "torch.Size([1, 27, 26, 26])\n",
      "torch.Size([1, 27, 52, 52])\n"
     ]
    },
    {
     "name": "stderr",
     "output_type": "stream",
     "text": [
      "\r\n",
      "Detecting objects:  35%|███▍      | 90/258 [12:36<23:57,  8.56s/it]"
     ]
    },
    {
     "name": "stdout",
     "output_type": "stream",
     "text": [
      "torch.Size([1, 27, 13, 13])\n",
      "torch.Size([1, 27, 26, 26])\n",
      "torch.Size([1, 27, 52, 52])\n"
     ]
    },
    {
     "name": "stderr",
     "output_type": "stream",
     "text": [
      "\r\n",
      "Detecting objects:  35%|███▌      | 91/258 [12:44<22:57,  8.25s/it]"
     ]
    },
    {
     "name": "stdout",
     "output_type": "stream",
     "text": [
      "torch.Size([1, 27, 13, 13])\n",
      "torch.Size([1, 27, 26, 26])\n",
      "torch.Size([1, 27, 52, 52])\n"
     ]
    },
    {
     "name": "stderr",
     "output_type": "stream",
     "text": [
      "\r\n",
      "Detecting objects:  36%|███▌      | 92/258 [12:53<23:08,  8.37s/it]"
     ]
    },
    {
     "name": "stdout",
     "output_type": "stream",
     "text": [
      "torch.Size([1, 27, 13, 13])\n",
      "torch.Size([1, 27, 26, 26])\n",
      "torch.Size([1, 27, 52, 52])\n"
     ]
    },
    {
     "name": "stderr",
     "output_type": "stream",
     "text": [
      "\r\n",
      "Detecting objects:  36%|███▌      | 93/258 [13:01<23:18,  8.47s/it]"
     ]
    },
    {
     "name": "stdout",
     "output_type": "stream",
     "text": [
      "torch.Size([1, 27, 13, 13])\n",
      "torch.Size([1, 27, 26, 26])\n",
      "torch.Size([1, 27, 52, 52])\n"
     ]
    },
    {
     "name": "stderr",
     "output_type": "stream",
     "text": [
      "\r\n",
      "Detecting objects:  36%|███▋      | 94/258 [13:10<23:18,  8.53s/it]"
     ]
    },
    {
     "name": "stdout",
     "output_type": "stream",
     "text": [
      "torch.Size([1, 27, 13, 13])\n",
      "torch.Size([1, 27, 26, 26])\n",
      "torch.Size([1, 27, 52, 52])\n"
     ]
    },
    {
     "name": "stderr",
     "output_type": "stream",
     "text": [
      "\r\n",
      "Detecting objects:  37%|███▋      | 95/258 [13:17<22:09,  8.16s/it]"
     ]
    },
    {
     "name": "stdout",
     "output_type": "stream",
     "text": [
      "torch.Size([1, 27, 13, 13])\n",
      "torch.Size([1, 27, 26, 26])\n",
      "torch.Size([1, 27, 52, 52])\n"
     ]
    },
    {
     "name": "stderr",
     "output_type": "stream",
     "text": [
      "\r\n",
      "Detecting objects:  37%|███▋      | 96/258 [13:26<22:40,  8.40s/it]"
     ]
    },
    {
     "name": "stdout",
     "output_type": "stream",
     "text": [
      "torch.Size([1, 27, 13, 13])\n",
      "torch.Size([1, 27, 26, 26])\n",
      "torch.Size([1, 27, 52, 52])\n"
     ]
    },
    {
     "name": "stderr",
     "output_type": "stream",
     "text": [
      "\r\n",
      "Detecting objects:  38%|███▊      | 97/258 [13:35<22:40,  8.45s/it]"
     ]
    },
    {
     "name": "stdout",
     "output_type": "stream",
     "text": [
      "torch.Size([1, 27, 13, 13])\n",
      "torch.Size([1, 27, 26, 26])\n",
      "torch.Size([1, 27, 52, 52])\n"
     ]
    },
    {
     "name": "stderr",
     "output_type": "stream",
     "text": [
      "\r\n",
      "Detecting objects:  38%|███▊      | 98/258 [13:42<21:39,  8.12s/it]"
     ]
    },
    {
     "name": "stdout",
     "output_type": "stream",
     "text": [
      "torch.Size([1, 27, 13, 13])\n",
      "torch.Size([1, 27, 26, 26])\n",
      "torch.Size([1, 27, 52, 52])\n"
     ]
    },
    {
     "name": "stderr",
     "output_type": "stream",
     "text": [
      "\r\n",
      "Detecting objects:  38%|███▊      | 99/258 [13:50<21:41,  8.19s/it]"
     ]
    },
    {
     "name": "stdout",
     "output_type": "stream",
     "text": [
      "torch.Size([1, 27, 13, 13])\n",
      "torch.Size([1, 27, 26, 26])\n",
      "torch.Size([1, 27, 52, 52])\n"
     ]
    },
    {
     "name": "stderr",
     "output_type": "stream",
     "text": [
      "\r\n",
      "Detecting objects:  39%|███▉      | 100/258 [13:59<21:47,  8.27s/it]"
     ]
    },
    {
     "name": "stdout",
     "output_type": "stream",
     "text": [
      "torch.Size([1, 27, 13, 13])\n",
      "torch.Size([1, 27, 26, 26])\n",
      "torch.Size([1, 27, 52, 52])\n"
     ]
    },
    {
     "name": "stderr",
     "output_type": "stream",
     "text": [
      "\r\n",
      "Detecting objects:  39%|███▉      | 101/258 [14:07<21:51,  8.35s/it]"
     ]
    },
    {
     "name": "stdout",
     "output_type": "stream",
     "text": [
      "torch.Size([1, 27, 13, 13])\n",
      "torch.Size([1, 27, 26, 26])\n",
      "torch.Size([1, 27, 52, 52])\n"
     ]
    },
    {
     "name": "stderr",
     "output_type": "stream",
     "text": [
      "\r\n",
      "Detecting objects:  40%|███▉      | 102/258 [14:15<20:43,  7.97s/it]"
     ]
    },
    {
     "name": "stdout",
     "output_type": "stream",
     "text": [
      "torch.Size([1, 27, 13, 13])\n",
      "torch.Size([1, 27, 26, 26])\n",
      "torch.Size([1, 27, 52, 52])\n"
     ]
    },
    {
     "name": "stderr",
     "output_type": "stream",
     "text": [
      "\r\n",
      "Detecting objects:  40%|███▉      | 103/258 [14:23<20:57,  8.11s/it]"
     ]
    },
    {
     "name": "stdout",
     "output_type": "stream",
     "text": [
      "torch.Size([1, 27, 13, 13])\n",
      "torch.Size([1, 27, 26, 26])\n",
      "torch.Size([1, 27, 52, 52])\n"
     ]
    },
    {
     "name": "stderr",
     "output_type": "stream",
     "text": [
      "\r\n",
      "Detecting objects:  40%|████      | 104/258 [14:31<21:04,  8.21s/it]"
     ]
    },
    {
     "name": "stdout",
     "output_type": "stream",
     "text": [
      "torch.Size([1, 27, 13, 13])\n",
      "torch.Size([1, 27, 26, 26])\n",
      "torch.Size([1, 27, 52, 52])\n"
     ]
    },
    {
     "name": "stderr",
     "output_type": "stream",
     "text": [
      "\r\n",
      "Detecting objects:  41%|████      | 105/258 [14:40<21:05,  8.27s/it]"
     ]
    },
    {
     "name": "stdout",
     "output_type": "stream",
     "text": [
      "torch.Size([1, 27, 13, 13])\n",
      "torch.Size([1, 27, 26, 26])\n",
      "torch.Size([1, 27, 52, 52])\n"
     ]
    },
    {
     "name": "stderr",
     "output_type": "stream",
     "text": [
      "\r\n",
      "Detecting objects:  41%|████      | 106/258 [14:47<20:16,  8.00s/it]"
     ]
    },
    {
     "name": "stdout",
     "output_type": "stream",
     "text": [
      "torch.Size([1, 27, 13, 13])\n",
      "torch.Size([1, 27, 26, 26])\n",
      "torch.Size([1, 27, 52, 52])\n"
     ]
    },
    {
     "name": "stderr",
     "output_type": "stream",
     "text": [
      "\r\n",
      "Detecting objects:  41%|████▏     | 107/258 [14:56<20:29,  8.14s/it]"
     ]
    },
    {
     "name": "stdout",
     "output_type": "stream",
     "text": [
      "torch.Size([1, 27, 13, 13])\n",
      "torch.Size([1, 27, 26, 26])\n",
      "torch.Size([1, 27, 52, 52])\n"
     ]
    },
    {
     "name": "stderr",
     "output_type": "stream",
     "text": [
      "\r\n",
      "Detecting objects:  42%|████▏     | 108/258 [15:04<20:45,  8.30s/it]"
     ]
    },
    {
     "name": "stdout",
     "output_type": "stream",
     "text": [
      "torch.Size([1, 27, 13, 13])\n",
      "torch.Size([1, 27, 26, 26])\n",
      "torch.Size([1, 27, 52, 52])\n"
     ]
    },
    {
     "name": "stderr",
     "output_type": "stream",
     "text": [
      "\r\n",
      "Detecting objects:  42%|████▏     | 109/258 [15:13<20:49,  8.38s/it]"
     ]
    },
    {
     "name": "stdout",
     "output_type": "stream",
     "text": [
      "torch.Size([1, 27, 13, 13])\n",
      "torch.Size([1, 27, 26, 26])\n",
      "torch.Size([1, 27, 52, 52])\n"
     ]
    },
    {
     "name": "stderr",
     "output_type": "stream",
     "text": [
      "\r\n",
      "Detecting objects:  43%|████▎     | 110/258 [15:21<20:08,  8.16s/it]"
     ]
    },
    {
     "name": "stdout",
     "output_type": "stream",
     "text": [
      "torch.Size([1, 27, 13, 13])\n",
      "torch.Size([1, 27, 26, 26])\n",
      "torch.Size([1, 27, 52, 52])\n"
     ]
    },
    {
     "name": "stderr",
     "output_type": "stream",
     "text": [
      "\r\n",
      "Detecting objects:  43%|████▎     | 111/258 [15:29<20:11,  8.24s/it]"
     ]
    },
    {
     "name": "stdout",
     "output_type": "stream",
     "text": [
      "torch.Size([1, 27, 13, 13])\n",
      "torch.Size([1, 27, 26, 26])\n",
      "torch.Size([1, 27, 52, 52])\n"
     ]
    },
    {
     "name": "stderr",
     "output_type": "stream",
     "text": [
      "\r\n",
      "Detecting objects:  43%|████▎     | 112/258 [15:37<20:11,  8.30s/it]"
     ]
    },
    {
     "name": "stdout",
     "output_type": "stream",
     "text": [
      "torch.Size([1, 27, 13, 13])\n",
      "torch.Size([1, 27, 26, 26])\n",
      "torch.Size([1, 27, 52, 52])\n"
     ]
    },
    {
     "name": "stderr",
     "output_type": "stream",
     "text": [
      "\r\n",
      "Detecting objects:  44%|████▍     | 113/258 [15:45<19:35,  8.11s/it]"
     ]
    },
    {
     "name": "stdout",
     "output_type": "stream",
     "text": [
      "torch.Size([1, 27, 13, 13])\n",
      "torch.Size([1, 27, 26, 26])\n",
      "torch.Size([1, 27, 52, 52])\n"
     ]
    },
    {
     "name": "stderr",
     "output_type": "stream",
     "text": [
      "\r\n",
      "Detecting objects:  44%|████▍     | 114/258 [15:54<19:51,  8.28s/it]"
     ]
    },
    {
     "name": "stdout",
     "output_type": "stream",
     "text": [
      "torch.Size([1, 27, 13, 13])\n",
      "torch.Size([1, 27, 26, 26])\n",
      "torch.Size([1, 27, 52, 52])\n"
     ]
    },
    {
     "name": "stderr",
     "output_type": "stream",
     "text": [
      "\r\n",
      "Detecting objects:  45%|████▍     | 115/258 [16:02<19:58,  8.38s/it]"
     ]
    },
    {
     "name": "stdout",
     "output_type": "stream",
     "text": [
      "torch.Size([1, 27, 13, 13])\n",
      "torch.Size([1, 27, 26, 26])\n",
      "torch.Size([1, 27, 52, 52])\n"
     ]
    },
    {
     "name": "stderr",
     "output_type": "stream",
     "text": [
      "\r\n",
      "Detecting objects:  45%|████▍     | 116/258 [16:11<20:06,  8.50s/it]"
     ]
    },
    {
     "name": "stdout",
     "output_type": "stream",
     "text": [
      "torch.Size([1, 27, 13, 13])\n",
      "torch.Size([1, 27, 26, 26])\n",
      "torch.Size([1, 27, 52, 52])\n"
     ]
    },
    {
     "name": "stderr",
     "output_type": "stream",
     "text": [
      "\r\n",
      "Detecting objects:  45%|████▌     | 117/258 [16:19<19:08,  8.14s/it]"
     ]
    },
    {
     "name": "stdout",
     "output_type": "stream",
     "text": [
      "torch.Size([1, 27, 13, 13])\n",
      "torch.Size([1, 27, 26, 26])\n",
      "torch.Size([1, 27, 52, 52])\n"
     ]
    },
    {
     "name": "stderr",
     "output_type": "stream",
     "text": [
      "\r\n",
      "Detecting objects:  46%|████▌     | 118/258 [16:27<19:16,  8.26s/it]"
     ]
    },
    {
     "name": "stdout",
     "output_type": "stream",
     "text": [
      "torch.Size([1, 27, 13, 13])\n",
      "torch.Size([1, 27, 26, 26])\n",
      "torch.Size([1, 27, 52, 52])\n"
     ]
    },
    {
     "name": "stderr",
     "output_type": "stream",
     "text": [
      "\r\n",
      "Detecting objects:  46%|████▌     | 119/258 [16:36<19:33,  8.44s/it]"
     ]
    },
    {
     "name": "stdout",
     "output_type": "stream",
     "text": [
      "torch.Size([1, 27, 13, 13])\n",
      "torch.Size([1, 27, 26, 26])\n",
      "torch.Size([1, 27, 52, 52])\n"
     ]
    },
    {
     "name": "stderr",
     "output_type": "stream",
     "text": [
      "\r\n",
      "Detecting objects:  47%|████▋     | 120/258 [16:44<19:19,  8.40s/it]"
     ]
    },
    {
     "name": "stdout",
     "output_type": "stream",
     "text": [
      "torch.Size([1, 27, 13, 13])\n",
      "torch.Size([1, 27, 26, 26])\n",
      "torch.Size([1, 27, 52, 52])\n"
     ]
    },
    {
     "name": "stderr",
     "output_type": "stream",
     "text": [
      "\r\n",
      "Detecting objects:  47%|████▋     | 121/258 [16:51<18:23,  8.06s/it]"
     ]
    },
    {
     "name": "stdout",
     "output_type": "stream",
     "text": [
      "torch.Size([1, 27, 13, 13])\n",
      "torch.Size([1, 27, 26, 26])\n",
      "torch.Size([1, 27, 52, 52])\n"
     ]
    },
    {
     "name": "stderr",
     "output_type": "stream",
     "text": [
      "\r\n",
      "Detecting objects:  47%|████▋     | 122/258 [17:00<18:28,  8.15s/it]"
     ]
    },
    {
     "name": "stdout",
     "output_type": "stream",
     "text": [
      "torch.Size([1, 27, 13, 13])\n",
      "torch.Size([1, 27, 26, 26])\n",
      "torch.Size([1, 27, 52, 52])\n"
     ]
    },
    {
     "name": "stderr",
     "output_type": "stream",
     "text": [
      "\r\n",
      "Detecting objects:  48%|████▊     | 123/258 [17:08<18:31,  8.23s/it]"
     ]
    },
    {
     "name": "stdout",
     "output_type": "stream",
     "text": [
      "torch.Size([1, 27, 13, 13])\n",
      "torch.Size([1, 27, 26, 26])\n",
      "torch.Size([1, 27, 52, 52])\n"
     ]
    },
    {
     "name": "stderr",
     "output_type": "stream",
     "text": [
      "\r\n",
      "Detecting objects:  48%|████▊     | 124/258 [17:17<18:30,  8.29s/it]"
     ]
    },
    {
     "name": "stdout",
     "output_type": "stream",
     "text": [
      "torch.Size([1, 27, 13, 13])\n",
      "torch.Size([1, 27, 26, 26])\n",
      "torch.Size([1, 27, 52, 52])\n"
     ]
    },
    {
     "name": "stderr",
     "output_type": "stream",
     "text": [
      "\r\n",
      "Detecting objects:  48%|████▊     | 125/258 [17:25<18:12,  8.22s/it]"
     ]
    },
    {
     "name": "stdout",
     "output_type": "stream",
     "text": [
      "torch.Size([1, 27, 13, 13])\n",
      "torch.Size([1, 27, 26, 26])\n",
      "torch.Size([1, 27, 52, 52])\n"
     ]
    },
    {
     "name": "stderr",
     "output_type": "stream",
     "text": [
      "\r\n",
      "Detecting objects:  49%|████▉     | 126/258 [17:34<18:29,  8.41s/it]"
     ]
    },
    {
     "name": "stdout",
     "output_type": "stream",
     "text": [
      "torch.Size([1, 27, 13, 13])\n",
      "torch.Size([1, 27, 26, 26])\n",
      "torch.Size([1, 27, 52, 52])\n"
     ]
    },
    {
     "name": "stderr",
     "output_type": "stream",
     "text": [
      "\r\n",
      "Detecting objects:  49%|████▉     | 127/258 [17:43<18:45,  8.59s/it]"
     ]
    },
    {
     "name": "stdout",
     "output_type": "stream",
     "text": [
      "torch.Size([1, 27, 13, 13])\n",
      "torch.Size([1, 27, 26, 26])\n",
      "torch.Size([1, 27, 52, 52])\n"
     ]
    },
    {
     "name": "stderr",
     "output_type": "stream",
     "text": [
      "\r\n",
      "Detecting objects:  50%|████▉     | 128/258 [17:50<17:54,  8.26s/it]"
     ]
    },
    {
     "name": "stdout",
     "output_type": "stream",
     "text": [
      "torch.Size([1, 27, 13, 13])\n",
      "torch.Size([1, 27, 26, 26])\n",
      "torch.Size([1, 27, 52, 52])\n"
     ]
    },
    {
     "name": "stderr",
     "output_type": "stream",
     "text": [
      "\r\n",
      "Detecting objects:  50%|█████     | 129/258 [17:59<17:54,  8.33s/it]"
     ]
    },
    {
     "name": "stdout",
     "output_type": "stream",
     "text": [
      "torch.Size([1, 27, 13, 13])\n",
      "torch.Size([1, 27, 26, 26])\n",
      "torch.Size([1, 27, 52, 52])\n"
     ]
    },
    {
     "name": "stderr",
     "output_type": "stream",
     "text": [
      "\r\n",
      "Detecting objects:  50%|█████     | 130/258 [18:07<18:07,  8.50s/it]"
     ]
    },
    {
     "name": "stdout",
     "output_type": "stream",
     "text": [
      "torch.Size([1, 27, 13, 13])\n",
      "torch.Size([1, 27, 26, 26])\n",
      "torch.Size([1, 27, 52, 52])\n"
     ]
    },
    {
     "name": "stderr",
     "output_type": "stream",
     "text": [
      "\r\n",
      "Detecting objects:  51%|█████     | 131/258 [18:16<18:04,  8.54s/it]"
     ]
    },
    {
     "name": "stdout",
     "output_type": "stream",
     "text": [
      "torch.Size([1, 27, 13, 13])\n",
      "torch.Size([1, 27, 26, 26])\n",
      "torch.Size([1, 27, 52, 52])\n"
     ]
    },
    {
     "name": "stderr",
     "output_type": "stream",
     "text": [
      "\r\n",
      "Detecting objects:  51%|█████     | 132/258 [18:23<17:09,  8.17s/it]"
     ]
    },
    {
     "name": "stdout",
     "output_type": "stream",
     "text": [
      "torch.Size([1, 27, 13, 13])\n",
      "torch.Size([1, 27, 26, 26])\n",
      "torch.Size([1, 27, 52, 52])\n"
     ]
    },
    {
     "name": "stderr",
     "output_type": "stream",
     "text": [
      "\r\n",
      "Detecting objects:  52%|█████▏    | 133/258 [18:32<17:23,  8.35s/it]"
     ]
    },
    {
     "name": "stdout",
     "output_type": "stream",
     "text": [
      "torch.Size([1, 27, 13, 13])\n",
      "torch.Size([1, 27, 26, 26])\n",
      "torch.Size([1, 27, 52, 52])\n"
     ]
    },
    {
     "name": "stderr",
     "output_type": "stream",
     "text": [
      "\r\n",
      "Detecting objects:  52%|█████▏    | 134/258 [18:41<17:40,  8.56s/it]"
     ]
    },
    {
     "name": "stdout",
     "output_type": "stream",
     "text": [
      "torch.Size([1, 27, 13, 13])\n",
      "torch.Size([1, 27, 26, 26])\n",
      "torch.Size([1, 27, 52, 52])\n"
     ]
    },
    {
     "name": "stderr",
     "output_type": "stream",
     "text": [
      "\r\n",
      "Detecting objects:  52%|█████▏    | 135/258 [18:50<17:34,  8.58s/it]"
     ]
    },
    {
     "name": "stdout",
     "output_type": "stream",
     "text": [
      "torch.Size([1, 27, 13, 13])\n",
      "torch.Size([1, 27, 26, 26])\n",
      "torch.Size([1, 27, 52, 52])\n"
     ]
    },
    {
     "name": "stderr",
     "output_type": "stream",
     "text": [
      "\r\n",
      "Detecting objects:  53%|█████▎    | 136/258 [18:57<16:42,  8.21s/it]"
     ]
    },
    {
     "name": "stdout",
     "output_type": "stream",
     "text": [
      "torch.Size([1, 27, 13, 13])\n",
      "torch.Size([1, 27, 26, 26])\n",
      "torch.Size([1, 27, 52, 52])\n"
     ]
    },
    {
     "name": "stderr",
     "output_type": "stream",
     "text": [
      "\r\n",
      "Detecting objects:  53%|█████▎    | 137/258 [19:06<16:52,  8.36s/it]"
     ]
    },
    {
     "name": "stdout",
     "output_type": "stream",
     "text": [
      "torch.Size([1, 27, 13, 13])\n",
      "torch.Size([1, 27, 26, 26])\n",
      "torch.Size([1, 27, 52, 52])\n"
     ]
    },
    {
     "name": "stderr",
     "output_type": "stream",
     "text": [
      "\r\n",
      "Detecting objects:  53%|█████▎    | 138/258 [19:14<16:49,  8.41s/it]"
     ]
    },
    {
     "name": "stdout",
     "output_type": "stream",
     "text": [
      "torch.Size([1, 27, 13, 13])\n",
      "torch.Size([1, 27, 26, 26])\n",
      "torch.Size([1, 27, 52, 52])\n"
     ]
    },
    {
     "name": "stderr",
     "output_type": "stream",
     "text": [
      "\r\n",
      "Detecting objects:  54%|█████▍    | 139/258 [19:22<16:26,  8.29s/it]"
     ]
    },
    {
     "name": "stdout",
     "output_type": "stream",
     "text": [
      "torch.Size([1, 27, 13, 13])\n",
      "torch.Size([1, 27, 26, 26])\n",
      "torch.Size([1, 27, 52, 52])\n"
     ]
    },
    {
     "name": "stderr",
     "output_type": "stream",
     "text": [
      "\r\n",
      "Detecting objects:  54%|█████▍    | 140/258 [19:31<16:23,  8.34s/it]"
     ]
    },
    {
     "name": "stdout",
     "output_type": "stream",
     "text": [
      "torch.Size([1, 27, 13, 13])\n",
      "torch.Size([1, 27, 26, 26])\n",
      "torch.Size([1, 27, 52, 52])\n"
     ]
    },
    {
     "name": "stderr",
     "output_type": "stream",
     "text": [
      "\r\n",
      "Detecting objects:  55%|█████▍    | 141/258 [19:40<16:31,  8.47s/it]"
     ]
    },
    {
     "name": "stdout",
     "output_type": "stream",
     "text": [
      "torch.Size([1, 27, 13, 13])\n",
      "torch.Size([1, 27, 26, 26])\n",
      "torch.Size([1, 27, 52, 52])\n"
     ]
    },
    {
     "name": "stderr",
     "output_type": "stream",
     "text": [
      "\r\n",
      "Detecting objects:  55%|█████▌    | 142/258 [19:48<16:20,  8.45s/it]"
     ]
    },
    {
     "name": "stdout",
     "output_type": "stream",
     "text": [
      "torch.Size([1, 27, 13, 13])\n",
      "torch.Size([1, 27, 26, 26])\n",
      "torch.Size([1, 27, 52, 52])\n"
     ]
    },
    {
     "name": "stderr",
     "output_type": "stream",
     "text": [
      "\r\n",
      "Detecting objects:  55%|█████▌    | 143/258 [19:55<15:33,  8.12s/it]"
     ]
    },
    {
     "name": "stdout",
     "output_type": "stream",
     "text": [
      "torch.Size([1, 27, 13, 13])\n",
      "torch.Size([1, 27, 26, 26])\n",
      "torch.Size([1, 27, 52, 52])\n"
     ]
    },
    {
     "name": "stderr",
     "output_type": "stream",
     "text": [
      "\r\n",
      "Detecting objects:  56%|█████▌    | 144/258 [20:04<15:41,  8.26s/it]"
     ]
    },
    {
     "name": "stdout",
     "output_type": "stream",
     "text": [
      "torch.Size([1, 27, 13, 13])\n",
      "torch.Size([1, 27, 26, 26])\n",
      "torch.Size([1, 27, 52, 52])\n"
     ]
    },
    {
     "name": "stderr",
     "output_type": "stream",
     "text": [
      "\r\n",
      "Detecting objects:  56%|█████▌    | 145/258 [20:13<15:46,  8.38s/it]"
     ]
    },
    {
     "name": "stdout",
     "output_type": "stream",
     "text": [
      "torch.Size([1, 27, 13, 13])\n",
      "torch.Size([1, 27, 26, 26])\n",
      "torch.Size([1, 27, 52, 52])\n"
     ]
    },
    {
     "name": "stderr",
     "output_type": "stream",
     "text": [
      "\r\n",
      "Detecting objects:  57%|█████▋    | 146/258 [20:21<15:44,  8.43s/it]"
     ]
    },
    {
     "name": "stdout",
     "output_type": "stream",
     "text": [
      "torch.Size([1, 27, 13, 13])\n",
      "torch.Size([1, 27, 26, 26])\n",
      "torch.Size([1, 27, 52, 52])\n"
     ]
    },
    {
     "name": "stderr",
     "output_type": "stream",
     "text": [
      "\r\n",
      "Detecting objects:  57%|█████▋    | 147/258 [20:29<15:03,  8.14s/it]"
     ]
    },
    {
     "name": "stdout",
     "output_type": "stream",
     "text": [
      "torch.Size([1, 27, 13, 13])\n",
      "torch.Size([1, 27, 26, 26])\n",
      "torch.Size([1, 27, 52, 52])\n"
     ]
    },
    {
     "name": "stderr",
     "output_type": "stream",
     "text": [
      "\r\n",
      "Detecting objects:  57%|█████▋    | 148/258 [20:37<15:11,  8.29s/it]"
     ]
    },
    {
     "name": "stdout",
     "output_type": "stream",
     "text": [
      "torch.Size([1, 27, 13, 13])\n",
      "torch.Size([1, 27, 26, 26])\n",
      "torch.Size([1, 27, 52, 52])\n"
     ]
    },
    {
     "name": "stderr",
     "output_type": "stream",
     "text": [
      "\r\n",
      "Detecting objects:  58%|█████▊    | 149/258 [20:46<15:12,  8.37s/it]"
     ]
    },
    {
     "name": "stdout",
     "output_type": "stream",
     "text": [
      "torch.Size([1, 27, 13, 13])\n",
      "torch.Size([1, 27, 26, 26])\n",
      "torch.Size([1, 27, 52, 52])\n"
     ]
    },
    {
     "name": "stderr",
     "output_type": "stream",
     "text": [
      "\r\n",
      "Detecting objects:  58%|█████▊    | 150/258 [20:55<15:12,  8.45s/it]"
     ]
    },
    {
     "name": "stdout",
     "output_type": "stream",
     "text": [
      "torch.Size([1, 27, 13, 13])\n",
      "torch.Size([1, 27, 26, 26])\n",
      "torch.Size([1, 27, 52, 52])\n"
     ]
    },
    {
     "name": "stderr",
     "output_type": "stream",
     "text": [
      "\r\n",
      "Detecting objects:  59%|█████▊    | 151/258 [21:02<14:31,  8.15s/it]"
     ]
    },
    {
     "name": "stdout",
     "output_type": "stream",
     "text": [
      "torch.Size([1, 27, 13, 13])\n",
      "torch.Size([1, 27, 26, 26])\n",
      "torch.Size([1, 27, 52, 52])\n"
     ]
    },
    {
     "name": "stderr",
     "output_type": "stream",
     "text": [
      "\r\n",
      "Detecting objects:  59%|█████▉    | 152/258 [21:11<14:35,  8.26s/it]"
     ]
    },
    {
     "name": "stdout",
     "output_type": "stream",
     "text": [
      "torch.Size([1, 27, 13, 13])\n",
      "torch.Size([1, 27, 26, 26])\n",
      "torch.Size([1, 27, 52, 52])\n"
     ]
    },
    {
     "name": "stderr",
     "output_type": "stream",
     "text": [
      "\r\n",
      "Detecting objects:  59%|█████▉    | 153/258 [21:19<14:46,  8.44s/it]"
     ]
    },
    {
     "name": "stdout",
     "output_type": "stream",
     "text": [
      "torch.Size([1, 27, 13, 13])\n",
      "torch.Size([1, 27, 26, 26])\n",
      "torch.Size([1, 27, 52, 52])\n"
     ]
    },
    {
     "name": "stderr",
     "output_type": "stream",
     "text": [
      "\r\n",
      "Detecting objects:  60%|█████▉    | 154/258 [21:27<14:20,  8.28s/it]"
     ]
    },
    {
     "name": "stdout",
     "output_type": "stream",
     "text": [
      "torch.Size([1, 27, 13, 13])\n",
      "torch.Size([1, 27, 26, 26])\n",
      "torch.Size([1, 27, 52, 52])\n"
     ]
    },
    {
     "name": "stderr",
     "output_type": "stream",
     "text": [
      "\r\n",
      "Detecting objects:  60%|██████    | 155/258 [21:36<14:34,  8.49s/it]"
     ]
    },
    {
     "name": "stdout",
     "output_type": "stream",
     "text": [
      "torch.Size([1, 27, 13, 13])\n",
      "torch.Size([1, 27, 26, 26])\n",
      "torch.Size([1, 27, 52, 52])\n"
     ]
    },
    {
     "name": "stderr",
     "output_type": "stream",
     "text": [
      "\r\n",
      "Detecting objects:  60%|██████    | 156/258 [21:45<14:35,  8.58s/it]"
     ]
    },
    {
     "name": "stdout",
     "output_type": "stream",
     "text": [
      "torch.Size([1, 27, 13, 13])\n",
      "torch.Size([1, 27, 26, 26])\n",
      "torch.Size([1, 27, 52, 52])\n"
     ]
    },
    {
     "name": "stderr",
     "output_type": "stream",
     "text": [
      "\r\n",
      "Detecting objects:  61%|██████    | 157/258 [21:54<14:26,  8.58s/it]"
     ]
    },
    {
     "name": "stdout",
     "output_type": "stream",
     "text": [
      "torch.Size([1, 27, 13, 13])\n",
      "torch.Size([1, 27, 26, 26])\n",
      "torch.Size([1, 27, 52, 52])\n"
     ]
    },
    {
     "name": "stderr",
     "output_type": "stream",
     "text": [
      "\r\n",
      "Detecting objects:  61%|██████    | 158/258 [22:01<13:47,  8.28s/it]"
     ]
    },
    {
     "name": "stdout",
     "output_type": "stream",
     "text": [
      "torch.Size([1, 27, 13, 13])\n",
      "torch.Size([1, 27, 26, 26])\n",
      "torch.Size([1, 27, 52, 52])\n"
     ]
    },
    {
     "name": "stderr",
     "output_type": "stream",
     "text": [
      "\r\n",
      "Detecting objects:  62%|██████▏   | 159/258 [22:10<13:53,  8.42s/it]"
     ]
    },
    {
     "name": "stdout",
     "output_type": "stream",
     "text": [
      "torch.Size([1, 27, 13, 13])\n",
      "torch.Size([1, 27, 26, 26])\n",
      "torch.Size([1, 27, 52, 52])\n"
     ]
    },
    {
     "name": "stderr",
     "output_type": "stream",
     "text": [
      "\r\n",
      "Detecting objects:  62%|██████▏   | 160/258 [22:18<13:48,  8.46s/it]"
     ]
    },
    {
     "name": "stdout",
     "output_type": "stream",
     "text": [
      "torch.Size([1, 27, 13, 13])\n",
      "torch.Size([1, 27, 26, 26])\n",
      "torch.Size([1, 27, 52, 52])\n"
     ]
    },
    {
     "name": "stderr",
     "output_type": "stream",
     "text": [
      "\r\n",
      "Detecting objects:  62%|██████▏   | 161/258 [22:27<13:45,  8.51s/it]"
     ]
    },
    {
     "name": "stdout",
     "output_type": "stream",
     "text": [
      "torch.Size([1, 27, 13, 13])\n",
      "torch.Size([1, 27, 26, 26])\n",
      "torch.Size([1, 27, 52, 52])\n"
     ]
    },
    {
     "name": "stderr",
     "output_type": "stream",
     "text": [
      "\r\n",
      "Detecting objects:  63%|██████▎   | 162/258 [22:35<13:10,  8.23s/it]"
     ]
    },
    {
     "name": "stdout",
     "output_type": "stream",
     "text": [
      "torch.Size([1, 27, 13, 13])\n",
      "torch.Size([1, 27, 26, 26])\n",
      "torch.Size([1, 27, 52, 52])\n"
     ]
    },
    {
     "name": "stderr",
     "output_type": "stream",
     "text": [
      "\r\n",
      "Detecting objects:  63%|██████▎   | 163/258 [22:43<13:12,  8.34s/it]"
     ]
    },
    {
     "name": "stdout",
     "output_type": "stream",
     "text": [
      "torch.Size([1, 27, 13, 13])\n",
      "torch.Size([1, 27, 26, 26])\n",
      "torch.Size([1, 27, 52, 52])\n"
     ]
    },
    {
     "name": "stderr",
     "output_type": "stream",
     "text": [
      "\r\n",
      "Detecting objects:  64%|██████▎   | 164/258 [22:52<13:14,  8.45s/it]"
     ]
    },
    {
     "name": "stdout",
     "output_type": "stream",
     "text": [
      "torch.Size([1, 27, 13, 13])\n",
      "torch.Size([1, 27, 26, 26])\n",
      "torch.Size([1, 27, 52, 52])\n"
     ]
    },
    {
     "name": "stderr",
     "output_type": "stream",
     "text": [
      "\r\n",
      "Detecting objects:  64%|██████▍   | 165/258 [23:01<13:12,  8.52s/it]"
     ]
    },
    {
     "name": "stdout",
     "output_type": "stream",
     "text": [
      "torch.Size([1, 27, 13, 13])\n",
      "torch.Size([1, 27, 26, 26])\n",
      "torch.Size([1, 27, 52, 52])\n"
     ]
    },
    {
     "name": "stderr",
     "output_type": "stream",
     "text": [
      "\r\n",
      "Detecting objects:  64%|██████▍   | 166/258 [23:08<12:33,  8.19s/it]"
     ]
    },
    {
     "name": "stdout",
     "output_type": "stream",
     "text": [
      "torch.Size([1, 27, 13, 13])\n",
      "torch.Size([1, 27, 26, 26])\n",
      "torch.Size([1, 27, 52, 52])\n"
     ]
    },
    {
     "name": "stderr",
     "output_type": "stream",
     "text": [
      "\r\n",
      "Detecting objects:  65%|██████▍   | 167/258 [23:17<12:34,  8.30s/it]"
     ]
    },
    {
     "name": "stdout",
     "output_type": "stream",
     "text": [
      "torch.Size([1, 27, 13, 13])\n",
      "torch.Size([1, 27, 26, 26])\n",
      "torch.Size([1, 27, 52, 52])\n"
     ]
    },
    {
     "name": "stderr",
     "output_type": "stream",
     "text": [
      "\r\n",
      "Detecting objects:  65%|██████▌   | 168/258 [23:26<12:49,  8.55s/it]"
     ]
    },
    {
     "name": "stdout",
     "output_type": "stream",
     "text": [
      "torch.Size([1, 27, 13, 13])\n",
      "torch.Size([1, 27, 26, 26])\n",
      "torch.Size([1, 27, 52, 52])\n"
     ]
    },
    {
     "name": "stderr",
     "output_type": "stream",
     "text": [
      "\r\n",
      "Detecting objects:  66%|██████▌   | 169/258 [23:33<12:11,  8.21s/it]"
     ]
    },
    {
     "name": "stdout",
     "output_type": "stream",
     "text": [
      "torch.Size([1, 27, 13, 13])\n",
      "torch.Size([1, 27, 26, 26])\n",
      "torch.Size([1, 27, 52, 52])\n"
     ]
    },
    {
     "name": "stderr",
     "output_type": "stream",
     "text": [
      "\r\n",
      "Detecting objects:  66%|██████▌   | 170/258 [23:42<12:13,  8.34s/it]"
     ]
    },
    {
     "name": "stdout",
     "output_type": "stream",
     "text": [
      "torch.Size([1, 27, 13, 13])\n",
      "torch.Size([1, 27, 26, 26])\n",
      "torch.Size([1, 27, 52, 52])\n"
     ]
    },
    {
     "name": "stderr",
     "output_type": "stream",
     "text": [
      "\r\n",
      "Detecting objects:  66%|██████▋   | 171/258 [23:50<12:11,  8.41s/it]"
     ]
    },
    {
     "name": "stdout",
     "output_type": "stream",
     "text": [
      "torch.Size([1, 27, 13, 13])\n",
      "torch.Size([1, 27, 26, 26])\n",
      "torch.Size([1, 27, 52, 52])\n"
     ]
    },
    {
     "name": "stderr",
     "output_type": "stream",
     "text": [
      "\r\n",
      "Detecting objects:  67%|██████▋   | 172/258 [23:59<12:05,  8.44s/it]"
     ]
    },
    {
     "name": "stdout",
     "output_type": "stream",
     "text": [
      "torch.Size([1, 27, 13, 13])\n",
      "torch.Size([1, 27, 26, 26])\n",
      "torch.Size([1, 27, 52, 52])\n"
     ]
    },
    {
     "name": "stderr",
     "output_type": "stream",
     "text": [
      "\r\n",
      "Detecting objects:  67%|██████▋   | 173/258 [24:06<11:33,  8.16s/it]"
     ]
    },
    {
     "name": "stdout",
     "output_type": "stream",
     "text": [
      "torch.Size([1, 27, 13, 13])\n",
      "torch.Size([1, 27, 26, 26])\n",
      "torch.Size([1, 27, 52, 52])\n"
     ]
    },
    {
     "name": "stderr",
     "output_type": "stream",
     "text": [
      "\r\n",
      "Detecting objects:  67%|██████▋   | 174/258 [24:15<11:34,  8.26s/it]"
     ]
    },
    {
     "name": "stdout",
     "output_type": "stream",
     "text": [
      "torch.Size([1, 27, 13, 13])\n",
      "torch.Size([1, 27, 26, 26])\n",
      "torch.Size([1, 27, 52, 52])\n"
     ]
    },
    {
     "name": "stderr",
     "output_type": "stream",
     "text": [
      "\r\n",
      "Detecting objects:  68%|██████▊   | 175/258 [24:23<11:32,  8.34s/it]"
     ]
    },
    {
     "name": "stdout",
     "output_type": "stream",
     "text": [
      "torch.Size([1, 27, 13, 13])\n",
      "torch.Size([1, 27, 26, 26])\n",
      "torch.Size([1, 27, 52, 52])\n"
     ]
    },
    {
     "name": "stderr",
     "output_type": "stream",
     "text": [
      "\r\n",
      "Detecting objects:  68%|██████▊   | 176/258 [24:32<11:26,  8.37s/it]"
     ]
    },
    {
     "name": "stdout",
     "output_type": "stream",
     "text": [
      "torch.Size([1, 27, 13, 13])\n",
      "torch.Size([1, 27, 26, 26])\n",
      "torch.Size([1, 27, 52, 52])\n"
     ]
    },
    {
     "name": "stderr",
     "output_type": "stream",
     "text": [
      "\r\n",
      "Detecting objects:  69%|██████▊   | 177/258 [24:39<10:50,  8.03s/it]"
     ]
    },
    {
     "name": "stdout",
     "output_type": "stream",
     "text": [
      "torch.Size([1, 27, 13, 13])\n",
      "torch.Size([1, 27, 26, 26])\n",
      "torch.Size([1, 27, 52, 52])\n"
     ]
    },
    {
     "name": "stderr",
     "output_type": "stream",
     "text": [
      "\r\n",
      "Detecting objects:  69%|██████▉   | 178/258 [24:48<10:52,  8.15s/it]"
     ]
    },
    {
     "name": "stdout",
     "output_type": "stream",
     "text": [
      "torch.Size([1, 27, 13, 13])\n",
      "torch.Size([1, 27, 26, 26])\n",
      "torch.Size([1, 27, 52, 52])\n"
     ]
    },
    {
     "name": "stderr",
     "output_type": "stream",
     "text": [
      "\r\n",
      "Detecting objects:  69%|██████▉   | 179/258 [24:56<10:51,  8.24s/it]"
     ]
    },
    {
     "name": "stdout",
     "output_type": "stream",
     "text": [
      "torch.Size([1, 27, 13, 13])\n",
      "torch.Size([1, 27, 26, 26])\n",
      "torch.Size([1, 27, 52, 52])\n"
     ]
    },
    {
     "name": "stderr",
     "output_type": "stream",
     "text": [
      "\r\n",
      "Detecting objects:  70%|██████▉   | 180/258 [25:05<10:50,  8.34s/it]"
     ]
    },
    {
     "name": "stdout",
     "output_type": "stream",
     "text": [
      "torch.Size([1, 27, 13, 13])\n",
      "torch.Size([1, 27, 26, 26])\n",
      "torch.Size([1, 27, 52, 52])\n"
     ]
    },
    {
     "name": "stderr",
     "output_type": "stream",
     "text": [
      "\r\n",
      "Detecting objects:  70%|███████   | 181/258 [25:12<10:18,  8.04s/it]"
     ]
    },
    {
     "name": "stdout",
     "output_type": "stream",
     "text": [
      "torch.Size([1, 27, 13, 13])\n",
      "torch.Size([1, 27, 26, 26])\n",
      "torch.Size([1, 27, 52, 52])\n"
     ]
    },
    {
     "name": "stderr",
     "output_type": "stream",
     "text": [
      "\r\n",
      "Detecting objects:  71%|███████   | 182/258 [25:21<10:33,  8.34s/it]"
     ]
    },
    {
     "name": "stdout",
     "output_type": "stream",
     "text": [
      "torch.Size([1, 27, 13, 13])\n",
      "torch.Size([1, 27, 26, 26])\n",
      "torch.Size([1, 27, 52, 52])\n"
     ]
    },
    {
     "name": "stderr",
     "output_type": "stream",
     "text": [
      "\r\n",
      "Detecting objects:  71%|███████   | 183/258 [25:30<10:30,  8.41s/it]"
     ]
    },
    {
     "name": "stdout",
     "output_type": "stream",
     "text": [
      "torch.Size([1, 27, 13, 13])\n",
      "torch.Size([1, 27, 26, 26])\n",
      "torch.Size([1, 27, 52, 52])\n"
     ]
    },
    {
     "name": "stderr",
     "output_type": "stream",
     "text": [
      "\r\n",
      "Detecting objects:  71%|███████▏  | 184/258 [25:37<09:57,  8.08s/it]"
     ]
    },
    {
     "name": "stdout",
     "output_type": "stream",
     "text": [
      "torch.Size([1, 27, 13, 13])\n",
      "torch.Size([1, 27, 26, 26])\n",
      "torch.Size([1, 27, 52, 52])\n"
     ]
    },
    {
     "name": "stderr",
     "output_type": "stream",
     "text": [
      "\r\n",
      "Detecting objects:  72%|███████▏  | 185/258 [25:46<10:11,  8.38s/it]"
     ]
    },
    {
     "name": "stdout",
     "output_type": "stream",
     "text": [
      "torch.Size([1, 27, 13, 13])\n",
      "torch.Size([1, 27, 26, 26])\n",
      "torch.Size([1, 27, 52, 52])\n"
     ]
    },
    {
     "name": "stderr",
     "output_type": "stream",
     "text": [
      "\r\n",
      "Detecting objects:  72%|███████▏  | 186/258 [25:54<10:06,  8.42s/it]"
     ]
    },
    {
     "name": "stdout",
     "output_type": "stream",
     "text": [
      "torch.Size([1, 27, 13, 13])\n",
      "torch.Size([1, 27, 26, 26])\n",
      "torch.Size([1, 27, 52, 52])\n"
     ]
    },
    {
     "name": "stderr",
     "output_type": "stream",
     "text": [
      "\r\n",
      "Detecting objects:  72%|███████▏  | 187/258 [26:03<09:52,  8.35s/it]"
     ]
    },
    {
     "name": "stdout",
     "output_type": "stream",
     "text": [
      "torch.Size([1, 27, 13, 13])\n",
      "torch.Size([1, 27, 26, 26])\n",
      "torch.Size([1, 27, 52, 52])\n"
     ]
    },
    {
     "name": "stderr",
     "output_type": "stream",
     "text": [
      "\r\n",
      "Detecting objects:  73%|███████▎  | 188/258 [26:10<09:19,  8.00s/it]"
     ]
    },
    {
     "name": "stdout",
     "output_type": "stream",
     "text": [
      "torch.Size([1, 27, 13, 13])\n",
      "torch.Size([1, 27, 26, 26])\n",
      "torch.Size([1, 27, 52, 52])\n"
     ]
    },
    {
     "name": "stderr",
     "output_type": "stream",
     "text": [
      "\r\n",
      "Detecting objects:  73%|███████▎  | 189/258 [26:18<09:17,  8.09s/it]"
     ]
    },
    {
     "name": "stdout",
     "output_type": "stream",
     "text": [
      "torch.Size([1, 27, 13, 13])\n",
      "torch.Size([1, 27, 26, 26])\n",
      "torch.Size([1, 27, 52, 52])\n"
     ]
    },
    {
     "name": "stderr",
     "output_type": "stream",
     "text": [
      "\r\n",
      "Detecting objects:  74%|███████▎  | 190/258 [26:26<09:13,  8.14s/it]"
     ]
    },
    {
     "name": "stdout",
     "output_type": "stream",
     "text": [
      "torch.Size([1, 27, 13, 13])\n",
      "torch.Size([1, 27, 26, 26])\n",
      "torch.Size([1, 27, 52, 52])\n"
     ]
    },
    {
     "name": "stderr",
     "output_type": "stream",
     "text": [
      "\r\n",
      "Detecting objects:  74%|███████▍  | 191/258 [26:35<09:08,  8.19s/it]"
     ]
    },
    {
     "name": "stdout",
     "output_type": "stream",
     "text": [
      "torch.Size([1, 27, 13, 13])\n",
      "torch.Size([1, 27, 26, 26])\n",
      "torch.Size([1, 27, 52, 52])\n"
     ]
    },
    {
     "name": "stderr",
     "output_type": "stream",
     "text": [
      "\r\n",
      "Detecting objects:  74%|███████▍  | 192/258 [26:42<08:39,  7.86s/it]"
     ]
    },
    {
     "name": "stdout",
     "output_type": "stream",
     "text": [
      "torch.Size([1, 27, 13, 13])\n",
      "torch.Size([1, 27, 26, 26])\n",
      "torch.Size([1, 27, 52, 52])\n"
     ]
    },
    {
     "name": "stderr",
     "output_type": "stream",
     "text": [
      "\r\n",
      "Detecting objects:  75%|███████▍  | 193/258 [26:50<08:41,  8.03s/it]"
     ]
    },
    {
     "name": "stdout",
     "output_type": "stream",
     "text": [
      "torch.Size([1, 27, 13, 13])\n",
      "torch.Size([1, 27, 26, 26])\n",
      "torch.Size([1, 27, 52, 52])\n"
     ]
    },
    {
     "name": "stderr",
     "output_type": "stream",
     "text": [
      "\r\n",
      "Detecting objects:  75%|███████▌  | 194/258 [26:59<08:41,  8.15s/it]"
     ]
    },
    {
     "name": "stdout",
     "output_type": "stream",
     "text": [
      "torch.Size([1, 27, 13, 13])\n",
      "torch.Size([1, 27, 26, 26])\n",
      "torch.Size([1, 27, 52, 52])\n"
     ]
    },
    {
     "name": "stderr",
     "output_type": "stream",
     "text": [
      "\r\n",
      "Detecting objects:  76%|███████▌  | 195/258 [27:07<08:40,  8.26s/it]"
     ]
    },
    {
     "name": "stdout",
     "output_type": "stream",
     "text": [
      "torch.Size([1, 27, 13, 13])\n",
      "torch.Size([1, 27, 26, 26])\n",
      "torch.Size([1, 27, 52, 52])\n"
     ]
    },
    {
     "name": "stderr",
     "output_type": "stream",
     "text": [
      "\r\n",
      "Detecting objects:  76%|███████▌  | 196/258 [27:14<08:11,  7.93s/it]"
     ]
    },
    {
     "name": "stdout",
     "output_type": "stream",
     "text": [
      "torch.Size([1, 27, 13, 13])\n",
      "torch.Size([1, 27, 26, 26])\n",
      "torch.Size([1, 27, 52, 52])\n"
     ]
    },
    {
     "name": "stderr",
     "output_type": "stream",
     "text": [
      "\r\n",
      "Detecting objects:  76%|███████▋  | 197/258 [27:23<08:24,  8.27s/it]"
     ]
    },
    {
     "name": "stdout",
     "output_type": "stream",
     "text": [
      "torch.Size([1, 27, 13, 13])\n",
      "torch.Size([1, 27, 26, 26])\n",
      "torch.Size([1, 27, 52, 52])\n"
     ]
    },
    {
     "name": "stderr",
     "output_type": "stream",
     "text": [
      "\r\n",
      "Detecting objects:  77%|███████▋  | 198/258 [27:32<08:21,  8.35s/it]"
     ]
    },
    {
     "name": "stdout",
     "output_type": "stream",
     "text": [
      "torch.Size([1, 27, 13, 13])\n",
      "torch.Size([1, 27, 26, 26])\n",
      "torch.Size([1, 27, 52, 52])\n"
     ]
    },
    {
     "name": "stderr",
     "output_type": "stream",
     "text": [
      "\r\n",
      "Detecting objects:  77%|███████▋  | 199/258 [27:40<08:14,  8.38s/it]"
     ]
    },
    {
     "name": "stdout",
     "output_type": "stream",
     "text": [
      "torch.Size([1, 27, 13, 13])\n",
      "torch.Size([1, 27, 26, 26])\n",
      "torch.Size([1, 27, 52, 52])\n"
     ]
    },
    {
     "name": "stderr",
     "output_type": "stream",
     "text": [
      "\r\n",
      "Detecting objects:  78%|███████▊  | 200/258 [27:48<07:48,  8.08s/it]"
     ]
    },
    {
     "name": "stdout",
     "output_type": "stream",
     "text": [
      "torch.Size([1, 27, 13, 13])\n",
      "torch.Size([1, 27, 26, 26])\n",
      "torch.Size([1, 27, 52, 52])\n"
     ]
    },
    {
     "name": "stderr",
     "output_type": "stream",
     "text": [
      "\r\n",
      "Detecting objects:  78%|███████▊  | 201/258 [27:56<07:47,  8.21s/it]"
     ]
    },
    {
     "name": "stdout",
     "output_type": "stream",
     "text": [
      "torch.Size([1, 27, 13, 13])\n",
      "torch.Size([1, 27, 26, 26])\n",
      "torch.Size([1, 27, 52, 52])\n"
     ]
    },
    {
     "name": "stderr",
     "output_type": "stream",
     "text": [
      "\r\n",
      "Detecting objects:  78%|███████▊  | 202/258 [28:05<07:48,  8.37s/it]"
     ]
    },
    {
     "name": "stdout",
     "output_type": "stream",
     "text": [
      "torch.Size([1, 27, 13, 13])\n",
      "torch.Size([1, 27, 26, 26])\n",
      "torch.Size([1, 27, 52, 52])\n"
     ]
    },
    {
     "name": "stderr",
     "output_type": "stream",
     "text": [
      "\r\n",
      "Detecting objects:  79%|███████▊  | 203/258 [28:12<07:22,  8.04s/it]"
     ]
    },
    {
     "name": "stdout",
     "output_type": "stream",
     "text": [
      "torch.Size([1, 27, 13, 13])\n",
      "torch.Size([1, 27, 26, 26])\n",
      "torch.Size([1, 27, 52, 52])\n"
     ]
    },
    {
     "name": "stderr",
     "output_type": "stream",
     "text": [
      "\r\n",
      "Detecting objects:  79%|███████▉  | 204/258 [28:21<07:20,  8.16s/it]"
     ]
    },
    {
     "name": "stdout",
     "output_type": "stream",
     "text": [
      "torch.Size([1, 27, 13, 13])\n",
      "torch.Size([1, 27, 26, 26])\n",
      "torch.Size([1, 27, 52, 52])\n"
     ]
    },
    {
     "name": "stderr",
     "output_type": "stream",
     "text": [
      "\r\n",
      "Detecting objects:  79%|███████▉  | 205/258 [28:29<07:18,  8.28s/it]"
     ]
    },
    {
     "name": "stdout",
     "output_type": "stream",
     "text": [
      "torch.Size([1, 27, 13, 13])\n",
      "torch.Size([1, 27, 26, 26])\n",
      "torch.Size([1, 27, 52, 52])\n"
     ]
    },
    {
     "name": "stderr",
     "output_type": "stream",
     "text": [
      "\r\n",
      "Detecting objects:  80%|███████▉  | 206/258 [28:38<07:14,  8.35s/it]"
     ]
    },
    {
     "name": "stdout",
     "output_type": "stream",
     "text": [
      "torch.Size([1, 27, 13, 13])\n",
      "torch.Size([1, 27, 26, 26])\n",
      "torch.Size([1, 27, 52, 52])\n"
     ]
    },
    {
     "name": "stderr",
     "output_type": "stream",
     "text": [
      "\r\n",
      "Detecting objects:  80%|████████  | 207/258 [28:45<06:50,  8.05s/it]"
     ]
    },
    {
     "name": "stdout",
     "output_type": "stream",
     "text": [
      "torch.Size([1, 27, 13, 13])\n",
      "torch.Size([1, 27, 26, 26])\n",
      "torch.Size([1, 27, 52, 52])\n"
     ]
    },
    {
     "name": "stderr",
     "output_type": "stream",
     "text": [
      "\r\n",
      "Detecting objects:  81%|████████  | 208/258 [28:54<06:50,  8.20s/it]"
     ]
    },
    {
     "name": "stdout",
     "output_type": "stream",
     "text": [
      "torch.Size([1, 27, 13, 13])\n",
      "torch.Size([1, 27, 26, 26])\n",
      "torch.Size([1, 27, 52, 52])\n"
     ]
    },
    {
     "name": "stderr",
     "output_type": "stream",
     "text": [
      "\r\n",
      "Detecting objects:  81%|████████  | 209/258 [29:02<06:46,  8.31s/it]"
     ]
    },
    {
     "name": "stdout",
     "output_type": "stream",
     "text": [
      "torch.Size([1, 27, 13, 13])\n",
      "torch.Size([1, 27, 26, 26])\n",
      "torch.Size([1, 27, 52, 52])\n"
     ]
    },
    {
     "name": "stderr",
     "output_type": "stream",
     "text": [
      "\r\n",
      "Detecting objects:  81%|████████▏ | 210/258 [29:11<06:43,  8.40s/it]"
     ]
    },
    {
     "name": "stdout",
     "output_type": "stream",
     "text": [
      "torch.Size([1, 27, 13, 13])\n",
      "torch.Size([1, 27, 26, 26])\n",
      "torch.Size([1, 27, 52, 52])\n"
     ]
    },
    {
     "name": "stderr",
     "output_type": "stream",
     "text": [
      "\r\n",
      "Detecting objects:  82%|████████▏ | 211/258 [29:18<06:23,  8.15s/it]"
     ]
    },
    {
     "name": "stdout",
     "output_type": "stream",
     "text": [
      "torch.Size([1, 27, 13, 13])\n",
      "torch.Size([1, 27, 26, 26])\n",
      "torch.Size([1, 27, 52, 52])\n"
     ]
    },
    {
     "name": "stderr",
     "output_type": "stream",
     "text": [
      "\r\n",
      "Detecting objects:  82%|████████▏ | 212/258 [29:27<06:24,  8.36s/it]"
     ]
    },
    {
     "name": "stdout",
     "output_type": "stream",
     "text": [
      "torch.Size([1, 27, 13, 13])\n",
      "torch.Size([1, 27, 26, 26])\n",
      "torch.Size([1, 27, 52, 52])\n"
     ]
    },
    {
     "name": "stderr",
     "output_type": "stream",
     "text": [
      "\r\n",
      "Detecting objects:  83%|████████▎ | 213/258 [29:36<06:18,  8.40s/it]"
     ]
    },
    {
     "name": "stdout",
     "output_type": "stream",
     "text": [
      "torch.Size([1, 27, 13, 13])\n",
      "torch.Size([1, 27, 26, 26])\n",
      "torch.Size([1, 27, 52, 52])\n"
     ]
    },
    {
     "name": "stderr",
     "output_type": "stream",
     "text": [
      "\r\n",
      "Detecting objects:  83%|████████▎ | 214/258 [29:44<06:08,  8.37s/it]"
     ]
    },
    {
     "name": "stdout",
     "output_type": "stream",
     "text": [
      "torch.Size([1, 27, 13, 13])\n",
      "torch.Size([1, 27, 26, 26])\n",
      "torch.Size([1, 27, 52, 52])\n"
     ]
    },
    {
     "name": "stderr",
     "output_type": "stream",
     "text": [
      "\r\n",
      "Detecting objects:  83%|████████▎ | 215/258 [29:51<05:44,  8.01s/it]"
     ]
    },
    {
     "name": "stdout",
     "output_type": "stream",
     "text": [
      "torch.Size([1, 27, 13, 13])\n",
      "torch.Size([1, 27, 26, 26])\n",
      "torch.Size([1, 27, 52, 52])\n"
     ]
    },
    {
     "name": "stderr",
     "output_type": "stream",
     "text": [
      "\r\n",
      "Detecting objects:  84%|████████▎ | 216/258 [30:00<05:45,  8.23s/it]"
     ]
    },
    {
     "name": "stdout",
     "output_type": "stream",
     "text": [
      "torch.Size([1, 27, 13, 13])\n",
      "torch.Size([1, 27, 26, 26])\n",
      "torch.Size([1, 27, 52, 52])\n"
     ]
    },
    {
     "name": "stderr",
     "output_type": "stream",
     "text": [
      "\r\n",
      "Detecting objects:  84%|████████▍ | 217/258 [30:09<05:41,  8.33s/it]"
     ]
    },
    {
     "name": "stdout",
     "output_type": "stream",
     "text": [
      "torch.Size([1, 27, 13, 13])\n",
      "torch.Size([1, 27, 26, 26])\n",
      "torch.Size([1, 27, 52, 52])\n"
     ]
    },
    {
     "name": "stderr",
     "output_type": "stream",
     "text": [
      "\r\n",
      "Detecting objects:  84%|████████▍ | 218/258 [30:16<05:20,  8.02s/it]"
     ]
    },
    {
     "name": "stdout",
     "output_type": "stream",
     "text": [
      "torch.Size([1, 27, 13, 13])\n",
      "torch.Size([1, 27, 26, 26])\n",
      "torch.Size([1, 27, 52, 52])\n"
     ]
    },
    {
     "name": "stderr",
     "output_type": "stream",
     "text": [
      "\r\n",
      "Detecting objects:  85%|████████▍ | 219/258 [30:24<05:18,  8.17s/it]"
     ]
    },
    {
     "name": "stdout",
     "output_type": "stream",
     "text": [
      "torch.Size([1, 27, 13, 13])\n",
      "torch.Size([1, 27, 26, 26])\n",
      "torch.Size([1, 27, 52, 52])\n"
     ]
    },
    {
     "name": "stderr",
     "output_type": "stream",
     "text": [
      "\r\n",
      "Detecting objects:  85%|████████▌ | 220/258 [30:33<05:13,  8.24s/it]"
     ]
    },
    {
     "name": "stdout",
     "output_type": "stream",
     "text": [
      "torch.Size([1, 27, 13, 13])\n",
      "torch.Size([1, 27, 26, 26])\n",
      "torch.Size([1, 27, 52, 52])\n"
     ]
    },
    {
     "name": "stderr",
     "output_type": "stream",
     "text": [
      "\r\n",
      "Detecting objects:  86%|████████▌ | 221/258 [30:41<05:07,  8.31s/it]"
     ]
    },
    {
     "name": "stdout",
     "output_type": "stream",
     "text": [
      "torch.Size([1, 27, 13, 13])\n",
      "torch.Size([1, 27, 26, 26])\n",
      "torch.Size([1, 27, 52, 52])\n"
     ]
    },
    {
     "name": "stderr",
     "output_type": "stream",
     "text": [
      "\r\n",
      "Detecting objects:  86%|████████▌ | 222/258 [30:49<04:47,  7.99s/it]"
     ]
    },
    {
     "name": "stdout",
     "output_type": "stream",
     "text": [
      "torch.Size([1, 27, 13, 13])\n",
      "torch.Size([1, 27, 26, 26])\n",
      "torch.Size([1, 27, 52, 52])\n"
     ]
    },
    {
     "name": "stderr",
     "output_type": "stream",
     "text": [
      "\r\n",
      "Detecting objects:  86%|████████▋ | 223/258 [30:57<04:45,  8.16s/it]"
     ]
    },
    {
     "name": "stdout",
     "output_type": "stream",
     "text": [
      "torch.Size([1, 27, 13, 13])\n",
      "torch.Size([1, 27, 26, 26])\n",
      "torch.Size([1, 27, 52, 52])\n"
     ]
    },
    {
     "name": "stderr",
     "output_type": "stream",
     "text": [
      "\r\n",
      "Detecting objects:  87%|████████▋ | 224/258 [31:06<04:40,  8.25s/it]"
     ]
    },
    {
     "name": "stdout",
     "output_type": "stream",
     "text": [
      "torch.Size([1, 27, 13, 13])\n",
      "torch.Size([1, 27, 26, 26])\n",
      "torch.Size([1, 27, 52, 52])\n"
     ]
    },
    {
     "name": "stderr",
     "output_type": "stream",
     "text": [
      "\r\n",
      "Detecting objects:  87%|████████▋ | 225/258 [31:14<04:33,  8.28s/it]"
     ]
    },
    {
     "name": "stdout",
     "output_type": "stream",
     "text": [
      "torch.Size([1, 27, 13, 13])\n",
      "torch.Size([1, 27, 26, 26])\n",
      "torch.Size([1, 27, 52, 52])\n"
     ]
    },
    {
     "name": "stderr",
     "output_type": "stream",
     "text": [
      "\r\n",
      "Detecting objects:  88%|████████▊ | 226/258 [31:22<04:26,  8.32s/it]"
     ]
    },
    {
     "name": "stdout",
     "output_type": "stream",
     "text": [
      "torch.Size([1, 27, 13, 13])\n",
      "torch.Size([1, 27, 26, 26])\n",
      "torch.Size([1, 27, 52, 52])\n"
     ]
    },
    {
     "name": "stderr",
     "output_type": "stream",
     "text": [
      "\r\n",
      "Detecting objects:  88%|████████▊ | 227/258 [31:31<04:19,  8.36s/it]"
     ]
    },
    {
     "name": "stdout",
     "output_type": "stream",
     "text": [
      "torch.Size([1, 27, 13, 13])\n",
      "torch.Size([1, 27, 26, 26])\n",
      "torch.Size([1, 27, 52, 52])\n"
     ]
    },
    {
     "name": "stderr",
     "output_type": "stream",
     "text": [
      "\r\n",
      "Detecting objects:  88%|████████▊ | 228/258 [31:39<04:12,  8.43s/it]"
     ]
    },
    {
     "name": "stdout",
     "output_type": "stream",
     "text": [
      "torch.Size([1, 27, 13, 13])\n",
      "torch.Size([1, 27, 26, 26])\n",
      "torch.Size([1, 27, 52, 52])\n"
     ]
    },
    {
     "name": "stderr",
     "output_type": "stream",
     "text": [
      "\r\n",
      "Detecting objects:  89%|████████▉ | 229/258 [31:48<04:05,  8.46s/it]"
     ]
    },
    {
     "name": "stdout",
     "output_type": "stream",
     "text": [
      "torch.Size([1, 27, 13, 13])\n",
      "torch.Size([1, 27, 26, 26])\n",
      "torch.Size([1, 27, 52, 52])\n"
     ]
    },
    {
     "name": "stderr",
     "output_type": "stream",
     "text": [
      "\r\n",
      "Detecting objects:  89%|████████▉ | 230/258 [31:55<03:46,  8.11s/it]"
     ]
    },
    {
     "name": "stdout",
     "output_type": "stream",
     "text": [
      "torch.Size([1, 27, 13, 13])\n",
      "torch.Size([1, 27, 26, 26])\n",
      "torch.Size([1, 27, 52, 52])\n"
     ]
    },
    {
     "name": "stderr",
     "output_type": "stream",
     "text": [
      "\r\n",
      "Detecting objects:  90%|████████▉ | 231/258 [32:04<03:42,  8.25s/it]"
     ]
    },
    {
     "name": "stdout",
     "output_type": "stream",
     "text": [
      "torch.Size([1, 27, 13, 13])\n",
      "torch.Size([1, 27, 26, 26])\n",
      "torch.Size([1, 27, 52, 52])\n"
     ]
    },
    {
     "name": "stderr",
     "output_type": "stream",
     "text": [
      "\r\n",
      "Detecting objects:  90%|████████▉ | 232/258 [32:12<03:36,  8.34s/it]"
     ]
    },
    {
     "name": "stdout",
     "output_type": "stream",
     "text": [
      "torch.Size([1, 27, 13, 13])\n",
      "torch.Size([1, 27, 26, 26])\n",
      "torch.Size([1, 27, 52, 52])\n"
     ]
    },
    {
     "name": "stderr",
     "output_type": "stream",
     "text": [
      "\r\n",
      "Detecting objects:  90%|█████████ | 233/258 [32:21<03:28,  8.34s/it]"
     ]
    },
    {
     "name": "stdout",
     "output_type": "stream",
     "text": [
      "torch.Size([1, 27, 13, 13])\n",
      "torch.Size([1, 27, 26, 26])\n",
      "torch.Size([1, 27, 52, 52])\n"
     ]
    },
    {
     "name": "stderr",
     "output_type": "stream",
     "text": [
      "\r\n",
      "Detecting objects:  91%|█████████ | 234/258 [32:28<03:13,  8.05s/it]"
     ]
    },
    {
     "name": "stdout",
     "output_type": "stream",
     "text": [
      "torch.Size([1, 27, 13, 13])\n",
      "torch.Size([1, 27, 26, 26])\n",
      "torch.Size([1, 27, 52, 52])\n"
     ]
    },
    {
     "name": "stderr",
     "output_type": "stream",
     "text": [
      "\r\n",
      "Detecting objects:  91%|█████████ | 235/258 [32:37<03:08,  8.20s/it]"
     ]
    },
    {
     "name": "stdout",
     "output_type": "stream",
     "text": [
      "torch.Size([1, 27, 13, 13])\n",
      "torch.Size([1, 27, 26, 26])\n",
      "torch.Size([1, 27, 52, 52])\n"
     ]
    },
    {
     "name": "stderr",
     "output_type": "stream",
     "text": [
      "\r\n",
      "Detecting objects:  91%|█████████▏| 236/258 [32:45<03:02,  8.28s/it]"
     ]
    },
    {
     "name": "stdout",
     "output_type": "stream",
     "text": [
      "torch.Size([1, 27, 13, 13])\n",
      "torch.Size([1, 27, 26, 26])\n",
      "torch.Size([1, 27, 52, 52])\n"
     ]
    },
    {
     "name": "stderr",
     "output_type": "stream",
     "text": [
      "\r\n",
      "Detecting objects:  92%|█████████▏| 237/258 [32:52<02:47,  7.96s/it]"
     ]
    },
    {
     "name": "stdout",
     "output_type": "stream",
     "text": [
      "torch.Size([1, 27, 13, 13])\n",
      "torch.Size([1, 27, 26, 26])\n",
      "torch.Size([1, 27, 52, 52])\n"
     ]
    },
    {
     "name": "stderr",
     "output_type": "stream",
     "text": [
      "\r\n",
      "Detecting objects:  92%|█████████▏| 238/258 [33:01<02:41,  8.09s/it]"
     ]
    },
    {
     "name": "stdout",
     "output_type": "stream",
     "text": [
      "torch.Size([1, 27, 13, 13])\n",
      "torch.Size([1, 27, 26, 26])\n",
      "torch.Size([1, 27, 52, 52])\n"
     ]
    },
    {
     "name": "stderr",
     "output_type": "stream",
     "text": [
      "\r\n",
      "Detecting objects:  93%|█████████▎| 239/258 [33:09<02:37,  8.27s/it]"
     ]
    },
    {
     "name": "stdout",
     "output_type": "stream",
     "text": [
      "torch.Size([1, 27, 13, 13])\n",
      "torch.Size([1, 27, 26, 26])\n",
      "torch.Size([1, 27, 52, 52])\n"
     ]
    },
    {
     "name": "stderr",
     "output_type": "stream",
     "text": [
      "\r\n",
      "Detecting objects:  93%|█████████▎| 240/258 [33:18<02:29,  8.33s/it]"
     ]
    },
    {
     "name": "stdout",
     "output_type": "stream",
     "text": [
      "torch.Size([1, 27, 13, 13])\n",
      "torch.Size([1, 27, 26, 26])\n",
      "torch.Size([1, 27, 52, 52])\n"
     ]
    },
    {
     "name": "stderr",
     "output_type": "stream",
     "text": [
      "\r\n",
      "Detecting objects:  93%|█████████▎| 241/258 [33:26<02:19,  8.21s/it]"
     ]
    },
    {
     "name": "stdout",
     "output_type": "stream",
     "text": [
      "torch.Size([1, 27, 13, 13])\n",
      "torch.Size([1, 27, 26, 26])\n",
      "torch.Size([1, 27, 52, 52])\n"
     ]
    },
    {
     "name": "stderr",
     "output_type": "stream",
     "text": [
      "\r\n",
      "Detecting objects:  94%|█████████▍| 242/258 [33:34<02:13,  8.35s/it]"
     ]
    },
    {
     "name": "stdout",
     "output_type": "stream",
     "text": [
      "torch.Size([1, 27, 13, 13])\n",
      "torch.Size([1, 27, 26, 26])\n",
      "torch.Size([1, 27, 52, 52])\n"
     ]
    },
    {
     "name": "stderr",
     "output_type": "stream",
     "text": [
      "\r\n",
      "Detecting objects:  94%|█████████▍| 243/258 [33:43<02:06,  8.41s/it]"
     ]
    },
    {
     "name": "stdout",
     "output_type": "stream",
     "text": [
      "torch.Size([1, 27, 13, 13])\n",
      "torch.Size([1, 27, 26, 26])\n",
      "torch.Size([1, 27, 52, 52])\n"
     ]
    },
    {
     "name": "stderr",
     "output_type": "stream",
     "text": [
      "\r\n",
      "Detecting objects:  95%|█████████▍| 244/258 [33:51<01:58,  8.44s/it]"
     ]
    },
    {
     "name": "stdout",
     "output_type": "stream",
     "text": [
      "torch.Size([1, 27, 13, 13])\n",
      "torch.Size([1, 27, 26, 26])\n",
      "torch.Size([1, 27, 52, 52])\n"
     ]
    },
    {
     "name": "stderr",
     "output_type": "stream",
     "text": [
      "\r\n",
      "Detecting objects:  95%|█████████▍| 245/258 [33:59<01:45,  8.13s/it]"
     ]
    },
    {
     "name": "stdout",
     "output_type": "stream",
     "text": [
      "torch.Size([1, 27, 13, 13])\n",
      "torch.Size([1, 27, 26, 26])\n",
      "torch.Size([1, 27, 52, 52])\n"
     ]
    },
    {
     "name": "stderr",
     "output_type": "stream",
     "text": [
      "\r\n",
      "Detecting objects:  95%|█████████▌| 246/258 [34:07<01:39,  8.28s/it]"
     ]
    },
    {
     "name": "stdout",
     "output_type": "stream",
     "text": [
      "torch.Size([1, 27, 13, 13])\n",
      "torch.Size([1, 27, 26, 26])\n",
      "torch.Size([1, 27, 52, 52])\n"
     ]
    },
    {
     "name": "stderr",
     "output_type": "stream",
     "text": [
      "\r\n",
      "Detecting objects:  96%|█████████▌| 247/258 [34:16<01:31,  8.36s/it]"
     ]
    },
    {
     "name": "stdout",
     "output_type": "stream",
     "text": [
      "torch.Size([1, 27, 13, 13])\n",
      "torch.Size([1, 27, 26, 26])\n",
      "torch.Size([1, 27, 52, 52])\n"
     ]
    },
    {
     "name": "stderr",
     "output_type": "stream",
     "text": [
      "\r\n",
      "Detecting objects:  96%|█████████▌| 248/258 [34:24<01:24,  8.40s/it]"
     ]
    },
    {
     "name": "stdout",
     "output_type": "stream",
     "text": [
      "torch.Size([1, 27, 13, 13])\n",
      "torch.Size([1, 27, 26, 26])\n",
      "torch.Size([1, 27, 52, 52])\n"
     ]
    },
    {
     "name": "stderr",
     "output_type": "stream",
     "text": [
      "\r\n",
      "Detecting objects:  97%|█████████▋| 249/258 [34:32<01:12,  8.10s/it]"
     ]
    },
    {
     "name": "stdout",
     "output_type": "stream",
     "text": [
      "torch.Size([1, 27, 13, 13])\n",
      "torch.Size([1, 27, 26, 26])\n",
      "torch.Size([1, 27, 52, 52])\n"
     ]
    },
    {
     "name": "stderr",
     "output_type": "stream",
     "text": [
      "\r\n",
      "Detecting objects:  97%|█████████▋| 250/258 [34:40<01:05,  8.21s/it]"
     ]
    },
    {
     "name": "stdout",
     "output_type": "stream",
     "text": [
      "torch.Size([1, 27, 13, 13])\n",
      "torch.Size([1, 27, 26, 26])\n",
      "torch.Size([1, 27, 52, 52])\n"
     ]
    },
    {
     "name": "stderr",
     "output_type": "stream",
     "text": [
      "\r\n",
      "Detecting objects:  97%|█████████▋| 251/258 [34:49<00:57,  8.28s/it]"
     ]
    },
    {
     "name": "stdout",
     "output_type": "stream",
     "text": [
      "torch.Size([1, 27, 13, 13])\n",
      "torch.Size([1, 27, 26, 26])\n",
      "torch.Size([1, 27, 52, 52])\n"
     ]
    },
    {
     "name": "stderr",
     "output_type": "stream",
     "text": [
      "\r\n",
      "Detecting objects:  98%|█████████▊| 252/258 [34:56<00:47,  7.96s/it]"
     ]
    },
    {
     "name": "stdout",
     "output_type": "stream",
     "text": [
      "torch.Size([1, 27, 13, 13])\n",
      "torch.Size([1, 27, 26, 26])\n",
      "torch.Size([1, 27, 52, 52])\n"
     ]
    },
    {
     "name": "stderr",
     "output_type": "stream",
     "text": [
      "\r\n",
      "Detecting objects:  98%|█████████▊| 253/258 [35:04<00:40,  8.11s/it]"
     ]
    },
    {
     "name": "stdout",
     "output_type": "stream",
     "text": [
      "torch.Size([1, 27, 13, 13])\n",
      "torch.Size([1, 27, 26, 26])\n",
      "torch.Size([1, 27, 52, 52])\n"
     ]
    },
    {
     "name": "stderr",
     "output_type": "stream",
     "text": [
      "\r\n",
      "Detecting objects:  98%|█████████▊| 254/258 [35:13<00:32,  8.24s/it]"
     ]
    },
    {
     "name": "stdout",
     "output_type": "stream",
     "text": [
      "torch.Size([1, 27, 13, 13])\n",
      "torch.Size([1, 27, 26, 26])\n",
      "torch.Size([1, 27, 52, 52])\n"
     ]
    },
    {
     "name": "stderr",
     "output_type": "stream",
     "text": [
      "\r\n",
      "Detecting objects:  99%|█████████▉| 255/258 [35:22<00:25,  8.58s/it]"
     ]
    },
    {
     "name": "stdout",
     "output_type": "stream",
     "text": [
      "torch.Size([1, 27, 13, 13])\n",
      "torch.Size([1, 27, 26, 26])\n",
      "torch.Size([1, 27, 52, 52])\n"
     ]
    },
    {
     "name": "stderr",
     "output_type": "stream",
     "text": [
      "\r\n",
      "Detecting objects:  99%|█████████▉| 256/258 [35:30<00:16,  8.17s/it]"
     ]
    },
    {
     "name": "stdout",
     "output_type": "stream",
     "text": [
      "torch.Size([1, 27, 13, 13])\n",
      "torch.Size([1, 27, 26, 26])\n",
      "torch.Size([1, 27, 52, 52])\n"
     ]
    },
    {
     "name": "stderr",
     "output_type": "stream",
     "text": [
      "\r\n",
      "Detecting objects: 100%|█████████▉| 257/258 [35:38<00:08,  8.29s/it]"
     ]
    },
    {
     "name": "stdout",
     "output_type": "stream",
     "text": [
      "torch.Size([1, 27, 13, 13])\n",
      "torch.Size([1, 27, 26, 26])\n",
      "torch.Size([1, 27, 52, 52])\n"
     ]
    },
    {
     "name": "stderr",
     "output_type": "stream",
     "text": [
      "Detecting objects: 100%|██████████| 258/258 [35:47<00:00,  8.32s/it]\n"
     ]
    },
    {
     "name": "stdout",
     "output_type": "stream",
     "text": [
      "torch.Size([1, 27, 13, 13])\n",
      "torch.Size([1, 27, 26, 26])\n",
      "torch.Size([1, 27, 52, 52])\n"
     ]
    },
    {
     "name": "stderr",
     "output_type": "stream",
     "text": [
      "Computing AP for class '0': 100%|██████████| 258/258 [00:00<00:00, 15660.13it/s]\n",
      "Computing AP for class '1': 100%|██████████| 258/258 [00:00<00:00, 22767.31it/s]\n",
      "Computing AP for class '2': 100%|██████████| 258/258 [00:00<00:00, 25393.78it/s]\n",
      "Computing AP for class '3': 100%|██████████| 258/258 [00:00<00:00, 32900.50it/s]"
     ]
    },
    {
     "name": "stdout",
     "output_type": "stream",
     "text": [
      "Average Precisions:\n",
      "+ Class '0' - AP: 0.09786155664138904\n",
      "+ Class '1' - AP: 0.44125535218903333\n",
      "+ Class '2' - AP: 0.10047965653077043\n",
      "+ Class '3' - AP: 0.0006153846153846154\n",
      "mAP: 0.16005298749414434\n",
      "testing end\n",
      "export config\n",
      "\n",
      "\u001b[0;32m[VAIQ_NOTE]: =>Exporting quant config.(quant_dir/quant_info.json)\u001b[0m\n",
      "export config end\n",
      "Execution time: 35.0:0.0:51:104, processed 258 frames, throughput: 0.1199383824794463 fps.\n"
     ]
    },
    {
     "name": "stderr",
     "output_type": "stream",
     "text": [
      "\n"
     ]
    }
   ],
   "source": [
    "quantize(float_model=net, \n",
    "         input_shape=batch_shape,\n",
    "         quant_dir='quant_dir',\n",
    "         quant_mode='calib',\n",
    "         device=device,\n",
    "         dataloader=loader\n",
    "         )"
   ]
  },
  {
   "cell_type": "code",
   "execution_count": 17,
   "metadata": {},
   "outputs": [
    {
     "name": "stdout",
     "output_type": "stream",
     "text": [
      "Before tm\n",
      "before import\n",
      "Before device\n",
      "get qunatizer start\n",
      "\n",
      "\u001b[0;32m[VAIQ_NOTE]: Quantization test process start up...\u001b[0m\n",
      "\n",
      "\u001b[0;32m[VAIQ_NOTE]: =>Quant Module is in 'cpu'.\u001b[0m\n",
      "\n",
      "\u001b[0;32m[VAIQ_NOTE]: =>Parsing Darknet...\u001b[0m\n",
      "\n",
      "\u001b[0;32m[VAIQ_NOTE]: Start to trace model...\u001b[0m\n",
      "\n",
      "\u001b[0;32m[VAIQ_NOTE]: Finish tracing.\u001b[0m\n",
      "\n",
      "\u001b[0;32m[VAIQ_NOTE]: Processing ops...\u001b[0m\n"
     ]
    },
    {
     "name": "stderr",
     "output_type": "stream",
     "text": [
      "██████████████████████████████████████████████████| 249/249 [00:00<00:00, 1307.79it/s, OpInfo: name = Darknet/Sequential[module_list]/ModuleList[105]/Conv2d[conv_105]/9783, type = _convolution]            \n"
     ]
    },
    {
     "name": "stdout",
     "output_type": "stream",
     "text": [
      "\n",
      "\u001b[0;32m[VAIQ_NOTE]: =>Doing weights equalization...\u001b[0m\n",
      "\n",
      "\u001b[0;32m[VAIQ_NOTE]: =>Quantizable module is generated.(quant_dir/Darknet.py)\u001b[0m\n",
      "get qunatizer end\n",
      "get quantized model start\n",
      "\n",
      "\u001b[0;32m[VAIQ_NOTE]: =>Get module with quantization.\u001b[0m\n",
      "get quantized model end\n",
      "testing st\n",
      "conf: 0.8 nms: 0.5\n",
      "Init done\n",
      "Init done\n",
      "Init done\n",
      "Compute mAP...\n"
     ]
    },
    {
     "name": "stderr",
     "output_type": "stream",
     "text": [
      "Detecting objects: 100%|██████████| 258/258 [04:27<00:00,  1.04s/it]\n",
      "Computing AP for class '0': 100%|██████████| 258/258 [00:00<00:00, 18142.55it/s]\n",
      "Computing AP for class '1': 100%|██████████| 258/258 [00:00<00:00, 40489.80it/s]\n",
      "Computing AP for class '2': 100%|██████████| 258/258 [00:00<00:00, 34831.03it/s]\n",
      "Computing AP for class '3': 100%|██████████| 258/258 [00:00<00:00, 94459.71it/s]\n"
     ]
    },
    {
     "name": "stdout",
     "output_type": "stream",
     "text": [
      "Average Precisions:\n",
      "+ Class '0' - AP: 0.06040067883872402\n",
      "+ Class '1' - AP: 0.33360889642414104\n",
      "+ Class '2' - AP: 0.06665883458646617\n",
      "+ Class '3' - AP: 0.0008\n",
      "mAP: 0.11536710246233281\n",
      "conf: 0.6 nms: 0.3\n",
      "Init done\n",
      "Init done\n",
      "Init done\n",
      "Compute mAP...\n"
     ]
    },
    {
     "name": "stderr",
     "output_type": "stream",
     "text": [
      "Detecting objects: 100%|██████████| 258/258 [05:09<00:00,  1.20s/it]\n",
      "Computing AP for class '0': 100%|██████████| 258/258 [00:00<00:00, 24907.48it/s]\n",
      "Computing AP for class '1': 100%|██████████| 258/258 [00:00<00:00, 36827.20it/s]\n",
      "Computing AP for class '2': 100%|██████████| 258/258 [00:00<00:00, 66777.56it/s]\n",
      "Computing AP for class '3': 100%|██████████| 258/258 [00:00<00:00, 130267.30it/s]\n"
     ]
    },
    {
     "name": "stdout",
     "output_type": "stream",
     "text": [
      "Average Precisions:\n",
      "+ Class '0' - AP: 0.06414657423189128\n",
      "+ Class '1' - AP: 0.4088424440108912\n",
      "+ Class '2' - AP: 0.09165759714211771\n",
      "+ Class '3' - AP: 0.0008\n",
      "mAP: 0.14136165384622507\n",
      "conf: 0.5 nms: 0.2\n",
      "Init done\n",
      "Init done\n",
      "Init done\n",
      "Compute mAP...\n"
     ]
    },
    {
     "name": "stderr",
     "output_type": "stream",
     "text": [
      "Detecting objects: 100%|██████████| 258/258 [05:21<00:00,  1.25s/it]\n",
      "Computing AP for class '0': 100%|██████████| 258/258 [00:00<00:00, 22182.53it/s]\n",
      "Computing AP for class '1': 100%|██████████| 258/258 [00:00<00:00, 22097.37it/s]\n",
      "Computing AP for class '2': 100%|██████████| 258/258 [00:00<00:00, 23909.73it/s]\n",
      "Computing AP for class '3': 100%|██████████| 258/258 [00:00<00:00, 46294.35it/s]\n"
     ]
    },
    {
     "name": "stdout",
     "output_type": "stream",
     "text": [
      "Average Precisions:\n",
      "+ Class '0' - AP: 0.0781773519694181\n",
      "+ Class '1' - AP: 0.418834940660817\n",
      "+ Class '2' - AP: 0.10149272539479046\n",
      "+ Class '3' - AP: 0.0013714285714285714\n",
      "mAP: 0.14996911164911353\n",
      "conf: 0.2 nms: 0.5\n",
      "Init done\n",
      "Init done\n",
      "Init done\n",
      "Compute mAP...\n"
     ]
    },
    {
     "name": "stderr",
     "output_type": "stream",
     "text": [
      "Detecting objects: 100%|██████████| 258/258 [05:01<00:00,  1.17s/it]\n",
      "Computing AP for class '0': 100%|██████████| 258/258 [00:00<00:00, 19016.44it/s]\n",
      "Computing AP for class '1': 100%|██████████| 258/258 [00:00<00:00, 14626.55it/s]\n",
      "Computing AP for class '2': 100%|██████████| 258/258 [00:00<00:00, 22517.64it/s]\n",
      "Computing AP for class '3': 100%|██████████| 258/258 [00:00<00:00, 33126.10it/s]\n"
     ]
    },
    {
     "name": "stdout",
     "output_type": "stream",
     "text": [
      "Average Precisions:\n",
      "+ Class '0' - AP: 0.08285876768790429\n",
      "+ Class '1' - AP: 0.38321437194996294\n",
      "+ Class '2' - AP: 0.10187862393657665\n",
      "+ Class '3' - AP: 0.0011555555555555555\n",
      "mAP: 0.14227682978249986\n",
      "conf: 0.3 nms: 0.3\n",
      "Init done\n",
      "Init done\n",
      "Init done\n",
      "Compute mAP...\n"
     ]
    },
    {
     "name": "stderr",
     "output_type": "stream",
     "text": [
      "Detecting objects: 100%|██████████| 258/258 [04:55<00:00,  1.15s/it]\n",
      "Computing AP for class '0': 100%|██████████| 258/258 [00:00<00:00, 14113.39it/s]\n",
      "Computing AP for class '1': 100%|██████████| 258/258 [00:00<00:00, 23465.91it/s]\n",
      "Computing AP for class '2': 100%|██████████| 258/258 [00:00<00:00, 22248.66it/s]\n",
      "Computing AP for class '3': 100%|██████████| 258/258 [00:00<00:00, 45269.85it/s]\n"
     ]
    },
    {
     "name": "stdout",
     "output_type": "stream",
     "text": [
      "Average Precisions:\n",
      "+ Class '0' - AP: 0.08658499582201792\n",
      "+ Class '1' - AP: 0.43953633434060735\n",
      "+ Class '2' - AP: 0.10229808634295572\n",
      "+ Class '3' - AP: 0.0011404255319148937\n",
      "mAP: 0.15738996050937396\n",
      "conf: 0.2 nms: 0.2\n",
      "Init done\n",
      "Init done\n",
      "Init done\n",
      "Compute mAP...\n"
     ]
    },
    {
     "name": "stderr",
     "output_type": "stream",
     "text": [
      "Detecting objects: 100%|██████████| 258/258 [04:49<00:00,  1.12s/it]\n",
      "Computing AP for class '0': 100%|██████████| 258/258 [00:00<00:00, 28730.40it/s]\n",
      "Computing AP for class '1': 100%|██████████| 258/258 [00:00<00:00, 20718.16it/s]\n",
      "Computing AP for class '2': 100%|██████████| 258/258 [00:00<00:00, 31659.76it/s]\n",
      "Computing AP for class '3': 100%|██████████| 258/258 [00:00<00:00, 65787.00it/s]\n"
     ]
    },
    {
     "name": "stdout",
     "output_type": "stream",
     "text": [
      "Average Precisions:\n",
      "+ Class '0' - AP: 0.08706844170358757\n",
      "+ Class '1' - AP: 0.4294260835546006\n",
      "+ Class '2' - AP: 0.10747188366615357\n",
      "+ Class '3' - AP: 0.0013925925925925926\n",
      "mAP: 0.1563397503792336\n",
      "conf: 0.1 nms: 0.1\n",
      "Init done\n",
      "Init done\n",
      "Init done\n",
      "Compute mAP...\n"
     ]
    },
    {
     "name": "stderr",
     "output_type": "stream",
     "text": [
      "Detecting objects: 100%|██████████| 258/258 [04:47<00:00,  1.12s/it]\n",
      "Computing AP for class '0': 100%|██████████| 258/258 [00:00<00:00, 17277.87it/s]\n",
      "Computing AP for class '1': 100%|██████████| 258/258 [00:00<00:00, 26738.42it/s]\n",
      "Computing AP for class '2': 100%|██████████| 258/258 [00:00<00:00, 17620.83it/s]\n",
      "Computing AP for class '3': 100%|██████████| 258/258 [00:00<00:00, 30961.36it/s]"
     ]
    },
    {
     "name": "stdout",
     "output_type": "stream",
     "text": [
      "Average Precisions:\n",
      "+ Class '0' - AP: 0.08770905751647373\n",
      "+ Class '1' - AP: 0.438294162489611\n",
      "+ Class '2' - AP: 0.10447825205929256\n",
      "+ Class '3' - AP: 0.001284848484848485\n",
      "mAP: 0.15794158013755644\n",
      "testing end\n",
      "export xmodel\n",
      "\n",
      "\u001b[0;32m[VAIQ_NOTE]: =>Converting to xmodel ...\u001b[0m\n"
     ]
    },
    {
     "name": "stderr",
     "output_type": "stream",
     "text": [
      "\n"
     ]
    },
    {
     "name": "stdout",
     "output_type": "stream",
     "text": [
      "\n",
      "\u001b[0;32m[VAIQ_NOTE]: =>Successfully convert 'Darknet' to xmodel.(quant_dir/Darknet_int.xmodel)\u001b[0m\n",
      "export xmodel end\n",
      "Execution time: 34.0:0.0:43:698, processed 258 frames, throughput: 0.12381831440381136 fps.\n"
     ]
    }
   ],
   "source": [
    "quantize(float_model=net, \n",
    "         input_shape=batch_shape,\n",
    "         quant_dir='quant_dir', # directory for quantizer results\n",
    "         quant_mode='test',\n",
    "         device=device,\n",
    "         dataloader=loader\n",
    "         )"
   ]
  },
  {
   "cell_type": "markdown",
   "metadata": {},
   "source": [
    "Kompilacja modelu"
   ]
  },
  {
   "cell_type": "code",
   "execution_count": 12,
   "metadata": {
    "scrolled": true
   },
   "outputs": [
    {
     "name": "stdout",
     "output_type": "stream",
     "text": [
      "**************************************************\n",
      "* VITIS_AI Compilation - Xilinx Inc.\n",
      "**************************************************\n",
      "[UNILOG][INFO] Compile mode: dpu\n",
      "[UNILOG][INFO] Debug mode: function\n",
      "[UNILOG][INFO] Target architecture: DPUCZDX8G_ISA0_B4096_MAX_BG2\n",
      "[UNILOG][INFO] Graph name: Darknet, with op num: 580\n",
      "[UNILOG][INFO] Begin to compile...\n",
      "[UNILOG][INFO] Total device subgraph number 5, DPU subgraph number 1\n",
      "[UNILOG][INFO] Compile done.\n",
      "[UNILOG][INFO] The meta json is saved to \"/workspace/build/meta.json\"\n",
      "[UNILOG][INFO] The compiled xmodel is saved to \"/workspace/build/Darknet_qu.xmodel\"\n",
      "[UNILOG][INFO] The compiled xmodel's md5sum is abe338161e3435855b032ed967e566d3, and has been saved to \"/workspace/build/md5sum.txt\"\n"
     ]
    }
   ],
   "source": [
    "# compile model\n",
    "!vai_c_xir --xmodel 'quant_dir/Darknet_int.xmodel' --arch arch.json --net_name Darknet_qu --output_dir build"
   ]
  },
  {
   "cell_type": "code",
   "execution_count": null,
   "metadata": {},
   "outputs": [],
   "source": []
  }
 ],
 "metadata": {
  "kernelspec": {
   "display_name": "Python 3",
   "language": "python",
   "name": "python3"
  },
  "language_info": {
   "codemirror_mode": {
    "name": "ipython",
    "version": 3
   },
   "file_extension": ".py",
   "mimetype": "text/x-python",
   "name": "python",
   "nbconvert_exporter": "python",
   "pygments_lexer": "ipython3",
   "version": "3.6.15"
  }
 },
 "nbformat": 4,
 "nbformat_minor": 2
}
